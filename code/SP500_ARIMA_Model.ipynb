{
 "cells": [
  {
   "cell_type": "code",
   "execution_count": 248,
   "metadata": {},
   "outputs": [],
   "source": [
    "import pandas as pd\n",
    "import matplotlib.pyplot as plt\n",
    "import statsmodels as sm\n",
    "from statsmodels.tsa.stattools import adfuller\n",
    "from statsmodels.graphics.tsaplots import plot_acf, plot_pacf\n",
    "from statsmodels.tsa.arima_model import ARIMA\n",
    "import statistics\n",
    "import matplotlib.style as style"
   ]
  },
  {
   "cell_type": "code",
   "execution_count": 249,
   "metadata": {},
   "outputs": [
    {
     "data": {
      "text/plain": [
       "['seaborn-dark',\n",
       " 'seaborn-darkgrid',\n",
       " 'seaborn-ticks',\n",
       " 'fivethirtyeight',\n",
       " 'seaborn-whitegrid',\n",
       " 'classic',\n",
       " '_classic_test',\n",
       " 'fast',\n",
       " 'seaborn-talk',\n",
       " 'seaborn-dark-palette',\n",
       " 'seaborn-bright',\n",
       " 'seaborn-pastel',\n",
       " 'grayscale',\n",
       " 'seaborn-notebook',\n",
       " 'ggplot',\n",
       " 'seaborn-colorblind',\n",
       " 'seaborn-muted',\n",
       " 'seaborn',\n",
       " 'Solarize_Light2',\n",
       " 'seaborn-paper',\n",
       " 'bmh',\n",
       " 'tableau-colorblind10',\n",
       " 'seaborn-white',\n",
       " 'dark_background',\n",
       " 'seaborn-poster',\n",
       " 'seaborn-deep']"
      ]
     },
     "execution_count": 249,
     "metadata": {},
     "output_type": "execute_result"
    }
   ],
   "source": [
    "style.available"
   ]
  },
  {
   "cell_type": "code",
   "execution_count": 283,
   "metadata": {},
   "outputs": [
    {
     "name": "stdout",
     "output_type": "stream",
     "text": [
      "df.describe() \r\n",
      "          Adj Close\n",
      "count  1296.000000\n",
      "mean   2477.317267\n",
      "std     379.878172\n",
      "min    1829.079956\n",
      "25%    2104.147461\n",
      "50%    2447.859986\n",
      "75%    2791.734986\n",
      "max    3386.149902\n"
     ]
    },
    {
     "data": {
      "text/html": [
       "<div>\n",
       "<style scoped>\n",
       "    .dataframe tbody tr th:only-of-type {\n",
       "        vertical-align: middle;\n",
       "    }\n",
       "\n",
       "    .dataframe tbody tr th {\n",
       "        vertical-align: top;\n",
       "    }\n",
       "\n",
       "    .dataframe thead th {\n",
       "        text-align: right;\n",
       "    }\n",
       "</style>\n",
       "<table border=\"1\" class=\"dataframe\">\n",
       "  <thead>\n",
       "    <tr style=\"text-align: right;\">\n",
       "      <th></th>\n",
       "      <th>SP500</th>\n",
       "    </tr>\n",
       "    <tr>\n",
       "      <th>Date</th>\n",
       "      <th></th>\n",
       "    </tr>\n",
       "  </thead>\n",
       "  <tbody>\n",
       "    <tr>\n",
       "      <td>2015-01-02</td>\n",
       "      <td>2058.199951</td>\n",
       "    </tr>\n",
       "    <tr>\n",
       "      <td>2015-01-05</td>\n",
       "      <td>2020.579956</td>\n",
       "    </tr>\n",
       "    <tr>\n",
       "      <td>2015-01-06</td>\n",
       "      <td>2002.609985</td>\n",
       "    </tr>\n",
       "    <tr>\n",
       "      <td>2015-01-07</td>\n",
       "      <td>2025.900024</td>\n",
       "    </tr>\n",
       "    <tr>\n",
       "      <td>2015-01-08</td>\n",
       "      <td>2062.139893</td>\n",
       "    </tr>\n",
       "    <tr>\n",
       "      <td>...</td>\n",
       "      <td>...</td>\n",
       "    </tr>\n",
       "    <tr>\n",
       "      <td>2019-05-10</td>\n",
       "      <td>2881.399902</td>\n",
       "    </tr>\n",
       "    <tr>\n",
       "      <td>2019-05-13</td>\n",
       "      <td>2811.870117</td>\n",
       "    </tr>\n",
       "    <tr>\n",
       "      <td>2019-05-14</td>\n",
       "      <td>2834.409912</td>\n",
       "    </tr>\n",
       "    <tr>\n",
       "      <td>2019-05-15</td>\n",
       "      <td>2850.959961</td>\n",
       "    </tr>\n",
       "    <tr>\n",
       "      <td>2019-05-16</td>\n",
       "      <td>2876.320068</td>\n",
       "    </tr>\n",
       "  </tbody>\n",
       "</table>\n",
       "<p>1100 rows × 1 columns</p>\n",
       "</div>"
      ],
      "text/plain": [
       "                  SP500\n",
       "Date                   \n",
       "2015-01-02  2058.199951\n",
       "2015-01-05  2020.579956\n",
       "2015-01-06  2002.609985\n",
       "2015-01-07  2025.900024\n",
       "2015-01-08  2062.139893\n",
       "...                 ...\n",
       "2019-05-10  2881.399902\n",
       "2019-05-13  2811.870117\n",
       "2019-05-14  2834.409912\n",
       "2019-05-15  2850.959961\n",
       "2019-05-16  2876.320068\n",
       "\n",
       "[1100 rows x 1 columns]"
      ]
     },
     "metadata": {},
     "output_type": "display_data"
    }
   ],
   "source": [
    "monthly_sentiment_series = pd.read_csv('Dataset/SP500.csv',\n",
    "                                     index_col=0, parse_dates=True,\n",
    "                                     squeeze=True)\n",
    "\n",
    "monthly_sentiment_series = monthly_sentiment_series.drop(columns = ['Open',\n",
    "                                                  'High',\n",
    "                                                  'Low',\n",
    "                                                  'Close',\n",
    "                                                  'Volume'])\n",
    "#squeeze option will return a series\n",
    "df_full = monthly_sentiment_series\n",
    "#print(df_full.tail())\n",
    "#print('type(df): ', type(df_full.index))\n",
    "#print('df.dtypes: ', df_full.dtypes)\n",
    "print('df.describe() \\r\\n', df_full.describe())\n",
    "df_train = df_full.iloc[0:1100].rename(columns={0:'Date', 'Adj Close':'SP500'})\n",
    "df_test = df_full.iloc[1100:].rename(columns={0:'Date', 'Adj Close':'SP500'})\n",
    "#print('df.describe() \\r\\n', df_train.describe())\n",
    "display(df_train)"
   ]
  },
  {
   "cell_type": "markdown",
   "metadata": {},
   "source": [
    "Autoregressive - forecast next timestamp's values by regressing over previous values\n",
    "AUTOREGRESSIVE - CORRELATION DECREASES AS N INCREASES\n",
    "\n",
    "Moving average - forecast next timestamp's values based on previous errors values \n",
    "Moving average - calculates how much the time series is MOVING AWAY FROM THE AVERAGE.\n",
    "MOVING AVERAGE - COVARIANCE IS ZERO\n",
    "\n",
    "ARIMA - useful for non-stationary data, allows us to difference the data. Also includes seasonal differencing parameter for non-stationary data"
   ]
  },
  {
   "cell_type": "code",
   "execution_count": 562,
   "metadata": {},
   "outputs": [
    {
     "name": "stdout",
     "output_type": "stream",
     "text": [
      "                  SP500\n",
      "Date                   \n",
      "2019-05-10  2881.399902\n",
      "2019-05-13  2811.870117\n",
      "2019-05-14  2834.409912\n",
      "2019-05-15  2850.959961\n",
      "2019-05-16  2876.320068\n"
     ]
    }
   ],
   "source": [
    "df_train_diff1 = df_train.diff().fillna(0)\n",
    "df_train_diff2 = df_train_diff1.diff().fillna(0)\n",
    "print(df_train.tail())"
   ]
  },
  {
   "cell_type": "code",
   "execution_count": 563,
   "metadata": {
    "scrolled": true
   },
   "outputs": [
    {
     "data": {
      "image/png": "[encoded data removed]",
      "text/plain": [
       "<Figure size 576x360 with 1 Axes>"
      ]
     },
     "metadata": {},
     "output_type": "display_data"
    }
   ],
   "source": [
    "style.use('fivethirtyeight')\n",
    "fig, ax= plt.subplots(figsize=(8,5))\n",
    "fig.tight_layout()\n",
    "ax.plot(df_train, label='SP500')\n",
    "ax.plot(df_train_diff1, linestyle='dashed', label='diff1')\n",
    "ax.plot(df_train_diff2, linestyle='dotted', label='diff2')\n",
    "ax.legend(loc='best', frameon=False)\n",
    "ax.tick_params(axis='both', which='major', labelsize=18)\n",
    "ax.axhline(y = -20, color = 'black', linewidth = 1.3, alpha = .7)\n",
    "ax.set_ylabel('SP500 Index')\n",
    "ax.set_xlabel('Year')\n",
    "plt.title('SP500')\n",
    "plt.xticks(rotation=90)\n",
    "plt.show()"
   ]
  },
  {
   "cell_type": "markdown",
   "metadata": {},
   "source": [
    "## look at ACF and PACF plots"
   ]
  },
  {
   "cell_type": "markdown",
   "metadata": {},
   "source": [
    "ACF and PACF charts will give us an idea of the number of terms in the ARIMA model."
   ]
  },
  {
   "cell_type": "code",
   "execution_count": 606,
   "metadata": {},
   "outputs": [
    {
     "data": {
      "image/png": "[encoded data removed]",
      "text/plain": [
       "<Figure size 432x288 with 1 Axes>"
      ]
     },
     "metadata": {},
     "output_type": "display_data"
    }
   ],
   "source": [
    "plot_acf(df_train_diff1, c='blue', label='diff1')\n",
    "plt.legend(loc='upper right')\n",
    "# plot_acf(df_train_diff2, c='blue', label='diff2')\n",
    "# plt.legend(loc='upper right')\n",
    "plt.show()"
   ]
  },
  {
   "cell_type": "code",
   "execution_count": 565,
   "metadata": {},
   "outputs": [
    {
     "data": {
      "image/png": "[encoded data removed]",
      "text/plain": [
       "<Figure size 432x288 with 1 Axes>"
      ]
     },
     "metadata": {},
     "output_type": "display_data"
    }
   ],
   "source": [
    "plot_pacf(df_train_diff1, c='orange', label='diff1')\n",
    "plt.legend(loc='upper right')\n",
    "# plot_pacf(df_train_diff2,  label='diff2')\n",
    "# plt.legend(loc='upper right')\n",
    "plt.show()\n"
   ]
  },
  {
   "cell_type": "code",
   "execution_count": 561,
   "metadata": {},
   "outputs": [],
   "source": [
    "# blue area - 95% confidence interval. anything outside blue area --> significant correlation.\n",
    "# any significant spike in lag x in ACF plot --> number of moving average terms.\n",
    "# any significant spike in lag x in PACF plot --> number of autoregressive terms."
   ]
  },
  {
   "cell_type": "code",
   "execution_count": 595,
   "metadata": {
    "scrolled": true
   },
   "outputs": [
    {
     "name": "stderr",
     "output_type": "stream",
     "text": [
      "/Users/samypalaniappan/opt/miniconda3/lib/python3.7/site-packages/statsmodels/tsa/base/tsa_model.py:219: ValueWarning: A date index has been provided, but it has no associated frequency information and so will be ignored when e.g. forecasting.\n",
      "  ' ignored when e.g. forecasting.', ValueWarning)\n"
     ]
    },
    {
     "name": "stdout",
     "output_type": "stream",
     "text": [
      "                              ARMA Model Results                              \n",
      "==============================================================================\n",
      "Dep. Variable:                  SP500   No. Observations:                 1100\n",
      "Model:                     ARMA(5, 3)   Log Likelihood               -4857.779\n",
      "Method:                       css-mle   S.D. of innovations             20.028\n",
      "Date:                Fri, 06 Mar 2020   AIC                           9735.558\n",
      "Time:                        17:16:01   BIC                           9785.588\n",
      "Sample:                             0   HQIC                          9754.484\n",
      "                                                                              \n",
      "===============================================================================\n",
      "                  coef    std err          z      P>|z|      [0.025      0.975]\n",
      "-------------------------------------------------------------------------------\n",
      "const           0.7586      0.281      2.695      0.007       0.207       1.310\n",
      "ar.L1.SP500     0.3987      0.119      3.339      0.001       0.165       0.633\n",
      "ar.L2.SP500    -0.3478      0.225     -1.545      0.123      -0.789       0.093\n",
      "ar.L3.SP500     0.8909      0.137      6.487      0.000       0.622       1.160\n",
      "ar.L4.SP500    -0.0314      0.037     -0.843      0.399      -0.104       0.042\n",
      "ar.L5.SP500     0.0257      0.042      0.607      0.544      -0.057       0.108\n",
      "ma.L1.SP500    -0.4193      0.116     -3.623      0.000      -0.646      -0.192\n",
      "ma.L2.SP500     0.3076      0.225      1.369      0.171      -0.133       0.748\n",
      "ma.L3.SP500    -0.8605      0.157     -5.494      0.000      -1.167      -0.554\n",
      "                                    Roots                                    \n",
      "=============================================================================\n",
      "                  Real          Imaginary           Modulus         Frequency\n",
      "-----------------------------------------------------------------------------\n",
      "AR.1            1.0262           -0.0000j            1.0262           -0.0000\n",
      "AR.2           -0.3360           -1.0023j            1.0571           -0.3015\n",
      "AR.3           -0.3360           +1.0023j            1.0571            0.3015\n",
      "AR.4            0.4339           -5.8142j            5.8304           -0.2381\n",
      "AR.5            0.4339           +5.8142j            5.8304            0.2381\n",
      "MA.1            1.0115           -0.0000j            1.0115           -0.0000\n",
      "MA.2           -0.3270           -1.0208j            1.0719           -0.2993\n",
      "MA.3           -0.3270           +1.0208j            1.0719            0.2993\n",
      "-----------------------------------------------------------------------------\n"
     ]
    }
   ],
   "source": [
    "ARIMA_model=ARIMA(df_train_diff1, order=(5, 0, 3)).fit()\n",
    "#Transparams = True means stationary. \n",
    "print(ARIMA_model.summary())"
   ]
  },
  {
   "cell_type": "code",
   "execution_count": 596,
   "metadata": {},
   "outputs": [
    {
     "name": "stdout",
     "output_type": "stream",
     "text": [
      "2015-01-02 00:00:00\n",
      "2019-05-16 00:00:00\n"
     ]
    }
   ],
   "source": [
    "index_row_values = df_train.index\n",
    "date_list = list(index_row_values)\n",
    "print(date_list[0])\n",
    "print(date_list[-1])"
   ]
  },
  {
   "cell_type": "code",
   "execution_count": 599,
   "metadata": {},
   "outputs": [
    {
     "name": "stdout",
     "output_type": "stream",
     "text": [
      "forecasted predictions\n",
      " 1099   -1.619795\n",
      "1100    2.549036\n",
      "1101    1.281984\n",
      "1102   -1.710711\n",
      "1103    1.666848\n",
      "          ...   \n",
      "1291    0.758241\n",
      "1292    0.758336\n",
      "1293    0.758375\n",
      "1294    0.758287\n",
      "1295    0.758325\n",
      "Length: 197, dtype: float64\n"
     ]
    },
    {
     "name": "stderr",
     "output_type": "stream",
     "text": [
      "/Users/samypalaniappan/opt/miniconda3/lib/python3.7/site-packages/statsmodels/tsa/base/tsa_model.py:576: ValueWarning: No supported index is available. Prediction results will be given with an integer index beginning at `start`.\n",
      "  ValueWarning)\n"
     ]
    }
   ],
   "source": [
    "ARIMA_forecast = ARIMA_model.predict(1099, 1295, dynamic=True)\n",
    "print('forecasted predictions\\n',ARIMA_forecast)"
   ]
  },
  {
   "cell_type": "code",
   "execution_count": 570,
   "metadata": {},
   "outputs": [],
   "source": [
    "## Transform the differenced X-scale back to original time scale"
   ]
  },
  {
   "cell_type": "code",
   "execution_count": 600,
   "metadata": {},
   "outputs": [
    {
     "data": {
      "text/plain": [
       "2850.959961"
      ]
     },
     "execution_count": 600,
     "metadata": {},
     "output_type": "execute_result"
    }
   ],
   "source": [
    "x=df_train.iloc[1098,0]\n",
    "x"
   ]
  },
  {
   "cell_type": "code",
   "execution_count": 601,
   "metadata": {},
   "outputs": [
    {
     "name": "stdout",
     "output_type": "stream",
     "text": [
      "True\n",
      "Original Values Date\n",
      "2019-05-10    2881.399902\n",
      "2019-05-13    2811.870117\n",
      "2019-05-14    2834.409912\n",
      "2019-05-15    2850.959961\n",
      "2019-05-16    2876.320068\n",
      "Name: SP500, dtype: float64\n",
      "De-Differenced Values 1291    2994.436440\n",
      "1292    2995.194775\n",
      "1293    2995.953150\n",
      "1294    2996.711437\n",
      "1295    2997.469762\n",
      "dtype: float64\n"
     ]
    }
   ],
   "source": [
    "undiff_train_1 = ARIMA_forecast.cumsum() + x\n",
    "# undiff_train_2 = undiff_train_1.cumsum()\n",
    "#print(undiff_train_2.tail(12))\n",
    "#undiff1 = arima.cumsum().fillna(df_diff1)\n",
    "print(all(round(df_train, 6)==round(undiff_train_2, 6)))\n",
    "print('Original Values', df_train.SP500.tail())\n",
    "print('De-Differenced Values', undiff_train_1.tail())"
   ]
  },
  {
   "cell_type": "code",
   "execution_count": 602,
   "metadata": {},
   "outputs": [
    {
     "data": {
      "text/html": [
       "<div>\n",
       "<style scoped>\n",
       "    .dataframe tbody tr th:only-of-type {\n",
       "        vertical-align: middle;\n",
       "    }\n",
       "\n",
       "    .dataframe tbody tr th {\n",
       "        vertical-align: top;\n",
       "    }\n",
       "\n",
       "    .dataframe thead th {\n",
       "        text-align: right;\n",
       "    }\n",
       "</style>\n",
       "<table border=\"1\" class=\"dataframe\">\n",
       "  <thead>\n",
       "    <tr style=\"text-align: right;\">\n",
       "      <th></th>\n",
       "      <th>SP500</th>\n",
       "    </tr>\n",
       "    <tr>\n",
       "      <th>Date</th>\n",
       "      <th></th>\n",
       "    </tr>\n",
       "  </thead>\n",
       "  <tbody>\n",
       "    <tr>\n",
       "      <td>2019-05-16</td>\n",
       "      <td>2849.34</td>\n",
       "    </tr>\n",
       "    <tr>\n",
       "      <td>2019-05-17</td>\n",
       "      <td>2851.89</td>\n",
       "    </tr>\n",
       "    <tr>\n",
       "      <td>2019-05-20</td>\n",
       "      <td>2853.17</td>\n",
       "    </tr>\n",
       "    <tr>\n",
       "      <td>2019-05-21</td>\n",
       "      <td>2851.46</td>\n",
       "    </tr>\n",
       "    <tr>\n",
       "      <td>2019-05-22</td>\n",
       "      <td>2853.13</td>\n",
       "    </tr>\n",
       "    <tr>\n",
       "      <td>...</td>\n",
       "      <td>...</td>\n",
       "    </tr>\n",
       "    <tr>\n",
       "      <td>2020-02-20</td>\n",
       "      <td>2994.44</td>\n",
       "    </tr>\n",
       "    <tr>\n",
       "      <td>2020-02-21</td>\n",
       "      <td>2995.19</td>\n",
       "    </tr>\n",
       "    <tr>\n",
       "      <td>2020-02-24</td>\n",
       "      <td>2995.95</td>\n",
       "    </tr>\n",
       "    <tr>\n",
       "      <td>2020-02-25</td>\n",
       "      <td>2996.71</td>\n",
       "    </tr>\n",
       "    <tr>\n",
       "      <td>2020-02-26</td>\n",
       "      <td>2997.47</td>\n",
       "    </tr>\n",
       "  </tbody>\n",
       "</table>\n",
       "<p>197 rows × 1 columns</p>\n",
       "</div>"
      ],
      "text/plain": [
       "              SP500\n",
       "Date               \n",
       "2019-05-16  2849.34\n",
       "2019-05-17  2851.89\n",
       "2019-05-20  2853.17\n",
       "2019-05-21  2851.46\n",
       "2019-05-22  2853.13\n",
       "...             ...\n",
       "2020-02-20  2994.44\n",
       "2020-02-21  2995.19\n",
       "2020-02-24  2995.95\n",
       "2020-02-25  2996.71\n",
       "2020-02-26  2997.47\n",
       "\n",
       "[197 rows x 1 columns]"
      ]
     },
     "execution_count": 602,
     "metadata": {},
     "output_type": "execute_result"
    }
   ],
   "source": [
    "predicted_value_series = pd.DataFrame([df_full.index[1099:], undiff_train_1]).transpose()\n",
    "predicted_value_series=predicted_value_series.rename(columns={0:'Date', 1:'SP500'})\n",
    "predicted_value_series=predicted_value_series.set_index('Date')\n",
    "predicted_value_series"
   ]
  },
  {
   "cell_type": "code",
   "execution_count": 603,
   "metadata": {},
   "outputs": [
    {
     "data": {
      "text/html": [
       "<div>\n",
       "<style scoped>\n",
       "    .dataframe tbody tr th:only-of-type {\n",
       "        vertical-align: middle;\n",
       "    }\n",
       "\n",
       "    .dataframe tbody tr th {\n",
       "        vertical-align: top;\n",
       "    }\n",
       "\n",
       "    .dataframe thead th {\n",
       "        text-align: right;\n",
       "    }\n",
       "</style>\n",
       "<table border=\"1\" class=\"dataframe\">\n",
       "  <thead>\n",
       "    <tr style=\"text-align: right;\">\n",
       "      <th></th>\n",
       "      <th>SP500</th>\n",
       "    </tr>\n",
       "    <tr>\n",
       "      <th>Date</th>\n",
       "      <th></th>\n",
       "    </tr>\n",
       "  </thead>\n",
       "  <tbody>\n",
       "    <tr>\n",
       "      <td>2015-01-02</td>\n",
       "      <td>2058.199951</td>\n",
       "    </tr>\n",
       "    <tr>\n",
       "      <td>2015-01-05</td>\n",
       "      <td>2020.579956</td>\n",
       "    </tr>\n",
       "    <tr>\n",
       "      <td>2015-01-06</td>\n",
       "      <td>2002.609985</td>\n",
       "    </tr>\n",
       "    <tr>\n",
       "      <td>2015-01-07</td>\n",
       "      <td>2025.900024</td>\n",
       "    </tr>\n",
       "    <tr>\n",
       "      <td>2015-01-08</td>\n",
       "      <td>2062.139893</td>\n",
       "    </tr>\n",
       "    <tr>\n",
       "      <td>...</td>\n",
       "      <td>...</td>\n",
       "    </tr>\n",
       "    <tr>\n",
       "      <td>2019-05-10</td>\n",
       "      <td>2881.399902</td>\n",
       "    </tr>\n",
       "    <tr>\n",
       "      <td>2019-05-13</td>\n",
       "      <td>2811.870117</td>\n",
       "    </tr>\n",
       "    <tr>\n",
       "      <td>2019-05-14</td>\n",
       "      <td>2834.409912</td>\n",
       "    </tr>\n",
       "    <tr>\n",
       "      <td>2019-05-15</td>\n",
       "      <td>2850.959961</td>\n",
       "    </tr>\n",
       "    <tr>\n",
       "      <td>2019-05-16</td>\n",
       "      <td>2876.320068</td>\n",
       "    </tr>\n",
       "  </tbody>\n",
       "</table>\n",
       "<p>1100 rows × 1 columns</p>\n",
       "</div>"
      ],
      "text/plain": [
       "                  SP500\n",
       "Date                   \n",
       "2015-01-02  2058.199951\n",
       "2015-01-05  2020.579956\n",
       "2015-01-06  2002.609985\n",
       "2015-01-07  2025.900024\n",
       "2015-01-08  2062.139893\n",
       "...                 ...\n",
       "2019-05-10  2881.399902\n",
       "2019-05-13  2811.870117\n",
       "2019-05-14  2834.409912\n",
       "2019-05-15  2850.959961\n",
       "2019-05-16  2876.320068\n",
       "\n",
       "[1100 rows x 1 columns]"
      ]
     },
     "metadata": {},
     "output_type": "display_data"
    },
    {
     "data": {
      "text/html": [
       "<div>\n",
       "<style scoped>\n",
       "    .dataframe tbody tr th:only-of-type {\n",
       "        vertical-align: middle;\n",
       "    }\n",
       "\n",
       "    .dataframe tbody tr th {\n",
       "        vertical-align: top;\n",
       "    }\n",
       "\n",
       "    .dataframe thead th {\n",
       "        text-align: right;\n",
       "    }\n",
       "</style>\n",
       "<table border=\"1\" class=\"dataframe\">\n",
       "  <thead>\n",
       "    <tr style=\"text-align: right;\">\n",
       "      <th></th>\n",
       "      <th>SP500</th>\n",
       "    </tr>\n",
       "    <tr>\n",
       "      <th>Date</th>\n",
       "      <th></th>\n",
       "    </tr>\n",
       "  </thead>\n",
       "  <tbody>\n",
       "    <tr>\n",
       "      <td>2019-05-16</td>\n",
       "      <td>2849.34</td>\n",
       "    </tr>\n",
       "    <tr>\n",
       "      <td>2019-05-17</td>\n",
       "      <td>2851.89</td>\n",
       "    </tr>\n",
       "    <tr>\n",
       "      <td>2019-05-20</td>\n",
       "      <td>2853.17</td>\n",
       "    </tr>\n",
       "    <tr>\n",
       "      <td>2019-05-21</td>\n",
       "      <td>2851.46</td>\n",
       "    </tr>\n",
       "    <tr>\n",
       "      <td>2019-05-22</td>\n",
       "      <td>2853.13</td>\n",
       "    </tr>\n",
       "    <tr>\n",
       "      <td>...</td>\n",
       "      <td>...</td>\n",
       "    </tr>\n",
       "    <tr>\n",
       "      <td>2020-02-20</td>\n",
       "      <td>2994.44</td>\n",
       "    </tr>\n",
       "    <tr>\n",
       "      <td>2020-02-21</td>\n",
       "      <td>2995.19</td>\n",
       "    </tr>\n",
       "    <tr>\n",
       "      <td>2020-02-24</td>\n",
       "      <td>2995.95</td>\n",
       "    </tr>\n",
       "    <tr>\n",
       "      <td>2020-02-25</td>\n",
       "      <td>2996.71</td>\n",
       "    </tr>\n",
       "    <tr>\n",
       "      <td>2020-02-26</td>\n",
       "      <td>2997.47</td>\n",
       "    </tr>\n",
       "  </tbody>\n",
       "</table>\n",
       "<p>197 rows × 1 columns</p>\n",
       "</div>"
      ],
      "text/plain": [
       "              SP500\n",
       "Date               \n",
       "2019-05-16  2849.34\n",
       "2019-05-17  2851.89\n",
       "2019-05-20  2853.17\n",
       "2019-05-21  2851.46\n",
       "2019-05-22  2853.13\n",
       "...             ...\n",
       "2020-02-20  2994.44\n",
       "2020-02-21  2995.19\n",
       "2020-02-24  2995.95\n",
       "2020-02-25  2996.71\n",
       "2020-02-26  2997.47\n",
       "\n",
       "[197 rows x 1 columns]"
      ]
     },
     "metadata": {},
     "output_type": "display_data"
    },
    {
     "data": {
      "text/html": [
       "<div>\n",
       "<style scoped>\n",
       "    .dataframe tbody tr th:only-of-type {\n",
       "        vertical-align: middle;\n",
       "    }\n",
       "\n",
       "    .dataframe tbody tr th {\n",
       "        vertical-align: top;\n",
       "    }\n",
       "\n",
       "    .dataframe thead th {\n",
       "        text-align: right;\n",
       "    }\n",
       "</style>\n",
       "<table border=\"1\" class=\"dataframe\">\n",
       "  <thead>\n",
       "    <tr style=\"text-align: right;\">\n",
       "      <th></th>\n",
       "      <th>SP500</th>\n",
       "    </tr>\n",
       "    <tr>\n",
       "      <th>Date</th>\n",
       "      <th></th>\n",
       "    </tr>\n",
       "  </thead>\n",
       "  <tbody>\n",
       "    <tr>\n",
       "      <td>2015-01-02</td>\n",
       "      <td>2058.2</td>\n",
       "    </tr>\n",
       "    <tr>\n",
       "      <td>2015-01-05</td>\n",
       "      <td>2020.58</td>\n",
       "    </tr>\n",
       "    <tr>\n",
       "      <td>2015-01-06</td>\n",
       "      <td>2002.61</td>\n",
       "    </tr>\n",
       "    <tr>\n",
       "      <td>2015-01-07</td>\n",
       "      <td>2025.9</td>\n",
       "    </tr>\n",
       "    <tr>\n",
       "      <td>2015-01-08</td>\n",
       "      <td>2062.14</td>\n",
       "    </tr>\n",
       "    <tr>\n",
       "      <td>...</td>\n",
       "      <td>...</td>\n",
       "    </tr>\n",
       "    <tr>\n",
       "      <td>2020-02-20</td>\n",
       "      <td>2994.44</td>\n",
       "    </tr>\n",
       "    <tr>\n",
       "      <td>2020-02-21</td>\n",
       "      <td>2995.19</td>\n",
       "    </tr>\n",
       "    <tr>\n",
       "      <td>2020-02-24</td>\n",
       "      <td>2995.95</td>\n",
       "    </tr>\n",
       "    <tr>\n",
       "      <td>2020-02-25</td>\n",
       "      <td>2996.71</td>\n",
       "    </tr>\n",
       "    <tr>\n",
       "      <td>2020-02-26</td>\n",
       "      <td>2997.47</td>\n",
       "    </tr>\n",
       "  </tbody>\n",
       "</table>\n",
       "<p>1297 rows × 1 columns</p>\n",
       "</div>"
      ],
      "text/plain": [
       "              SP500\n",
       "Date               \n",
       "2015-01-02   2058.2\n",
       "2015-01-05  2020.58\n",
       "2015-01-06  2002.61\n",
       "2015-01-07   2025.9\n",
       "2015-01-08  2062.14\n",
       "...             ...\n",
       "2020-02-20  2994.44\n",
       "2020-02-21  2995.19\n",
       "2020-02-24  2995.95\n",
       "2020-02-25  2996.71\n",
       "2020-02-26  2997.47\n",
       "\n",
       "[1297 rows x 1 columns]"
      ]
     },
     "execution_count": 603,
     "metadata": {},
     "output_type": "execute_result"
    }
   ],
   "source": [
    "display(df_train.iloc[:,0:1099])\n",
    "display(predicted_value_series)\n",
    "df_full_predicted = df_train.iloc[:,0:1099].append(predicted_value_series)\n",
    "df_full_predicted"
   ]
  },
  {
   "cell_type": "code",
   "execution_count": 604,
   "metadata": {
    "scrolled": true
   },
   "outputs": [
    {
     "data": {
      "image/png": "[encoded data removed]",
      "text/plain": [
       "<Figure size 432x288 with 1 Axes>"
      ]
     },
     "metadata": {},
     "output_type": "display_data"
    }
   ],
   "source": [
    "import numpy as np\n",
    "style.use('fivethirtyeight')\n",
    "plt.plot(df_full, c='blue', label='original')\n",
    "plt.plot(df_full_predicted, linestyle='dashed', c='orange', label='predicted')\n",
    "plt.xticks(rotation=90);\n",
    "plt.legend(loc='best', facecolor='none')\n",
    "plt.show()"
   ]
  },
  {
   "cell_type": "code",
   "execution_count": 605,
   "metadata": {},
   "outputs": [
    {
     "name": "stdout",
     "output_type": "stream",
     "text": [
      "0.4116515999622834\n"
     ]
    }
   ],
   "source": [
    "MAE = np.mean(abs(df_test.SP500 - predicted_value_series))\n",
    "print(mean_abs_error)"
   ]
  },
  {
   "cell_type": "code",
   "execution_count": 540,
   "metadata": {},
   "outputs": [
    {
     "name": "stdout",
     "output_type": "stream",
     "text": [
      "p-value 0.5824852551395194\n"
     ]
    }
   ],
   "source": [
    "test_results = adfuller(df_test.iloc[:,0], autolag='AIC')\n",
    "print('p-value', test_results[1])"
   ]
  },
  {
   "cell_type": "code",
   "execution_count": 62,
   "metadata": {},
   "outputs": [],
   "source": [
    "# p-value of < 0.05 indicates that the data is stationary ? check on this."
   ]
  },
  {
   "cell_type": "code",
   "execution_count": 415,
   "metadata": {},
   "outputs": [],
   "source": [
    "# define Dickey-Fuller Test (DFT) function\n",
    "import statsmodels.tsa.stattools as ts\n",
    "def dftest(timeseries):\n",
    "    dftest = ts.adfuller(timeseries, autolag='AIC')\n",
    "    dfoutput = pd.Series(dftest[0:4], index=['Test Statistic','p-value','Lags Used','Observations Used'])\n",
    "    for key,value in dftest[4].items():\n",
    "        dfoutput['Critical Value (%s)'%key] = value\n",
    "    print(dfoutput)\n",
    "    #Determine rolling statistics\n",
    "    rolmean = timeseries.rolling(window=12).mean()\n",
    "    rolstd = timeseries.rolling(window=12).std()\n",
    "\n",
    "    #Plot rolling statistics:\n",
    "    orig = plt.plot(timeseries, color='blue',label='Original')\n",
    "    mean = plt.plot(rolmean, color='red', label='Rolling Mean')\n",
    "    std = plt.plot(rolstd, color='black', label = 'Rolling Std')\n",
    "    plt.legend(loc='best')\n",
    "    plt.title('Rolling Mean and Standard Deviation')\n",
    "    plt.xticks(rotation=90)\n",
    "    plt.show(block=False);"
   ]
  },
  {
   "cell_type": "code",
   "execution_count": 416,
   "metadata": {},
   "outputs": [
    {
     "name": "stdout",
     "output_type": "stream",
     "text": [
      "Test Statistic           -1.399564\n",
      "p-value                   0.582485\n",
      "Lags Used                 0.000000\n",
      "Observations Used       195.000000\n",
      "Critical Value (1%)      -3.464337\n",
      "Critical Value (5%)      -2.876479\n",
      "Critical Value (10%)     -2.574733\n",
      "dtype: float64\n"
     ]
    },
    {
     "data": {
      "image/png": "[encoded data removed]",
      "text/plain": [
       "<Figure size 432x288 with 1 Axes>"
      ]
     },
     "metadata": {},
     "output_type": "display_data"
    }
   ],
   "source": [
    "dftest(df_test.SP500)"
   ]
  },
  {
   "cell_type": "code",
   "execution_count": null,
   "metadata": {},
   "outputs": [],
   "source": []
  }
 ],
 "metadata": {
  "kernelspec": {
   "display_name": "Python 3",
   "language": "python",
   "name": "python3"
  },
  "language_info": {
   "codemirror_mode": {
    "name": "ipython",
    "version": 3
   },
   "file_extension": ".py",
   "mimetype": "text/x-python",
   "name": "python",
   "nbconvert_exporter": "python",
   "pygments_lexer": "ipython3",
   "version": "3.7.6"
  },
  "toc": {
   "base_numbering": 1,
   "nav_menu": {},
   "number_sections": true,
   "sideBar": true,
   "skip_h1_title": false,
   "title_cell": "Table of Contents",
   "title_sidebar": "Contents",
   "toc_cell": false,
   "toc_position": {},
   "toc_section_display": true,
   "toc_window_display": false
  }
 },
 "nbformat": 4,
 "nbformat_minor": 4
}
