{
 "cells": [
  {
   "cell_type": "code",
   "execution_count": 1,
   "metadata": {},
   "outputs": [],
   "source": [
    "from bs4 import BeautifulSoup\n",
    "import requests\n",
    "import csv\n",
    "import pandas as pd"
   ]
  },
  {
   "cell_type": "code",
   "execution_count": 2,
   "metadata": {},
   "outputs": [],
   "source": [
    "# importing the libraries\n",
    "from bs4 import BeautifulSoup\n",
    "import requests\n",
    "\n",
    "url=\"https://www.goodcarbadcar.net/2019-us-vehicle-sales-figures-by-model/\"\n",
    "\n",
    "# Make a GET request to fetch the raw HTML content\n",
    "html_content = requests.get(url).text\n",
    "\n",
    "# Parse the html content\n",
    "soup = BeautifulSoup(html_content, \"lxml\")\n",
    "#print(soup.prettify()) # print the parsed data of html"
   ]
  },
  {
   "cell_type": "code",
   "execution_count": 3,
   "metadata": {},
   "outputs": [
    {
     "name": "stdout",
     "output_type": "stream",
     "text": [
      "<title>2019 US Vehicle Sales Figures By Model | GCBC</title>\n"
     ]
    }
   ],
   "source": [
    "print(soup.title)"
   ]
  },
  {
   "cell_type": "code",
   "execution_count": 4,
   "metadata": {},
   "outputs": [
    {
     "name": "stdout",
     "output_type": "stream",
     "text": [
      "2019 US Vehicle Sales Figures By Model | GCBC\n"
     ]
    }
   ],
   "source": [
    "print(soup.title.text)"
   ]
  },
  {
   "cell_type": "code",
   "execution_count": 5,
   "metadata": {},
   "outputs": [],
   "source": [
    "# for link in soup.find_all(\"a\"):\n",
    "#     print(\"Inner Text: {}\".format(link.text))\n",
    "#     print(\"Title: {}\".format(link.get(\"title\")))\n",
    "#     print(\"href: {}\".format(link.get(\"href\")))"
   ]
  },
  {
   "cell_type": "code",
   "execution_count": 25,
   "metadata": {},
   "outputs": [
    {
     "name": "stdout",
     "output_type": "stream",
     "text": [
      "['Model', 'Month', 'Month LY', 'Change', 'YTD', 'YTD LY', 'YTD Change']\n"
     ]
    }
   ],
   "source": [
    "df_table = soup.find(\"table\", attrs={\"id\": \"table_1\"})\n",
    "df_table_data = df_table.tbody.find_all(\"tr\")  # contains 2 rows\n",
    "#print(df_table)\n",
    "#Get all the headings of Lists\n",
    "headings = []\n",
    "for th in df_table.find_all(\"th\"):\n",
    "    # remove any newlines and extra spaces from left and right\n",
    "    headings.append(th.text.replace('\\n', ' ').strip())\n",
    "\n",
    "print(headings)"
   ]
  },
  {
   "cell_type": "code",
   "execution_count": 43,
   "metadata": {},
   "outputs": [
    {
     "name": "stdout",
     "output_type": "stream",
     "text": [
      "             Model  Month Month LY  Change     YTD  YTD LY YTD Change\n",
      "0  Fiat 124 Spider    142      184  -22.83   2,646   3,515     -24.72\n",
      "1     BMW 2-Series    765      718    6.55   8,015   9,208     -12.96\n",
      "2     Chrysler 200      1        6  -83.33      48   1,043     -95.40\n",
      "3          Mazda 3  3,175    5,277  -39.83  50,741  64,638     -21.50\n",
      "4     BMW 3-Series  5,245    3,184   64.73  47,827  44,578       7.29\n"
     ]
    }
   ],
   "source": [
    "data = {}\n",
    "heading=headings\n",
    "t_headers = []\n",
    "for th in df_table.find_all(\"th\"):   \n",
    "    # remove any newlines and extra spaces from left and right\n",
    "    t_headers.append(th.text)# .replace('\\n', ' ').strip())\n",
    "#for table, heading in zip(df_table_data[0].find_all(\"table\"), headings):\n",
    "    # Get all the rows of table\n",
    "table_data = []\n",
    "for tr in df_table.tbody.find_all(\"tr\"): # find all tr's from table's tbody\n",
    "    t_row = {}\n",
    "    for td, th in zip(tr.find_all(\"td\"), t_headers):\n",
    "        #print(td.text)\n",
    "        t_row[th] = td.text.replace('\\n', '').strip()\n",
    "    table_data.append(t_row)\n",
    "df_new = pd.DataFrame(table_data) \n",
    "print(df_new.head())\n",
    "# print(t_headers)\n",
    "# print(table_data)\n",
    "df_new.to_csv(r'car_sales_by_model.csv')"
   ]
  },
  {
   "cell_type": "code",
   "execution_count": null,
   "metadata": {},
   "outputs": [],
   "source": []
  }
 ],
 "metadata": {
  "kernelspec": {
   "display_name": "Python 3",
   "language": "python",
   "name": "python3"
  },
  "language_info": {
   "codemirror_mode": {
    "name": "ipython",
    "version": 3
   },
   "file_extension": ".py",
   "mimetype": "text/x-python",
   "name": "python",
   "nbconvert_exporter": "python",
   "pygments_lexer": "ipython3",
   "version": "3.7.4"
  }
 },
 "nbformat": 4,
 "nbformat_minor": 4
}
