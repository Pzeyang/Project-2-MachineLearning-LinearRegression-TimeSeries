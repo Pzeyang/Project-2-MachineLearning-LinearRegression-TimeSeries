{
 "cells": [
  {
   "cell_type": "code",
   "execution_count": 28,
   "metadata": {
    "ExecuteTime": {
     "end_time": "2019-11-27T22:13:59.707412Z",
     "start_time": "2019-11-27T22:13:59.687Z"
    }
   },
   "outputs": [],
   "source": [
    "from bs4 import BeautifulSoup\n",
    "import requests"
   ]
  },
  {
   "cell_type": "code",
   "execution_count": 29,
   "metadata": {},
   "outputs": [],
   "source": [
    "my_html = 'http://carsalesbase.com/us-sales-2019-compact-cars/'"
   ]
  },
  {
   "cell_type": "code",
   "execution_count": 30,
   "metadata": {
    "ExecuteTime": {
     "end_time": "2019-11-27T22:13:59.848708Z",
     "start_time": "2019-11-27T22:13:59.827796Z"
    }
   },
   "outputs": [],
   "source": [
    "from IPython.core.display import display, HTML\n",
    "#display(HTML(my_html))   # make sure Jupyter knows to display it as HTML"
   ]
  },
  {
   "cell_type": "markdown",
   "metadata": {},
   "source": [
    "If we want to grab the four items on our to-do list and analyze them, we can use Beautiful Soup!"
   ]
  },
  {
   "cell_type": "markdown",
   "metadata": {},
   "source": [
    "Simply looking at `soup` isn't very useful -- it's just our HTML repeated back to us."
   ]
  },
  {
   "cell_type": "code",
   "execution_count": 31,
   "metadata": {},
   "outputs": [],
   "source": [
    "response = requests.get(my_html)\n",
    "page = response.text\n",
    "soup = BeautifulSoup(page, 'html5lib')"
   ]
  },
  {
   "cell_type": "code",
   "execution_count": 32,
   "metadata": {
    "ExecuteTime": {
     "end_time": "2019-11-27T22:14:00.035544Z",
     "start_time": "2019-11-27T22:13:59.799Z"
    }
   },
   "outputs": [
    {
     "data": {
      "text/plain": [
       "<!DOCTYPE html>\n",
       "<html lang=\"en-US\" prefix=\"og: http://ogp.me/ns# article: http://ogp.me/ns/article#\"><head>\n",
       "<meta charset=\"utf-8\"/>\n",
       "<meta content=\"width=device-width, initial-scale=1\" name=\"viewport\"/>\n",
       "<title>US sales analysis 2019 – Compact cars - carsalesbase.com</title>\n",
       "<script type=\"text/javascript\">function ctSetCookie(c_name, value, def_value){document.cookie = c_name + '=' + escape(value) + '; path=/';}ctSetCookie('ct_checkjs', 'cfdea29cbe1a9c2300dc3a0996ad794d44b8a4833cb04387fa9f97440143dfaf', '0');</script>\n",
       "<!-- This site is optimized with the Yoast SEO plugin v12.9.1 - https://yoast.com/wordpress/plugins/seo/ -->\n",
       "<meta content=\"max-snippet:-1, max-image-preview:large, max-video-preview:-1\" name=\"robots\"/>\n",
       "<link href=\"http://carsalesbase.com/us-sales-2019-compact-cars/\" rel=\"canonical\"/>\n",
       "<meta content=\"en_US\" property=\"og:locale\"/>\n",
       "<meta content=\"article\" property=\"og:type\"/>\n",
       "<meta content=\"US sales analysis 2019 – Compact cars - carsalesbase.com\" property=\"og:title\"/>\n",
       "<meta content=\"Sales of compact cars in the United States are down by a worrying 16% in 2019, and the segment is down 1.6 percentage points of share of the total US car market, to 9.7%. It now holds 35% of the sedan market in the US, down from 36.8% in 2018. The Honda Civic and Toyota …\" property=\"og:description\"/>\n",
       "<meta content=\"http://carsalesbase.com/us-sales-2019-compact-cars/\" property=\"og:url\"/>\n",
       "<meta content=\"carsalesbase.com\" property=\"og:site_name\"/>\n",
       "<meta content=\"2019\" property=\"article:tag\"/>\n",
       "<meta content=\"Acura ILX\" property=\"article:tag\"/>\n",
       "<meta content=\"Audi A3\" property=\"article:tag\"/>\n",
       "<meta content=\"BMW 2-series\" property=\"article:tag\"/>\n",
       "<meta content=\"bmw i3\" property=\"article:tag\"/>\n",
       "<meta content=\"Chevrolet Bolt EV\" property=\"article:tag\"/>\n",
       "<meta content=\"Chevrolet Cruze\" property=\"article:tag\"/>\n",
       "<meta content=\"chevrolet volt\" property=\"article:tag\"/>\n",
       "<meta content=\"compact\" property=\"article:tag\"/>\n",
       "<meta content=\"Fiat 500L\" property=\"article:tag\"/>\n",
       "<meta content=\"Ford Focus\" property=\"article:tag\"/>\n",
       "<meta content=\"Honda Civic\" property=\"article:tag\"/>\n",
       "<meta content=\"Hyundai Elantra\" property=\"article:tag\"/>\n",
       "<meta content=\"Hyundai Ioniq\" property=\"article:tag\"/>\n",
       "<meta content=\"kia forte\" property=\"article:tag\"/>\n",
       "<meta content=\"Lexus CT\" property=\"article:tag\"/>\n",
       "<meta content=\"mazda3\" property=\"article:tag\"/>\n",
       "<meta content=\"Mercedes-Benz A-Class\" property=\"article:tag\"/>\n",
       "<meta content=\"Mercedes-Benz CLA\" property=\"article:tag\"/>\n",
       "<meta content=\"Mini Clubman\" property=\"article:tag\"/>\n",
       "<meta content=\"Mitsubishi Lancer\" property=\"article:tag\"/>\n",
       "<meta content=\"nissan leaf\" property=\"article:tag\"/>\n",
       "<meta content=\"nissan sentra\" property=\"article:tag\"/>\n",
       "<meta content=\"sales\" property=\"article:tag\"/>\n",
       "<meta content=\"Subaru Impreza\" property=\"article:tag\"/>\n",
       "<meta content=\"Toyota Corolla\" property=\"article:tag\"/>\n",
       "<meta content=\"Toyota Corolla hatchback\" property=\"article:tag\"/>\n",
       "<meta content=\"toyota mirai\" property=\"article:tag\"/>\n",
       "<meta content=\"Toyota Prius\" property=\"article:tag\"/>\n",
       "<meta content=\"US\" property=\"article:tag\"/>\n",
       "<meta content=\"vw beetle\" property=\"article:tag\"/>\n",
       "<meta content=\"vw golf\" property=\"article:tag\"/>\n",
       "<meta content=\"vw jetta\" property=\"article:tag\"/>\n",
       "<meta content=\"US Compact car segment\" property=\"article:section\"/>\n",
       "<meta content=\"2020-01-22T12:25:11+00:00\" property=\"article:published_time\"/>\n",
       "<meta content=\"2020-01-21T16:50:43+00:00\" property=\"article:modified_time\"/>\n",
       "<meta content=\"2020-01-21T16:50:43+00:00\" property=\"og:updated_time\"/>\n",
       "<meta content=\"http://carsalesbase.com/wp-content/uploads/2020/01/US-car_sales-compact_car-segment-Honda_Civic-Toyota_Corolla-Nissan_Sentra.jpg\" property=\"og:image\"/>\n",
       "<meta content=\"400\" property=\"og:image:width\"/>\n",
       "<meta content=\"400\" property=\"og:image:height\"/>\n",
       "<meta content=\"summary\" name=\"twitter:card\"/>\n",
       "<meta content=\"Sales of compact cars in the United States are down by a worrying 16% in 2019, and the segment is down 1.6 percentage points of share of the total US car market, to 9.7%. It now holds 35% of the sedan market in the US, down from 36.8% in 2018. The Honda Civic and Toyota […]\" name=\"twitter:description\"/>\n",
       "<meta content=\"US sales analysis 2019 – Compact cars - carsalesbase.com\" name=\"twitter:title\"/>\n",
       "<meta content=\"http://carsalesbase.com/wp-content/uploads/2020/01/US-car_sales-compact_car-segment-Honda_Civic-Toyota_Corolla-Nissan_Sentra.jpg\" name=\"twitter:image\"/>\n",
       "<script class=\"yoast-schema-graph yoast-schema-graph--main\" type=\"application/ld+json\">{\"@context\":\"https://schema.org\",\"@graph\":[{\"@type\":\"Organization\",\"@id\":\"http://carsalesbase.com/#organization\",\"name\":\"Carsalesbase.com\",\"url\":\"http://carsalesbase.com/\",\"sameAs\":[],\"logo\":{\"@type\":\"ImageObject\",\"@id\":\"http://carsalesbase.com/#logo\",\"url\":\"http://carsalesbase.com/wp-content/uploads/2016/12/Carsalesbase-logo-black.png\",\"width\":613,\"height\":115,\"caption\":\"Carsalesbase.com\"},\"image\":{\"@id\":\"http://carsalesbase.com/#logo\"}},{\"@type\":\"WebSite\",\"@id\":\"http://carsalesbase.com/#website\",\"url\":\"http://carsalesbase.com/\",\"name\":\"carsalesbase.com\",\"description\":\"Automotive Industry analysis, opinions and data\",\"publisher\":{\"@id\":\"http://carsalesbase.com/#organization\"},\"potentialAction\":{\"@type\":\"SearchAction\",\"target\":\"http://carsalesbase.com/?s={search_term_string}\",\"query-input\":\"required name=search_term_string\"}},{\"@type\":\"ImageObject\",\"@id\":\"http://carsalesbase.com/us-sales-2019-compact-cars/#primaryimage\",\"url\":\"http://carsalesbase.com/wp-content/uploads/2020/01/US-car_sales-compact_car-segment-Honda_Civic-Toyota_Corolla-Nissan_Sentra.jpg\",\"width\":400,\"height\":400},{\"@type\":\"WebPage\",\"@id\":\"http://carsalesbase.com/us-sales-2019-compact-cars/#webpage\",\"url\":\"http://carsalesbase.com/us-sales-2019-compact-cars/\",\"inLanguage\":\"en-US\",\"name\":\"US sales analysis 2019 \\u2013 Compact cars - carsalesbase.com\",\"isPartOf\":{\"@id\":\"http://carsalesbase.com/#website\"},\"primaryImageOfPage\":{\"@id\":\"http://carsalesbase.com/us-sales-2019-compact-cars/#primaryimage\"},\"datePublished\":\"2020-01-22T12:25:11+00:00\",\"dateModified\":\"2020-01-21T16:50:43+00:00\",\"breadcrumb\":{\"@id\":\"http://carsalesbase.com/us-sales-2019-compact-cars/#breadcrumb\"}},{\"@type\":\"BreadcrumbList\",\"@id\":\"http://carsalesbase.com/us-sales-2019-compact-cars/#breadcrumb\",\"itemListElement\":[{\"@type\":\"ListItem\",\"position\":1,\"item\":{\"@type\":\"WebPage\",\"@id\":\"http://carsalesbase.com/\",\"url\":\"http://carsalesbase.com/\",\"name\":\"Home\"}},{\"@type\":\"ListItem\",\"position\":2,\"item\":{\"@type\":\"WebPage\",\"@id\":\"http://carsalesbase.com/us-sales-2019-compact-cars/\",\"url\":\"http://carsalesbase.com/us-sales-2019-compact-cars/\",\"name\":\"US sales analysis 2019 \\u2013 Compact cars\"}}]},{\"@type\":\"Article\",\"@id\":\"http://carsalesbase.com/us-sales-2019-compact-cars/#article\",\"isPartOf\":{\"@id\":\"http://carsalesbase.com/us-sales-2019-compact-cars/#webpage\"},\"author\":{\"@id\":\"http://carsalesbase.com/#/schema/person/b9b11fc5a87605bbccf35721d85af539\"},\"headline\":\"US sales analysis 2019 \\u2013 Compact cars\",\"datePublished\":\"2020-01-22T12:25:11+00:00\",\"dateModified\":\"2020-01-21T16:50:43+00:00\",\"commentCount\":0,\"mainEntityOfPage\":{\"@id\":\"http://carsalesbase.com/us-sales-2019-compact-cars/#webpage\"},\"publisher\":{\"@id\":\"http://carsalesbase.com/#organization\"},\"image\":{\"@id\":\"http://carsalesbase.com/us-sales-2019-compact-cars/#primaryimage\"},\"keywords\":\"2019,Acura ILX,Audi A3,BMW 2-series,bmw i3,Chevrolet Bolt EV,Chevrolet Cruze,chevrolet volt,compact,Fiat 500L,Ford Focus,Honda Civic,Hyundai Elantra,Hyundai Ioniq,kia forte,Lexus CT,mazda3,Mercedes-Benz A-Class,Mercedes-Benz CLA,Mini Clubman,Mitsubishi Lancer,nissan leaf,nissan sentra,sales,Subaru Impreza,Toyota Corolla,Toyota Corolla hatchback,toyota mirai,Toyota Prius,US,vw beetle,vw golf,vw jetta\",\"articleSection\":\"US Compact car segment,US Premium compact car segment\"},{\"@type\":[\"Person\"],\"@id\":\"http://carsalesbase.com/#/schema/person/b9b11fc5a87605bbccf35721d85af539\",\"name\":\"Bart Demandt\",\"description\":\"Bart is a 36-year old Dutchman who's always had a thing for cars, the automotive industry and statistics. He\\u2019s combined these passions by writing about them on CarSalesBase.com. His daily driver is an Alfa Romeo GT 3.2 V6 which he just can't seem to say goodbye to thanks to the mesmerizing exhaust note, despite approaching 300.000km which probably makes this the most experienced GT 3.2 in the world.\\r\\nYou can find all his articles <a href=\\\"http://left-lane.com/author/leftlane/\\\">Here</a>.\",\"sameAs\":[]}]}</script>\n",
       "<!-- / Yoast SEO plugin. -->\n",
       "\n",
       "<link href=\"//www.gstatic.com\" rel=\"dns-prefetch\"/>\n",
       "<link href=\"//fonts.googleapis.com\" rel=\"dns-prefetch\"/>\n",
       "<link href=\"//s.w.org\" rel=\"dns-prefetch\"/>\n",
       "<link href=\"http://carsalesbase.com/feed/\" rel=\"alternate\" title=\"carsalesbase.com » Feed\" type=\"application/rss+xml\"/>\n",
       "<link href=\"http://carsalesbase.com/comments/feed/\" rel=\"alternate\" title=\"carsalesbase.com » Comments Feed\" type=\"application/rss+xml\"/>\n",
       "<link href=\"http://carsalesbase.com/us-sales-2019-compact-cars/feed/\" rel=\"alternate\" title=\"carsalesbase.com » US sales analysis 2019 – Compact cars Comments Feed\" type=\"application/rss+xml\"/>\n",
       "\t\t<script type=\"text/javascript\">\n",
       "\t\t\twindow._wpemojiSettings = {\"baseUrl\":\"https:\\/\\/s.w.org\\/images\\/core\\/emoji\\/12.0.0-1\\/72x72\\/\",\"ext\":\".png\",\"svgUrl\":\"https:\\/\\/s.w.org\\/images\\/core\\/emoji\\/12.0.0-1\\/svg\\/\",\"svgExt\":\".svg\",\"source\":{\"concatemoji\":\"http:\\/\\/carsalesbase.com\\/wp-includes\\/js\\/wp-emoji-release.min.js?ver=5.3.2\"}};\n",
       "\t\t\t!function(e,a,t){var r,n,o,i,p=a.createElement(\"canvas\"),s=p.getContext&&p.getContext(\"2d\");function c(e,t){var a=String.fromCharCode;s.clearRect(0,0,p.width,p.height),s.fillText(a.apply(this,e),0,0);var r=p.toDataURL();return s.clearRect(0,0,p.width,p.height),s.fillText(a.apply(this,t),0,0),r===p.toDataURL()}function l(e){if(!s||!s.fillText)return!1;switch(s.textBaseline=\"top\",s.font=\"600 32px Arial\",e){case\"flag\":return!c([127987,65039,8205,9895,65039],[127987,65039,8203,9895,65039])&&(!c([55356,56826,55356,56819],[55356,56826,8203,55356,56819])&&!c([55356,57332,56128,56423,56128,56418,56128,56421,56128,56430,56128,56423,56128,56447],[55356,57332,8203,56128,56423,8203,56128,56418,8203,56128,56421,8203,56128,56430,8203,56128,56423,8203,56128,56447]));case\"emoji\":return!c([55357,56424,55356,57342,8205,55358,56605,8205,55357,56424,55356,57340],[55357,56424,55356,57342,8203,55358,56605,8203,55357,56424,55356,57340])}return!1}function d(e){var t=a.createElement(\"script\");t.src=e,t.defer=t.type=\"text/javascript\",a.getElementsByTagName(\"head\")[0].appendChild(t)}for(i=Array(\"flag\",\"emoji\"),t.supports={everything:!0,everythingExceptFlag:!0},o=0;o<i.length;o++)t.supports[i[o]]=l(i[o]),t.supports.everything=t.supports.everything&&t.supports[i[o]],\"flag\"!==i[o]&&(t.supports.everythingExceptFlag=t.supports.everythingExceptFlag&&t.supports[i[o]]);t.supports.everythingExceptFlag=t.supports.everythingExceptFlag&&!t.supports.flag,t.DOMReady=!1,t.readyCallback=function(){t.DOMReady=!0},t.supports.everything||(n=function(){t.readyCallback()},a.addEventListener?(a.addEventListener(\"DOMContentLoaded\",n,!1),e.addEventListener(\"load\",n,!1)):(e.attachEvent(\"onload\",n),a.attachEvent(\"onreadystatechange\",function(){\"complete\"===a.readyState&&t.readyCallback()})),(r=t.source||{}).concatemoji?d(r.concatemoji):r.wpemoji&&r.twemoji&&(d(r.twemoji),d(r.wpemoji)))}(window,document,window._wpemojiSettings);\n",
       "\t\t</script>\n",
       "\t\t<style type=\"text/css\">\n",
       "img.wp-smiley,\n",
       "img.emoji {\n",
       "\tdisplay: inline !important;\n",
       "\tborder: none !important;\n",
       "\tbox-shadow: none !important;\n",
       "\theight: 1em !important;\n",
       "\twidth: 1em !important;\n",
       "\tmargin: 0 .07em !important;\n",
       "\tvertical-align: -0.1em !important;\n",
       "\tbackground: none !important;\n",
       "\tpadding: 0 !important;\n",
       "}\n",
       "</style>\n",
       "\t<link href=\"http://carsalesbase.com/wp-content/themes/CSB-theme/style.css?ver=3.1.3\" id=\"agency-pro-theme-css\" media=\"all\" rel=\"stylesheet\" type=\"text/css\"/>\n",
       "<link href=\"http://carsalesbase.com/wp-includes/css/dist/block-library/style.min.css?ver=5.3.2\" id=\"wp-block-library-css\" media=\"all\" rel=\"stylesheet\" type=\"text/css\"/>\n",
       "<style id=\"wp-block-library-inline-css\" type=\"text/css\">\n",
       ".has-text-align-justify{text-align:justify;}\n",
       "</style>\n",
       "<link href=\"http://carsalesbase.com/wp-content/plugins/car-sales-search/car-sales-search.css?ver=5.3.2\" id=\"css-css\" media=\"all\" rel=\"stylesheet\" type=\"text/css\"/>\n",
       "<link href=\"http://carsalesbase.com/wp-content/plugins/jetti-car-sales-compare/css/style.css?ver=5.3.2\" id=\"jetti-compare-style-css\" media=\"all\" rel=\"stylesheet\" type=\"text/css\"/>\n",
       "<link href=\"http://carsalesbase.com/wp-content/plugins/jetti-car-sales-compare/public/css/jetti-car-sales-compare-public.css?ver=1.0.0\" id=\"jetti-car-sales-compare-css\" media=\"all\" rel=\"stylesheet\" type=\"text/css\"/>\n",
       "<link href=\"http://carsalesbase.com/wp-content/plugins/wp-polls/polls-css.css?ver=2.75.4\" id=\"wp-polls-css\" media=\"all\" rel=\"stylesheet\" type=\"text/css\"/>\n",
       "<style id=\"wp-polls-inline-css\" type=\"text/css\">\n",
       ".wp-polls .pollbar {\n",
       "\tmargin: 1px;\n",
       "\tfont-size: 6px;\n",
       "\tline-height: 8px;\n",
       "\theight: 8px;\n",
       "\tbackground-image: url('http://carsalesbase.com/wp-content/plugins/wp-polls/images/default/pollbg.gif');\n",
       "\tborder: 1px solid #c8c8c8;\n",
       "}\n",
       "\n",
       "</style>\n",
       "<link href=\"http://carsalesbase.com/wp-includes/css/dashicons.min.css?ver=5.3.2\" id=\"dashicons-css\" media=\"all\" rel=\"stylesheet\" type=\"text/css\"/>\n",
       "<link href=\"//fonts.googleapis.com/css?family=EB+Garamond%7CSpinnaker&amp;ver=3.1.3\" id=\"google-fonts-css\" media=\"all\" rel=\"stylesheet\" type=\"text/css\"/>\n",
       "<!-- Inline jetpack_facebook_likebox -->\n",
       "<style id=\"jetpack_facebook_likebox-inline-css\" type=\"text/css\">\n",
       ".widget_facebook_likebox {\n",
       "\toverflow: hidden;\n",
       "}\n",
       "\n",
       "</style>\n",
       "<link href=\"http://carsalesbase.com/wp-content/plugins/jetpack/_inc/social-logos/social-logos.min.css?ver=1\" id=\"social-logos-css\" media=\"all\" rel=\"stylesheet\" type=\"text/css\"/>\n",
       "<link href=\"http://carsalesbase.com/wp-content/plugins/jetpack/css/jetpack.css?ver=8.1\" id=\"jetpack_css-css\" media=\"all\" rel=\"stylesheet\" type=\"text/css\"/>\n",
       "<script src=\"http://carsalesbase.com/wp-includes/js/jquery/jquery.js?ver=1.12.4-wp\" type=\"text/javascript\"></script>\n",
       "<script src=\"http://carsalesbase.com/wp-includes/js/jquery/jquery-migrate.min.js?ver=1.4.1\" type=\"text/javascript\"></script>\n",
       "<script type=\"text/javascript\">\n",
       "/* <![CDATA[ */\n",
       "var ctPublic = {\"_ajax_nonce\":\"e1776eb978\",\"_ajax_url\":\"http:\\/\\/carsalesbase.com\\/wp-admin\\/admin-ajax.php\"};\n",
       "/* ]]> */\n",
       "</script>\n",
       "<script src=\"http://carsalesbase.com/wp-content/plugins/cleantalk-spam-protect/js/apbct-public.min.js?ver=5.133\" type=\"text/javascript\"></script>\n",
       "<script type=\"text/javascript\">\n",
       "/* <![CDATA[ */\n",
       "var ctNocache = {\"ajaxurl\":\"http:\\/\\/carsalesbase.com\\/wp-admin\\/admin-ajax.php\",\"info_flag\":\"\",\"set_cookies_flag\":\"\",\"blog_home\":\"http:\\/\\/carsalesbase.com\\/\"};\n",
       "/* ]]> */\n",
       "</script>\n",
       "<script src=\"http://carsalesbase.com/wp-content/plugins/cleantalk-spam-protect/js/cleantalk_nocache.min.js?ver=5.133\" type=\"text/javascript\"></script>\n",
       "<script type=\"text/javascript\">\n",
       "/* <![CDATA[ */\n",
       "var ajax_object = {\"ajax_url\":\"http:\\/\\/carsalesbase.com\\/wp-admin\\/admin-ajax.php\"};\n",
       "var input_object = {\"input_data\":\"[]\"};\n",
       "var is_admin = {\"admin\":\"\"};\n",
       "/* ]]> */\n",
       "</script>\n",
       "<script src=\"http://carsalesbase.com/wp-content/plugins/jetti-car-sales-compare/js/chartComparison.js?ver=5.3.2\" type=\"text/javascript\"></script>\n",
       "<script src=\"https://www.gstatic.com/charts/loader.js?ver=5.3.2\" type=\"text/javascript\"></script>\n",
       "<script src=\"http://carsalesbase.com/wp-content/plugins/jetti-car-sales-compare/public/js/jetti-car-sales-compare-public.js?ver=1.0.0\" type=\"text/javascript\"></script>\n",
       "<script src=\"http://carsalesbase.com/wp-content/themes/CSB-theme/js/responsive-menu.js?ver=1.0.0\" type=\"text/javascript\"></script>\n",
       "<link href=\"http://carsalesbase.com/wp-json/\" rel=\"https://api.w.org/\"/>\n",
       "<link href=\"http://carsalesbase.com/xmlrpc.php?rsd\" rel=\"EditURI\" title=\"RSD\" type=\"application/rsd+xml\"/>\n",
       "<link href=\"http://carsalesbase.com/wp-includes/wlwmanifest.xml\" rel=\"wlwmanifest\" type=\"application/wlwmanifest+xml\"/> \n",
       "<meta content=\"WordPress 5.3.2\" name=\"generator\"/>\n",
       "<link href=\"https://wp.me/p43z7O-eAk\" rel=\"shortlink\"/>\n",
       "<link href=\"http://carsalesbase.com/wp-json/oembed/1.0/embed?url=http%3A%2F%2Fcarsalesbase.com%2Fus-sales-2019-compact-cars%2F\" rel=\"alternate\" type=\"application/json+oembed\"/>\n",
       "<link href=\"http://carsalesbase.com/wp-json/oembed/1.0/embed?url=http%3A%2F%2Fcarsalesbase.com%2Fus-sales-2019-compact-cars%2F&amp;format=xml\" rel=\"alternate\" type=\"text/xml+oembed\"/>\n",
       "<meta content=\"US sales analysis 2019 – Compact cars\" name=\"og:title\" property=\"og:title\"/>\n",
       "<meta content=\"article\" name=\"og:type\" property=\"og:type\"/>\n",
       "<meta content=\"http://carsalesbase.com/wp-content/uploads/2020/01/US-car_sales-compact_car-segment-Honda_Civic-Toyota_Corolla-Nissan_Sentra.jpg\" name=\"og:image\" property=\"og:image\"/>\n",
       "<meta content=\"http://carsalesbase.com/us-sales-2019-compact-cars/\" name=\"og:url\" property=\"og:url\"/>\n",
       "<meta content=\"Sales of compact cars in the United States are down by a worrying 16% in 2019, and the segment is down 1.6 percentage points of share of the total US car market, to 9.7%. It now holds 35% of the sedan market in the US, down from 36.8% in 2018. The Honda Civic and Toyota [...]\" name=\"og:description\" property=\"og:description\"/>\n",
       "<meta content=\"en_US\" name=\"og:locale\" property=\"og:locale\"/>\n",
       "<meta content=\"carsalesbase.com\" name=\"og:site_name\" property=\"og:site_name\"/>\n",
       "<meta content=\"summary_large_image\" name=\"twitter:card\" property=\"twitter:card\"/>\n",
       "<meta content=\"2019\" name=\"article:tag\" property=\"article:tag\"/>\n",
       "<meta content=\"Acura ILX\" name=\"article:tag\" property=\"article:tag\"/>\n",
       "<meta content=\"Audi A3\" name=\"article:tag\" property=\"article:tag\"/>\n",
       "<meta content=\"BMW 2-series\" name=\"article:tag\" property=\"article:tag\"/>\n",
       "<meta content=\"bmw i3\" name=\"article:tag\" property=\"article:tag\"/>\n",
       "<meta content=\"Chevrolet Bolt EV\" name=\"article:tag\" property=\"article:tag\"/>\n",
       "<meta content=\"Chevrolet Cruze\" name=\"article:tag\" property=\"article:tag\"/>\n",
       "<meta content=\"chevrolet volt\" name=\"article:tag\" property=\"article:tag\"/>\n",
       "<meta content=\"compact\" name=\"article:tag\" property=\"article:tag\"/>\n",
       "<meta content=\"Fiat 500L\" name=\"article:tag\" property=\"article:tag\"/>\n",
       "<meta content=\"Ford Focus\" name=\"article:tag\" property=\"article:tag\"/>\n",
       "<meta content=\"Honda Civic\" name=\"article:tag\" property=\"article:tag\"/>\n",
       "<meta content=\"Hyundai Elantra\" name=\"article:tag\" property=\"article:tag\"/>\n",
       "<meta content=\"Hyundai Ioniq\" name=\"article:tag\" property=\"article:tag\"/>\n",
       "<meta content=\"kia forte\" name=\"article:tag\" property=\"article:tag\"/>\n",
       "<meta content=\"Lexus CT\" name=\"article:tag\" property=\"article:tag\"/>\n",
       "<meta content=\"mazda3\" name=\"article:tag\" property=\"article:tag\"/>\n",
       "<meta content=\"Mercedes-Benz A-Class\" name=\"article:tag\" property=\"article:tag\"/>\n",
       "<meta content=\"Mercedes-Benz CLA\" name=\"article:tag\" property=\"article:tag\"/>\n",
       "<meta content=\"Mini Clubman\" name=\"article:tag\" property=\"article:tag\"/>\n",
       "<meta content=\"Mitsubishi Lancer\" name=\"article:tag\" property=\"article:tag\"/>\n",
       "<meta content=\"nissan leaf\" name=\"article:tag\" property=\"article:tag\"/>\n",
       "<meta content=\"nissan sentra\" name=\"article:tag\" property=\"article:tag\"/>\n",
       "<meta content=\"sales\" name=\"article:tag\" property=\"article:tag\"/>\n",
       "<meta content=\"Subaru Impreza\" name=\"article:tag\" property=\"article:tag\"/>\n",
       "<meta content=\"Toyota Corolla\" name=\"article:tag\" property=\"article:tag\"/>\n",
       "<meta content=\"Toyota Corolla hatchback\" name=\"article:tag\" property=\"article:tag\"/>\n",
       "<meta content=\"toyota mirai\" name=\"article:tag\" property=\"article:tag\"/>\n",
       "<meta content=\"Toyota Prius\" name=\"article:tag\" property=\"article:tag\"/>\n",
       "<meta content=\"US\" name=\"article:tag\" property=\"article:tag\"/>\n",
       "<meta content=\"vw beetle\" name=\"article:tag\" property=\"article:tag\"/>\n",
       "<meta content=\"vw golf\" name=\"article:tag\" property=\"article:tag\"/>\n",
       "<meta content=\"vw jetta\" name=\"article:tag\" property=\"article:tag\"/>\n",
       "<meta content=\"US Compact car segment\" name=\"article:section\" property=\"article:section\"/>\n",
       "<meta content=\"2020-01-22T13:25:11+01:00\" name=\"article:published_time\" property=\"article:published_time\"/>\n",
       "<meta content=\"2020-01-21T17:50:43+01:00\" name=\"article:modified_time\" property=\"article:modified_time\"/>\n",
       "<meta content=\"http://carsalesbase.com/author/leftlane/\" name=\"article:author\" property=\"article:author\"/>\n",
       " \n",
       "\t\t<style type=\"text/css\">\n",
       "\t\t\t.social-ring:after {\n",
       "\t\t\t\t clear: both;\n",
       "\t\t\t}\n",
       "\t\t\t\t   \n",
       "\t\t\t.social-ring:before,\n",
       "\t\t\t.social-ring:after {\n",
       "\t\t\t\t content: \"\";\n",
       "\t\t\t\t display: table;\n",
       "\t\t\t}\n",
       "\t\t\t\n",
       "\t\t\t.social-ring {\n",
       "\t\t\t\tmargin: 0 0 0.5em !important;\n",
       "\t\t\t\tpadding: 0 !important;\n",
       "\t\t\t\tline-height: 20px !important;\n",
       "\t\t\t\theight: auto;\n",
       "\t\t\t\tfont-size: 11px;\n",
       "\t\t\t}\n",
       "\t\t\t.social-ring-button {\n",
       "\t\t\t\tfloat: left !important;\n",
       "\t\t\t\t\t\t\t\theight: 30px;\n",
       "\t\t\t\t\t\t\t\tmargin: 0 5px 0 0 !important;\n",
       "\t\t\t\tpadding: 0 !important;\n",
       "\t\t\t}\n",
       "\t\t\t.social-ring .social-ring-button iframe {\n",
       "\t\t\t\tmax-width: none !important;\n",
       "\t\t\t}\n",
       "\t\t</style>\n",
       "\t\n",
       "<link href=\"//v0.wordpress.com\" rel=\"dns-prefetch\"/>\n",
       "<link href=\"http://carsalesbase.com/xmlrpc.php\" rel=\"pingback\"/>\n",
       "<link href=\"//cdnjs.cloudflare.com/ajax/libs/cookieconsent2/3.0.3/cookieconsent.min.css\" rel=\"stylesheet\" type=\"text/css\"/>\n",
       "<script src=\"//cdnjs.cloudflare.com/ajax/libs/cookieconsent2/3.0.3/cookieconsent.min.js\"></script>\n",
       "<script>\n",
       "window.addEventListener(\"load\", function(){\n",
       "window.cookieconsent.initialise({\n",
       "  \"palette\": {\n",
       "    \"popup\": {\n",
       "      \"background\": \"#000\"\n",
       "    },\n",
       "    \"button\": {\n",
       "      \"background\": \"#f1d600\"\n",
       "    }\n",
       "  },\n",
       "  \"content\": {\n",
       "    \"message\": \"We use cookies to personalize your visit to our site. Cookies allow us and 3rd parties to track your internet behavior on our site. This allows us and 3rd parties to customize ads to your interests and allows you to share information on social media. By continuing to browse you agree to these terms.\"\n",
       "  }\n",
       "})});\n",
       "</script><!-- All in one Favicon 4.7 --><link href=\"http://carsalesbase.com/wp-content/uploads/2020/01/ico_carsalesbase.png\" rel=\"icon\" type=\"image/png\"/>\n",
       "<style type=\"text/css\">\n",
       ".avatar {vertical-align:middle; margin-right:5px;}\n",
       ".credit {font-size: 50%;}\n",
       "</style>\n",
       "\t\t<link href=\"http://carsalesbase.com/wp-content/uploads/2018/06/cropped-sign_carsalesbase-32x32.png\" rel=\"icon\" sizes=\"32x32\"/>\n",
       "<link href=\"http://carsalesbase.com/wp-content/uploads/2018/06/cropped-sign_carsalesbase-192x192.png\" rel=\"icon\" sizes=\"192x192\"/>\n",
       "<link href=\"http://carsalesbase.com/wp-content/uploads/2018/06/cropped-sign_carsalesbase-180x180.png\" rel=\"apple-touch-icon-precomposed\"/>\n",
       "<meta content=\"http://carsalesbase.com/wp-content/uploads/2018/06/cropped-sign_carsalesbase-270x270.png\" name=\"msapplication-TileImage\"/>\n",
       "\t\t\t<style id=\"wp-custom-css\" type=\"text/css\">\n",
       "\t\t\t\t#logo{\n",
       "\t/* KW 8/23/18 width:100px; */\n",
       "\theight:35px; /* KW 8/23/18 */\n",
       "\tdisplay:inline-block; \n",
       "\tmargin-left: 20%; /* KW 8/23/18 */\n",
       "\tfloat: left;\n",
       "}\n",
       "\n",
       "#logoTxt{\n",
       "\t/* KW 8/23/18 width:60%; */\n",
       "\theight: 26px; /* KW 8/23/18 */\n",
       "\tdisplay: inline-block;\n",
       "  float: left;\n",
       "\t/* KW 8/23/18 margin:25px; */\n",
       "  margin-left: 20px; /* KW 8/23/18 */\n",
       "  margin-top: -7px; /* KW 8/23/18 */\n",
       "  filter: invert(100%);\n",
       "}\n",
       "\n",
       ".title-area{\n",
       "  /* KW 8/23/18 height: 140px; */\n",
       "\theight: 50px; /* KW 8/23/18 */\n",
       "\t/* KW 8/23/18 padding:20px */\n",
       "\tpadding:15px /* KW 8/23/18 */\n",
       "}\n",
       "\n",
       ".header-full-width .site-container, .site-container {\n",
       "  /* KW 8/23/18 padding-top: 140px; */\n",
       "    padding-top: 50px; /* KW 8/23/18 */\n",
       "}\n",
       "\n",
       "@media(max-width:768px){\n",
       "\t#logoTxt {\n",
       "    margin: 23px;\n",
       "    filter: invert(100%);\n",
       "    zoom: 0.8;\n",
       "}\n",
       "\t\n",
       "}\n",
       "\n",
       "@media(max-width:480px){\n",
       "\t#logoTxt {\n",
       "    display: inline-block;\n",
       "    float: left;\n",
       "    margin: 23px;\n",
       "    filter: invert(100%);\n",
       "    zoom: 0.3;\n",
       "}\n",
       "\t#logo {\n",
       "    width: 100px;\n",
       "    display: inline-block;\n",
       "    float: left;\n",
       "    zoom: 0.4;\n",
       "}\n",
       "\t.title-area{\n",
       "\theight: 100px;\n",
       "\tpadding:20px\n",
       "}\n",
       "\n",
       ".header-full-width .site-container, .site-container {\n",
       "    padding-top: 0;\n",
       "}\n",
       "\t\n",
       "}\t\t\t</style>\n",
       "\t\t</head>\n",
       "<body class=\"post-template-default single single-post postid-56068 single-format-standard header-full-width content-sidebar genesis-breadcrumbs-visible genesis-footer-widgets-visible agency-pro-blue\"><header class=\"site-header\"><div class=\"wrap\"><div class=\"title-area\"><p class=\"site-title\"><a href=\"http://carsalesbase.com/\">carsalesbase.com</a></p></div></div></header><div class=\"site-container\"><nav aria-label=\"Main\" class=\"nav-primary\"><div class=\"wrap\"><ul class=\"menu genesis-nav-menu menu-primary\" id=\"menu-top-menu\"><li class=\"menu-item menu-item-type-custom menu-item-object-custom menu-item-home menu-item-26700\" id=\"menu-item-26700\"><a href=\"http://carsalesbase.com/\"><span>Home</span></a></li>\n",
       "<li class=\"menu-item menu-item-type-taxonomy menu-item-object-category menu-item-has-children menu-item-4562\" id=\"menu-item-4562\"><a href=\"http://carsalesbase.com/category/car-sales-europe/car-sales-segments/\"><span>Europe sales</span></a>\n",
       "<ul class=\"sub-menu\">\n",
       "\t<li class=\"menu-item menu-item-type-taxonomy menu-item-object-category menu-item-4567\" id=\"menu-item-4567\"><a href=\"http://carsalesbase.com/category/car-sales-europe/car-sales-segments/minicar-segment/\"><span>Minicar segment</span></a></li>\n",
       "\t<li class=\"menu-item menu-item-type-taxonomy menu-item-object-category menu-item-4569\" id=\"menu-item-4569\"><a href=\"http://carsalesbase.com/category/car-sales-europe/car-sales-segments/subcompact-segment/\"><span>Subcompact car segment</span></a></li>\n",
       "\t<li class=\"menu-item menu-item-type-taxonomy menu-item-object-category menu-item-35525\" id=\"menu-item-35525\"><a href=\"http://carsalesbase.com/category/car-sales-europe/car-sales-segments/compact-segment/\"><span>Compact car segment</span></a></li>\n",
       "\t<li class=\"menu-item menu-item-type-taxonomy menu-item-object-category menu-item-4565\" id=\"menu-item-4565\"><a href=\"http://carsalesbase.com/category/car-sales-europe/car-sales-segments/midsize-segment/\"><span>Midsized car segment</span></a></li>\n",
       "\t<li class=\"menu-item menu-item-type-taxonomy menu-item-object-category menu-item-4568\" id=\"menu-item-4568\"><a href=\"http://carsalesbase.com/category/car-sales-europe/car-sales-segments/small-mpv-segment/\"><span>Small MPV segment</span></a></li>\n",
       "\t<li class=\"menu-item menu-item-type-taxonomy menu-item-object-category menu-item-4566\" id=\"menu-item-4566\"><a href=\"http://carsalesbase.com/category/car-sales-europe/car-sales-segments/midsized-mpv-segment/\"><span>Midsized MPV segment</span></a></li>\n",
       "\t<li class=\"menu-item menu-item-type-taxonomy menu-item-object-category menu-item-4564\" id=\"menu-item-4564\"><a href=\"http://carsalesbase.com/category/car-sales-europe/car-sales-segments/large-mpv-segment/\"><span>Large MPV segment</span></a></li>\n",
       "\t<li class=\"menu-item menu-item-type-taxonomy menu-item-object-category menu-item-4580\" id=\"menu-item-4580\"><a href=\"http://carsalesbase.com/category/car-sales-europe/car-sales-segments/small-suv-segment/\"><span>Small SUV segment</span></a></li>\n",
       "\t<li class=\"menu-item menu-item-type-taxonomy menu-item-object-category menu-item-4573\" id=\"menu-item-4573\"><a href=\"http://carsalesbase.com/category/car-sales-europe/car-sales-segments/midsized-suv-segment/\"><span>Midsized SUV segment</span></a></li>\n",
       "\t<li class=\"menu-item menu-item-type-taxonomy menu-item-object-category menu-item-4571\" id=\"menu-item-4571\"><a href=\"http://carsalesbase.com/category/car-sales-europe/car-sales-segments/large-suv-segment/\"><span>Large SUV segment</span></a></li>\n",
       "\t<li class=\"menu-item menu-item-type-taxonomy menu-item-object-category menu-item-12270\" id=\"menu-item-12270\"><a href=\"http://carsalesbase.com/category/car-sales-europe/car-sales-segments/ev-segment/\"><span>EV segment</span></a></li>\n",
       "\t<li class=\"menu-item menu-item-type-taxonomy menu-item-object-category menu-item-4575\" id=\"menu-item-4575\"><a href=\"http://carsalesbase.com/category/car-sales-europe/car-sales-segments/premium-compact-segment/\"><span>Premium compact car segment</span></a></li>\n",
       "\t<li class=\"menu-item menu-item-type-taxonomy menu-item-object-category menu-item-4579\" id=\"menu-item-4579\"><a href=\"http://carsalesbase.com/category/car-sales-europe/car-sales-segments/premium-midsize-segment/\"><span>Premium midsized car segment</span></a></li>\n",
       "\t<li class=\"menu-item menu-item-type-taxonomy menu-item-object-category menu-item-4577\" id=\"menu-item-4577\"><a href=\"http://carsalesbase.com/category/car-sales-europe/car-sales-segments/premium-large-car-segment/\"><span>Premium large car segment</span></a></li>\n",
       "\t<li class=\"menu-item menu-item-type-taxonomy menu-item-object-category menu-item-4572\" id=\"menu-item-4572\"><a href=\"http://carsalesbase.com/category/car-sales-europe/car-sales-segments/limousine-segment/\"><span>Limousine segment</span></a></li>\n",
       "\t<li class=\"menu-item menu-item-type-taxonomy menu-item-object-category menu-item-4576\" id=\"menu-item-4576\"><a href=\"http://carsalesbase.com/category/car-sales-europe/car-sales-segments/premium-compact-suv-segment/\"><span>Premium midsized and compact SUV segment</span></a></li>\n",
       "\t<li class=\"menu-item menu-item-type-taxonomy menu-item-object-category menu-item-4578\" id=\"menu-item-4578\"><a href=\"http://carsalesbase.com/category/car-sales-europe/car-sales-segments/premium-large-suv-segment/\"><span>Premium large SUV segment</span></a></li>\n",
       "\t<li class=\"menu-item menu-item-type-taxonomy menu-item-object-category menu-item-12269\" id=\"menu-item-12269\"><a href=\"http://carsalesbase.com/category/car-sales-europe/car-sales-segments/coupe-convertible-segment/\"><span>Coupe and Convertible segments</span></a></li>\n",
       "\t<li class=\"menu-item menu-item-type-taxonomy menu-item-object-category menu-item-4570\" id=\"menu-item-4570\"><a href=\"http://carsalesbase.com/category/car-sales-europe/car-sales-segments/exotic-car-segment/\"><span>Exotic car segment</span></a></li>\n",
       "\t<li class=\"menu-item menu-item-type-taxonomy menu-item-object-category menu-item-4574\" id=\"menu-item-4574\"><a href=\"http://carsalesbase.com/category/car-sales-europe/car-sales-segments/passenger-van-segment/\"><span>Passenger van segment</span></a></li>\n",
       "\t<li class=\"menu-item menu-item-type-taxonomy menu-item-object-category menu-item-36944\" id=\"menu-item-36944\"><a href=\"http://carsalesbase.com/category/car-sales-europe/car-sales-segments/lcv-sales/\"><span>LCV sales</span></a></li>\n",
       "</ul>\n",
       "</li>\n",
       "<li class=\"menu-item menu-item-type-taxonomy menu-item-object-category current-post-ancestor menu-item-has-children menu-item-26701\" id=\"menu-item-26701\"><a href=\"http://carsalesbase.com/category/car-sales-us/\"><span>US sales</span></a>\n",
       "<ul class=\"sub-menu\">\n",
       "\t<li class=\"menu-item menu-item-type-taxonomy menu-item-object-category menu-item-29061\" id=\"menu-item-29061\"><a href=\"http://carsalesbase.com/category/car-sales-us/car-sales-segments-us/minicar-segment-us/\"><span>US Minicar segment</span></a></li>\n",
       "\t<li class=\"menu-item menu-item-type-taxonomy menu-item-object-category menu-item-29071\" id=\"menu-item-29071\"><a href=\"http://carsalesbase.com/category/car-sales-us/car-sales-segments-us/subcompact-segment-us/\"><span>US Subcompact car segment</span></a></li>\n",
       "\t<li class=\"menu-item menu-item-type-taxonomy menu-item-object-category current-post-ancestor current-menu-parent current-post-parent menu-item-29051\" id=\"menu-item-29051\"><a href=\"http://carsalesbase.com/category/car-sales-us/car-sales-segments-us/compact-segment-us/\"><span>US Compact car segment</span></a></li>\n",
       "\t<li class=\"menu-item menu-item-type-taxonomy menu-item-object-category menu-item-29059\" id=\"menu-item-29059\"><a href=\"http://carsalesbase.com/category/car-sales-us/car-sales-segments-us/midsized-segment-us/\"><span>US Mid-sized car segment</span></a></li>\n",
       "\t<li class=\"menu-item menu-item-type-taxonomy menu-item-object-category menu-item-29055\" id=\"menu-item-29055\"><a href=\"http://carsalesbase.com/category/car-sales-us/car-sales-segments-us/large-segment-us/\"><span>US Large car segment</span></a></li>\n",
       "\t<li class=\"menu-item menu-item-type-taxonomy menu-item-object-category menu-item-29062\" id=\"menu-item-29062\"><a href=\"http://carsalesbase.com/category/car-sales-us/car-sales-segments-us/minivan-segment-us/\"><span>US Minivan segment</span></a></li>\n",
       "\t<li class=\"menu-item menu-item-type-taxonomy menu-item-object-category menu-item-29053\" id=\"menu-item-29053\"><a href=\"http://carsalesbase.com/category/car-sales-us/car-sales-segments-us/compact-suv-segment-us/\"><span>US Compact SUV segment</span></a></li>\n",
       "\t<li class=\"menu-item menu-item-type-taxonomy menu-item-object-category menu-item-29072\" id=\"menu-item-29072\"><a href=\"http://carsalesbase.com/category/car-sales-us/car-sales-segments-us/subcompact-suv-segment-us/\"><span>US Subcompact SUV segment</span></a></li>\n",
       "\t<li class=\"menu-item menu-item-type-taxonomy menu-item-object-category menu-item-29060\" id=\"menu-item-29060\"><a href=\"http://carsalesbase.com/category/car-sales-us/car-sales-segments-us/midsized-suv-segment-us/\"><span>US Mid-sized SUV segment</span></a></li>\n",
       "\t<li class=\"menu-item menu-item-type-taxonomy menu-item-object-category menu-item-29057\" id=\"menu-item-29057\"><a href=\"http://carsalesbase.com/category/car-sales-us/car-sales-segments-us/large-suv-segment-us/\"><span>US Large SUV segment</span></a></li>\n",
       "\t<li class=\"menu-item menu-item-type-taxonomy menu-item-object-category menu-item-29070\" id=\"menu-item-29070\"><a href=\"http://carsalesbase.com/category/car-sales-us/car-sales-segments-us/small-pickup-segment-us/\"><span>US Small pickup segment</span></a></li>\n",
       "\t<li class=\"menu-item menu-item-type-taxonomy menu-item-object-category menu-item-29063\" id=\"menu-item-29063\"><a href=\"http://carsalesbase.com/category/car-sales-us/car-sales-segments-us/pickup-segment-us/\"><span>US Pickup segment</span></a></li>\n",
       "\t<li class=\"menu-item menu-item-type-taxonomy menu-item-object-category current-post-ancestor current-menu-parent current-post-parent menu-item-29064\" id=\"menu-item-29064\"><a href=\"http://carsalesbase.com/category/car-sales-us/car-sales-segments-us/premium-compact-segment-us/\"><span>US Premium compact car segment</span></a></li>\n",
       "\t<li class=\"menu-item menu-item-type-taxonomy menu-item-object-category menu-item-29068\" id=\"menu-item-29068\"><a href=\"http://carsalesbase.com/category/car-sales-us/car-sales-segments-us/premium-midsized-segment-us/\"><span>US Premium mid-sized car segment</span></a></li>\n",
       "\t<li class=\"menu-item menu-item-type-taxonomy menu-item-object-category menu-item-29066\" id=\"menu-item-29066\"><a href=\"http://carsalesbase.com/category/car-sales-us/car-sales-segments-us/premium-large-segment-us/\"><span>US Premium large car segment</span></a></li>\n",
       "\t<li class=\"menu-item menu-item-type-taxonomy menu-item-object-category menu-item-29058\" id=\"menu-item-29058\"><a href=\"http://carsalesbase.com/category/car-sales-us/car-sales-segments-us/limousine-segment-us/\"><span>US Limousine segment</span></a></li>\n",
       "\t<li class=\"menu-item menu-item-type-taxonomy menu-item-object-category menu-item-29065\" id=\"menu-item-29065\"><a href=\"http://carsalesbase.com/category/car-sales-us/car-sales-segments-us/premium-compact-suv-segment-us/\"><span>US Premium compact SUV segment</span></a></li>\n",
       "\t<li class=\"menu-item menu-item-type-taxonomy menu-item-object-category menu-item-29069\" id=\"menu-item-29069\"><a href=\"http://carsalesbase.com/category/car-sales-us/car-sales-segments-us/premium-midsized-suv-segment-us/\"><span>US Premium mid-sized SUV segment</span></a></li>\n",
       "\t<li class=\"menu-item menu-item-type-taxonomy menu-item-object-category menu-item-29067\" id=\"menu-item-29067\"><a href=\"http://carsalesbase.com/category/car-sales-us/car-sales-segments-us/premium-large-suv-segment-us/\"><span>US Premium large SUV segment</span></a></li>\n",
       "\t<li class=\"menu-item menu-item-type-taxonomy menu-item-object-category menu-item-29050\" id=\"menu-item-29050\"><a href=\"http://carsalesbase.com/category/car-sales-us/car-sales-segments-us/commercial-van-segment-us/\"><span>US Commercial van segment</span></a></li>\n",
       "\t<li class=\"menu-item menu-item-type-taxonomy menu-item-object-category menu-item-29049\" id=\"menu-item-29049\"><a href=\"http://carsalesbase.com/category/car-sales-us/car-sales-segments-us/ev-segment-us/\"><span>EV &amp; PHEV segment</span></a></li>\n",
       "\t<li class=\"menu-item menu-item-type-taxonomy menu-item-object-category menu-item-29052\" id=\"menu-item-29052\"><a href=\"http://carsalesbase.com/category/car-sales-us/car-sales-segments-us/compact-sportscar-segment-us/\"><span>Sports Car Compact segment</span></a></li>\n",
       "\t<li class=\"menu-item menu-item-type-taxonomy menu-item-object-category menu-item-29056\" id=\"menu-item-29056\"><a href=\"http://carsalesbase.com/category/car-sales-us/car-sales-segments-us/large-sportscar-segment-us/\"><span>Sports Car Large segment</span></a></li>\n",
       "\t<li class=\"menu-item menu-item-type-taxonomy menu-item-object-category menu-item-29054\" id=\"menu-item-29054\"><a href=\"http://carsalesbase.com/category/car-sales-us/car-sales-segments-us/exotic-car-segment-us/\"><span>US Exotic car segment</span></a></li>\n",
       "</ul>\n",
       "</li>\n",
       "<li class=\"menu-item menu-item-type-post_type menu-item-object-page menu-item-has-children menu-item-22405\" id=\"menu-item-22405\"><a href=\"http://carsalesbase.com/china-car-sales-data/\"><span>China sales</span></a>\n",
       "<ul class=\"sub-menu\">\n",
       "\t<li class=\"menu-item menu-item-type-taxonomy menu-item-object-category menu-item-31068\" id=\"menu-item-31068\"><a href=\"http://carsalesbase.com/category/car-sales-china/\"><span>China monthly reports</span></a></li>\n",
       "</ul>\n",
       "</li>\n",
       "<li class=\"menu-item menu-item-type-post_type menu-item-object-page menu-item-44201\" id=\"menu-item-44201\"><a href=\"http://carsalesbase.com/total-market-sales-country/\"><span>Countries</span></a></li>\n",
       "<li class=\"menu-item menu-item-type-post_type menu-item-object-page menu-item-47199\" id=\"menu-item-47199\"><a href=\"http://carsalesbase.com/car-sales-comparison/\"><span>Comparison tool</span></a></li>\n",
       "<li class=\"menu-item menu-item-type-taxonomy menu-item-object-category menu-item-has-children menu-item-12273\" id=\"menu-item-12273\"><a href=\"http://carsalesbase.com/category/fun-stuff/\"><span>Fun stuff</span></a>\n",
       "<ul class=\"sub-menu\">\n",
       "\t<li class=\"menu-item menu-item-type-taxonomy menu-item-object-category menu-item-38034\" id=\"menu-item-38034\"><a href=\"http://carsalesbase.com/category/fun-stuff/polls/\"><span>Polls</span></a></li>\n",
       "\t<li class=\"menu-item menu-item-type-taxonomy menu-item-object-category menu-item-29862\" id=\"menu-item-29862\"><a href=\"http://carsalesbase.com/category/fun-stuff/lookalike/\"><span>Look-a-like</span></a></li>\n",
       "</ul>\n",
       "</li>\n",
       "<li class=\"menu-item menu-item-type-taxonomy menu-item-object-category menu-item-31\" id=\"menu-item-31\"><a href=\"http://carsalesbase.com/category/opinion/\"><span>Opinion</span></a></li>\n",
       "<li class=\"menu-item menu-item-type-taxonomy menu-item-object-category menu-item-405\" id=\"menu-item-405\"><a href=\"http://carsalesbase.com/category/industry/\"><span>Industry</span></a></li>\n",
       "<li class=\"menu-item menu-item-type-taxonomy menu-item-object-category menu-item-12274\" id=\"menu-item-12274\"><a href=\"http://carsalesbase.com/category/news/\"><span>News</span></a></li>\n",
       "<li class=\"menu-item menu-item-type-post_type menu-item-object-page menu-item-19012\" id=\"menu-item-19012\"><a href=\"http://carsalesbase.com/about/\"><span>About</span></a></li>\n",
       "</ul></div></nav><div class=\"site-inner\"><script async=\"\" src=\"//pagead2.googlesyndication.com/pagead/js/adsbygoogle.js\"></script>\n",
       "<!-- Leaderboard groot -->\n",
       "<ins class=\"adsbygoogle\" data-ad-client=\"ca-pub-9301392272469332\" data-ad-slot=\"3132324795\" style=\"display:inline-block;width:970px;height:90px\"></ins>\n",
       "<script>\n",
       "(adsbygoogle = window.adsbygoogle || []).push({});\n",
       "</script><div class=\"content-sidebar-wrap\"><main class=\"content\"><div class=\"breadcrumb\"><span><span><a href=\"http://carsalesbase.com/\">Home</a> » <strong aria-current=\"page\" class=\"breadcrumb_last\">US sales analysis 2019 – Compact cars</strong></span></span></div><article class=\"post-56068 post type-post status-publish format-standard has-post-thumbnail category-compact-segment-us category-premium-compact-segment-us tag-2014 tag-acura-ilx tag-audi-a3 tag-bmw-2-series tag-bmw-i3 tag-chevrolet-bolt-ev tag-chevrolet-cruze tag-chevrolet-volt tag-compact tag-fiat-500l tag-ford-focus tag-honda-civic tag-hyundai-elantra tag-hyundai-ioniq tag-kia-forte tag-lexus-ct tag-mazda3 tag-mercedes-benz-a-class tag-mercedes-benz-cla tag-mini-clubman tag-mitsubishi-lancer tag-nissan-leaf tag-nissan-sentra tag-sales tag-subaru-impreza tag-toyota-corolla tag-toyota-corolla-hatchback tag-toyota-mirai tag-toyota-prius tag-us tag-vw-beetle tag-vw-golf tag-vw-jetta entry\"><header class=\"entry-header\"><h1 class=\"entry-title\">US sales analysis 2019 – Compact cars</h1>\n",
       "<p class=\"entry-meta\"><time class=\"entry-time\">January 22, 2020</time> by <span class=\"entry-author\"><a class=\"entry-author-link\" href=\"http://carsalesbase.com/author/leftlane/\" rel=\"author\"><span class=\"entry-author-name\">Bart Demandt</span></a></span> <span class=\"entry-comments-link\"><a href=\"http://carsalesbase.com/us-sales-2019-compact-cars/#respond\">Leave a Comment</a></span> </p></header><div class=\"entry-content\"><!-- Social Ring Buttons Start --><div class=\"social-ring\">\n",
       "<div class=\"social-ring-button\"><a class=\"sr-twitter-button twitter-share-button\" data-count=\"horizontal\" data-text=\"US sales analysis 2019 – Compact cars\" data-url=\"http://carsalesbase.com/us-sales-2019-compact-cars/\" href=\"http://twitter.com/share\" lang=\"en\" rel=\"nofollow\"></a></div>\n",
       "<div class=\"social-ring-button\"><a href=\"https://www.facebook.com/sharer/sharer.php?s=100&amp;p[url]=http://carsalesbase.com/us-sales-2019-compact-cars/\" onclick=\"window.open('https://www.facebook.com/sharer/sharer.php?s=100&amp;p[url]=http://carsalesbase.com/us-sales-2019-compact-cars/', 'newwindow', 'width=600, height=450'); return false;\" target=\"_blank\">\n",
       "\t\t\t\t\t\t\t<img alt=\"Share\" src=\"http://carsalesbase.com/wp-content/plugins/wordpress-social-ring/includes/../admin/images/sr-fb-share.png\" style=\"display:block; background: none; padding: 0px; border:0px;\"/>\n",
       "\t\t\t\t\t\t</a></div>\n",
       "<div class=\"social-ring-button\"><fb:like action=\"like\" href=\"http://carsalesbase.com/us-sales-2019-compact-cars/\" layout=\"button_count\" showfaces=\"false\"></fb:like></div>\n",
       "<div class=\"social-ring-button\"><div class=\"g-plusone\" data-href=\"http://carsalesbase.com/us-sales-2019-compact-cars/\" data-size=\"medium\"></div></div>\n",
       "<div class=\"social-ring-button\"><a class=\"pin-it-button\" count-layout=\"horizontal\" href=\"http://pinterest.com/pin/create/button/?url=http%3A%2F%2Fcarsalesbase.com%2Fus-sales-2019-compact-cars%2F&amp;media=http%3A%2F%2Fcarsalesbase.com%2Fwp-content%2Fuploads%2F2020%2F01%2FUS-car_sales-compact_car-segment-Honda_Civic-Toyota_Corolla-Nissan_Sentra.jpg&amp;description=US+sales+analysis+2019+%E2%80%93+Compact+cars\" rel=\"nofollow\"></a></div>\n",
       "<div class=\"social-ring-button\"><script src=\"//platform.linkedin.com/in.js\" type=\"text/javascript\"></script><script data-counter=\"right\" data-url=\"http://carsalesbase.com/us-sales-2019-compact-cars/\" type=\"IN/Share\"></script></div>\n",
       "</div><!-- Social Ring Buttons End -->\n",
       "<p><img alt=\"\" class=\"alignright size-full wp-image-56074\" height=\"400\" sizes=\"(max-width: 400px) 100vw, 400px\" src=\"http://carsalesbase.com/wp-content/uploads/2020/01/US-car_sales-compact_car-segment-Honda_Civic-Toyota_Corolla-Nissan_Sentra.jpg\" srcset=\"http://carsalesbase.com/wp-content/uploads/2020/01/US-car_sales-compact_car-segment-Honda_Civic-Toyota_Corolla-Nissan_Sentra.jpg 400w, http://carsalesbase.com/wp-content/uploads/2020/01/US-car_sales-compact_car-segment-Honda_Civic-Toyota_Corolla-Nissan_Sentra-300x300.jpg 300w, http://carsalesbase.com/wp-content/uploads/2020/01/US-car_sales-compact_car-segment-Honda_Civic-Toyota_Corolla-Nissan_Sentra-150x150.jpg 150w, http://carsalesbase.com/wp-content/uploads/2020/01/US-car_sales-compact_car-segment-Honda_Civic-Toyota_Corolla-Nissan_Sentra-380x380.jpg 380w\" width=\"400\"/>Sales of compact cars in the United States are down by a worrying 16% in 2019, and the segment is down 1.6 percentage points of share of the total US car market, to 9.7%. It now holds 35% of the sedan market in the US, down from 36.8% in 2018. The <a href=\"http://carsalesbase.com/european-car-sales-data/Honda/Honda-Civic/\" title=\"Honda Civic\">Honda Civic</a> and <a href=\"http://carsalesbase.com/european-car-sales-data/Toyota/Toyota-Corolla/\" title=\"Toyota Corolla\">Toyota Corolla</a> consolidate their leadership thanks to stable sales while their closest two rivals both see their sales drop by double digits. The Civic and Corolla are now not only the only two nameplates to sell over 300,000 cars each, but also the only ones to sell over 200,000 cars, with the Nissan Sentra and <a href=\"http://carsalesbase.com/european-car-sales-data/Hyundai/Hyundai-elantra/\" title=\"Hyundai Elantra\">Hyundai Elantra</a> both dropping below that threshold as both are down by 13%. The Civic and Corolla together hold 38% of the compact car segment (39.7% of non-luxury compact cars), up from 32% in 2018. We lose three members of the 100k sales club, as the <a href=\"http://carsalesbase.com/european-car-sales-data/Ford/Ford-Focus/\" title=\"Ford Focus\">Ford Focus</a> and <a href=\"http://carsalesbase.com/european-car-sales-data/Chevrolet/Chevrolet-Cruze/\" title=\"Chevrolet Cruze\">Chevrolet Cruze</a> have been killed by their manufacturers and the Kia Forte dropped below that mark despite falling slower than the overall segment. We do welcome a returning member after a 1-year absence with the Jetta back above 100,000 sales again, allowing it to jump from 8<sup>th</sup> in 2018 to 5<sup>th</sup> in 2019. <span id=\"more-56068\"></span>Sales of the <a href=\"http://carsalesbase.com/european-car-sales-data/Toyota/Toyota-Prius/\" title=\"Toyota Prius\">Toyota Prius</a> continue to drop as the brand keeps introducing hybrid versions of its other models, which results in the nameplate’s lowest sales figure since 2004 after seven years of consecutive declines, from its peak of over 236,000 sales in 2012 to just under 70,000 sales in 2019.</p>\n",
       "<p>Both Subaru models are down by double digits, but whereas the Impreza manages to do slightly better than the rest of the segment at -13%, the WRX loses almost a quarter of its sales. The <a href=\"http://carsalesbase.com/european-car-sales-data/Mazda/Mazda3/\" title=\"Mazda3\">Mazda3</a> is down despite the new model, but that shouldn’t come as much of a surprise considering the brand has raised its prices considerably with the model change. As a result, sales of especially the base versions have suffered, but the higher end versions have actually gained popularity, meaning Mazda has offered volume for profitability. The <a href=\"http://carsalesbase.com/european-car-sales-data/Volkswagen/Volkswagen-Golf/\" title=\"Volkswagen Golf\">Volkswagen Golf</a> is also down but does better than the segment as a whole, despite being in the last year of its current generation. However, these figures hide the fact that 2019 was the best year ever for the e-Golf at 4,863 sales (compared to 5,644 for the regular Golf hatchback, and 12,365 for the <a href=\"http://carsalesbase.com/european-car-sales-data/Nissan/Nissan-Leaf/\" title=\"Nissan Leaf\">Nissan Leaf</a> EV), and the second-best ever year for the Golf R at 4,223 sales, after the 4,493 sales in 2016. VW has not yet announced which versions of the 8th generation Golf will make its Stateside, but the GTI, R and e-Golf are generally expected to survive, while the regular Golf hatchback and SportWagen are expected to be cut. Ford has already abandoned the segment altogether by not bringing the new generation Focus to the US.</p>\n",
       "<p>The <a href=\"http://carsalesbase.com/european-car-sales-data/Honda/Honda-Insight/\" title=\"Honda Insight\">Honda Insight</a> reaches over 23,000 sales in the first full year of the current generation, which is a new record for all three generations of the nameplate and ahead of the <a href=\"http://carsalesbase.com/european-car-sales-data/Hyundai/Hyundai-ioniq/\" title=\"Hyundai Ioniq\">Hyundai Ioniq</a>, which improves by 30% to also set a new sales record. Ioniq sales are still for over 90% the hybrid version, with the Plug-in hybrid and EV struggling to find more than a few dozen buyers per month. <img alt=\"\" class=\"alignleft size-full wp-image-56082\" height=\"400\" sizes=\"(max-width: 400px) 100vw, 400px\" src=\"http://carsalesbase.com/wp-content/uploads/2020/01/US-car_sales-compact_luxury_car-segment-Mercedes_A_Class-Acura_ILX-Mercedes_CLA.jpg\" srcset=\"http://carsalesbase.com/wp-content/uploads/2020/01/US-car_sales-compact_luxury_car-segment-Mercedes_A_Class-Acura_ILX-Mercedes_CLA.jpg 400w, http://carsalesbase.com/wp-content/uploads/2020/01/US-car_sales-compact_luxury_car-segment-Mercedes_A_Class-Acura_ILX-Mercedes_CLA-300x300.jpg 300w, http://carsalesbase.com/wp-content/uploads/2020/01/US-car_sales-compact_luxury_car-segment-Mercedes_A_Class-Acura_ILX-Mercedes_CLA-150x150.jpg 150w, http://carsalesbase.com/wp-content/uploads/2020/01/US-car_sales-compact_luxury_car-segment-Mercedes_A_Class-Acura_ILX-Mercedes_CLA-380x380.jpg 380w\" width=\"400\"/>The VW Beetle, in its last year of production, is up 19%, and this is all thanks to the Convertible version which improves nearly 65% while the Coupe version is down 10.8%. As a result, 2019 is the first year that sales of the topless Beetle have exceeded those of the hardtop version. The Chevrolet Bolt EV is already past its peak at -9% but at least improves its share of the segment, which helps the EV share of the compact car segment improve from 1.9% in 2018 to 2.2% in 2019. The <a href=\"http://carsalesbase.com/european-car-sales-data/Nissan/Nissan-Leaf/\" title=\"Nissan Leaf\">Nissan Leaf</a> EV is down 16%, like the overall segment, while <a href=\"http://carsalesbase.com/european-car-sales-data/BMW/BMW-i3/\" title=\"BMW i3\">BMW i3</a> loses 21% and the Toyota Mirai Hydrogen Fuel Cell EV is down 12%.</p>\n",
       "<p>In the luxury part of the segment, which makes up just 4.4% of the overall compact car class, the newcomer <a href=\"http://carsalesbase.com/european-car-sales-data/Mercedes-Benz/Mercedes-Benz-A-Class/\" title=\"Mercedes-Benz A-Class\">Mercedes-Benz A-Class</a> sedan immediately claims the lead with over 17,600 sales, but it cannibalizes sales of the CLA, which is down 45%. It will be interesting to see how these two models compete when the CLA is also renewed in 2020. The Acura ILX enjoys a 30% growth thanks to the facelift and a price cut, but it’s still well below its peak years of 2013-2015. The A-Class and ILX are keeping the luxury compact car segment stable on 2018 as all other nameplates are down by double digits. The <a href=\"http://carsalesbase.com/european-car-sales-data/Audi/Audi-A3/\" title=\"Audi A3\">Audi A3</a> is starting to show its age with a decline of 43% but manages to stay ahead of the BMW 2-Series, down 13%.</p>\n",
       "<h2>US compact car sales 2019</h2>\n",
       "<table border=\"1\" cellpadding=\"0\" cellspacing=\"0\" class=\"aligncenter\" style=\"border-collapse: collapse; width: 100%;\" width=\"100%\">\n",
       "<colgroup>\n",
       "<col style=\"width: 20,25pt;\" width=\"27\"/>\n",
       "<col style=\"width: 117,75pt;\" width=\"157\"/>\n",
       "<col style=\"width: 70,50pt;\" width=\"94\"/>\n",
       "<col style=\"width: 68,25pt;\" width=\"91\"/>\n",
       "<col style=\"width: 46,50pt;\" width=\"62\"/> </colgroup>\n",
       "<tbody>\n",
       "<tr style=\"height: 15,00pt;\">\n",
       "<td class=\"et3\" height=\"20\" style=\"height: 15,00pt; width: 20,25pt;\" width=\"27\"></td>\n",
       "<td class=\"et6\" style=\"width: 117,75pt;\" width=\"157\"><strong><a href=\"http://carsalesbase.com/car-sales-europe/car-sales-segments/compact-segment/\" title=\"Compact segment\">Compact segment</a></strong></td>\n",
       "<td class=\"et7\" style=\"text-align: right;\" width=\"94\"><strong>2019</strong></td>\n",
       "<td class=\"et7\" style=\"text-align: right;\" width=\"91\"><strong>2018</strong></td>\n",
       "<td class=\"et8\" style=\"text-align: right;\" width=\"62\"><strong>Change</strong></td>\n",
       "</tr>\n",
       "<tr style=\"height: 14,25pt;\">\n",
       "<td align=\"right\" class=\"et3\" height=\"19\" style=\"height: 14,25pt;\">1</td>\n",
       "<td class=\"et9\"><a href=\"http://carsalesbase.com/european-car-sales-data/Honda/Honda-Civic/\" title=\"Honda Civic\">Honda Civic</a></td>\n",
       "<td align=\"right\" class=\"et10\" style=\"text-align: right;\">325.650</td>\n",
       "<td align=\"right\" class=\"et10\" style=\"text-align: right;\">325.760</td>\n",
       "<td class=\"et11\" style=\"text-align: right;\">0%</td>\n",
       "</tr>\n",
       "<tr style=\"height: 14,25pt;\">\n",
       "<td align=\"right\" class=\"et3\" height=\"19\" style=\"height: 14,25pt;\">2</td>\n",
       "<td class=\"et9\"><a href=\"http://carsalesbase.com/european-car-sales-data/Toyota/Toyota-Corolla/\" title=\"Toyota Corolla\">Toyota Corolla</a></td>\n",
       "<td align=\"right\" class=\"et10\" style=\"text-align: right;\">304.840</td>\n",
       "<td align=\"right\" class=\"et10\" style=\"text-align: right;\">303.732</td>\n",
       "<td class=\"et11\" style=\"text-align: right;\">0%</td>\n",
       "</tr>\n",
       "<tr style=\"height: 14,25pt;\">\n",
       "<td align=\"right\" class=\"et3\" height=\"19\" style=\"height: 14,25pt;\">3</td>\n",
       "<td class=\"et9\">Nissan Sentra</td>\n",
       "<td align=\"right\" class=\"et10\" style=\"text-align: right;\">184.618</td>\n",
       "<td align=\"right\" class=\"et10\" style=\"text-align: right;\">213.046</td>\n",
       "<td class=\"et11\" style=\"text-align: right;\">-13%</td>\n",
       "</tr>\n",
       "<tr style=\"height: 14,25pt;\">\n",
       "<td align=\"right\" class=\"et3\" height=\"19\" style=\"height: 14,25pt;\">4</td>\n",
       "<td class=\"et9\"><a href=\"http://carsalesbase.com/european-car-sales-data/Hyundai/Hyundai-elantra/\" title=\"Hyundai Elantra\">Hyundai Elantra</a></td>\n",
       "<td align=\"right\" class=\"et10\" style=\"text-align: right;\">175.094</td>\n",
       "<td align=\"right\" class=\"et10\" style=\"text-align: right;\">200.415</td>\n",
       "<td class=\"et11\" style=\"text-align: right;\">-13%</td>\n",
       "</tr>\n",
       "<tr style=\"height: 14,25pt;\">\n",
       "<td align=\"right\" class=\"et3\" height=\"19\" style=\"height: 14,25pt;\">5</td>\n",
       "<td class=\"et9\"><a href=\"http://carsalesbase.com/european-car-sales-data/Volkswagen/Volkswagen-Jetta/\" title=\"Volkswagen Jetta\">Volkswagen Jetta</a></td>\n",
       "<td align=\"right\" class=\"et10\" style=\"text-align: right;\">100.453</td>\n",
       "<td align=\"right\" class=\"et10\" style=\"text-align: right;\">90.805</td>\n",
       "<td class=\"et11\" style=\"text-align: right;\">11%</td>\n",
       "</tr>\n",
       "<tr style=\"height: 14,25pt;\">\n",
       "<td align=\"right\" class=\"et3\" height=\"19\" style=\"height: 14,25pt;\">6</td>\n",
       "<td class=\"et9\">Kia Forte</td>\n",
       "<td align=\"right\" class=\"et10\" style=\"text-align: right;\">95.609</td>\n",
       "<td align=\"right\" class=\"et10\" style=\"text-align: right;\">101.890</td>\n",
       "<td class=\"et11\" style=\"text-align: right;\">-6%</td>\n",
       "</tr>\n",
       "<tr style=\"height: 14,25pt;\">\n",
       "<td align=\"right\" class=\"et3\" height=\"19\" style=\"height: 14,25pt;\">7</td>\n",
       "<td class=\"et9\"><a href=\"http://carsalesbase.com/european-car-sales-data/Toyota/Toyota-Prius/\" title=\"Toyota Prius\">Toyota Prius</a></td>\n",
       "<td align=\"right\" class=\"et10\" style=\"text-align: right;\">69.718</td>\n",
       "<td align=\"right\" class=\"et10\" style=\"text-align: right;\">87.591</td>\n",
       "<td class=\"et11\" style=\"text-align: right;\">-20%</td>\n",
       "</tr>\n",
       "<tr style=\"height: 14,25pt;\">\n",
       "<td align=\"right\" class=\"et3\" height=\"19\" style=\"height: 14,25pt;\">8</td>\n",
       "<td class=\"et9\"><a href=\"http://carsalesbase.com/european-car-sales-data/Subaru/Subaru-Impreza/\" title=\"Subaru Impreza\">Subaru Impreza</a></td>\n",
       "<td align=\"right\" class=\"et10\" style=\"text-align: right;\">66.415</td>\n",
       "<td align=\"right\" class=\"et10\" style=\"text-align: right;\">76.400</td>\n",
       "<td class=\"et11\" style=\"text-align: right;\">-13%</td>\n",
       "</tr>\n",
       "<tr style=\"height: 14,25pt;\">\n",
       "<td align=\"right\" class=\"et3\" height=\"19\" style=\"height: 14,25pt;\">9</td>\n",
       "<td class=\"et9\">Mazda <a href=\"http://carsalesbase.com/european-car-sales-data/Mazda/Mazda3/\" title=\"Mazda3\">Mazda3</a></td>\n",
       "<td align=\"right\" class=\"et10\" style=\"text-align: right;\">50.741</td>\n",
       "<td align=\"right\" class=\"et10\" style=\"text-align: right;\">64.638</td>\n",
       "<td class=\"et11\" style=\"text-align: right;\">-21%</td>\n",
       "</tr>\n",
       "<tr style=\"height: 14,25pt;\">\n",
       "<td align=\"right\" class=\"et3\" height=\"19\" style=\"height: 14,25pt;\">10</td>\n",
       "<td class=\"et9\"><a href=\"http://carsalesbase.com/european-car-sales-data/Chevrolet/Chevrolet-Cruze/\" title=\"Chevrolet Cruze\">Chevrolet Cruze</a></td>\n",
       "<td align=\"right\" class=\"et10\" style=\"text-align: right;\">47.975</td>\n",
       "<td align=\"right\" class=\"et10\" style=\"text-align: right;\">142.617</td>\n",
       "<td class=\"et11\" style=\"text-align: right;\">-66%</td>\n",
       "</tr>\n",
       "<tr style=\"height: 14,25pt;\">\n",
       "<td align=\"right\" class=\"et3\" height=\"19\" style=\"height: 14,25pt;\">11</td>\n",
       "<td class=\"et9\"><a href=\"http://carsalesbase.com/european-car-sales-data/Volkswagen/Volkswagen-Golf/\" title=\"Volkswagen Golf\">Volkswagen Golf</a></td>\n",
       "<td align=\"right\" class=\"et10\" style=\"text-align: right;\">37.393</td>\n",
       "<td align=\"right\" class=\"et10\" style=\"text-align: right;\">42.271</td>\n",
       "<td class=\"et11\" style=\"text-align: right;\">-12%</td>\n",
       "</tr>\n",
       "<tr style=\"height: 14,25pt;\">\n",
       "<td align=\"right\" class=\"et3\" height=\"19\" style=\"height: 14,25pt;\">12</td>\n",
       "<td class=\"et12\"><a href=\"http://carsalesbase.com/european-car-sales-data/Honda/Honda-Insight/\" title=\"Honda Insight\">Honda Insight</a></td>\n",
       "<td align=\"right\" class=\"et10\" style=\"text-align: right;\">23.686</td>\n",
       "<td align=\"right\" class=\"et10\" style=\"text-align: right;\">12.510</td>\n",
       "<td class=\"et11\" style=\"text-align: right;\">89%</td>\n",
       "</tr>\n",
       "<tr style=\"height: 14,25pt;\">\n",
       "<td align=\"right\" class=\"et3\" height=\"19\" style=\"height: 14,25pt;\">13</td>\n",
       "<td class=\"et9\">Subaru WRX</td>\n",
       "<td align=\"right\" class=\"et10\" style=\"text-align: right;\">21.838</td>\n",
       "<td align=\"right\" class=\"et10\" style=\"text-align: right;\">28.730</td>\n",
       "<td class=\"et11\" style=\"text-align: right;\">-24%</td>\n",
       "</tr>\n",
       "<tr style=\"height: 14,25pt;\">\n",
       "<td align=\"right\" class=\"et3\" height=\"19\" style=\"height: 14,25pt;\">14</td>\n",
       "<td class=\"et12\"><a href=\"http://carsalesbase.com/european-car-sales-data/Hyundai/Hyundai-ioniq/\" title=\"Hyundai Ioniq\">Hyundai Ioniq</a></td>\n",
       "<td align=\"right\" class=\"et10\" style=\"text-align: right;\">19.574</td>\n",
       "<td align=\"right\" class=\"et10\" style=\"text-align: right;\">15.076</td>\n",
       "<td class=\"et11\" style=\"text-align: right;\">30%</td>\n",
       "</tr>\n",
       "<tr style=\"height: 14,25pt;\">\n",
       "<td align=\"right\" class=\"et3\" height=\"19\" style=\"height: 14,25pt;\">15</td>\n",
       "<td class=\"et13\"><em><a href=\"http://carsalesbase.com/european-car-sales-data/Mercedes-Benz/Mercedes-Benz-A-Class/\" title=\"Mercedes-Benz A-Class\">Mercedes-Benz A-Class</a> sedan<br/>\n",
       "</em></td>\n",
       "<td align=\"right\" class=\"et10\" style=\"text-align: right;\">17.641</td>\n",
       "<td align=\"right\" class=\"et10\" style=\"text-align: right;\">0</td>\n",
       "<td class=\"et11\" style=\"text-align: right;\">New</td>\n",
       "</tr>\n",
       "<tr style=\"height: 14,25pt;\">\n",
       "<td align=\"right\" class=\"et3\" height=\"19\" style=\"height: 14,25pt;\">16</td>\n",
       "<td class=\"et9\"><a href=\"http://carsalesbase.com/european-car-sales-data/Volkswagen/Volkswagen-Beetle/\" title=\"Volkswagen Beetle\">Volkswagen Beetle</a></td>\n",
       "<td align=\"right\" class=\"et10\" style=\"text-align: right;\">17.215</td>\n",
       "<td align=\"right\" class=\"et10\" style=\"text-align: right;\">14.411</td>\n",
       "<td class=\"et11\" style=\"text-align: right;\">19%</td>\n",
       "</tr>\n",
       "<tr style=\"height: 14,25pt;\">\n",
       "<td align=\"right\" class=\"et3\" height=\"19\" style=\"height: 14,25pt;\">17</td>\n",
       "<td class=\"et9\">Chevrolet Bolt EV</td>\n",
       "<td align=\"right\" class=\"et10\" style=\"text-align: right;\">16.418</td>\n",
       "<td align=\"right\" class=\"et10\" style=\"text-align: right;\">18.019</td>\n",
       "<td class=\"et11\" style=\"text-align: right;\">-9%</td>\n",
       "</tr>\n",
       "<tr style=\"height: 14,25pt;\">\n",
       "<td align=\"right\" class=\"et3\" height=\"19\" style=\"height: 14,25pt;\">18</td>\n",
       "<td class=\"et13\"><em>Acura ILX</em></td>\n",
       "<td align=\"right\" class=\"et10\" style=\"text-align: right;\">14.685</td>\n",
       "<td align=\"right\" class=\"et10\" style=\"text-align: right;\">11.273</td>\n",
       "<td class=\"et11\" style=\"text-align: right;\">30%</td>\n",
       "</tr>\n",
       "<tr style=\"height: 14,25pt;\">\n",
       "<td align=\"right\" class=\"et3\" height=\"19\" style=\"height: 14,25pt;\">19</td>\n",
       "<td class=\"et9\"><a href=\"http://carsalesbase.com/european-car-sales-data/Ford/Ford-Focus/\" title=\"Ford Focus\">Ford Focus</a></td>\n",
       "<td align=\"right\" class=\"et10\" style=\"text-align: right;\">12.480</td>\n",
       "<td align=\"right\" class=\"et10\" style=\"text-align: right;\">113.345</td>\n",
       "<td class=\"et11\" style=\"text-align: right;\">-89%</td>\n",
       "</tr>\n",
       "<tr style=\"height: 14,25pt;\">\n",
       "<td align=\"right\" class=\"et3\" height=\"19\" style=\"height: 14,25pt;\">20</td>\n",
       "<td class=\"et13\"><em><a href=\"http://carsalesbase.com/european-car-sales-data/Mercedes-Benz/Mercedes-Benz-CLA/\" title=\"Mercedes-Benz CLA\">Mercedes-Benz CLA</a></em></td>\n",
       "<td align=\"right\" class=\"et10\" style=\"text-align: right;\">12.400</td>\n",
       "<td align=\"right\" class=\"et10\" style=\"text-align: right;\">22.556</td>\n",
       "<td class=\"et11\" style=\"text-align: right;\">-45%</td>\n",
       "</tr>\n",
       "<tr style=\"height: 14,25pt;\">\n",
       "<td align=\"right\" class=\"et3\" height=\"19\" style=\"height: 14,25pt;\">21</td>\n",
       "<td class=\"et9\">Nissan Leaf EV</td>\n",
       "<td align=\"right\" class=\"et10\" style=\"text-align: right;\">12.365</td>\n",
       "<td align=\"right\" class=\"et10\" style=\"text-align: right;\">14.715</td>\n",
       "<td class=\"et11\" style=\"text-align: right;\">-16%</td>\n",
       "</tr>\n",
       "<tr style=\"height: 14,25pt;\">\n",
       "<td align=\"right\" class=\"et3\" height=\"19\" style=\"height: 14,25pt;\">22</td>\n",
       "<td class=\"et13\"><em><a href=\"http://carsalesbase.com/european-car-sales-data/Audi/Audi-A3/\" title=\"Audi A3\">Audi A3</a></em></td>\n",
       "<td align=\"right\" class=\"et10\" style=\"text-align: right;\">10.418</td>\n",
       "<td align=\"right\" class=\"et10\" style=\"text-align: right;\">18.305</td>\n",
       "<td class=\"et11\" style=\"text-align: right;\">-43%</td>\n",
       "</tr>\n",
       "<tr style=\"height: 14,25pt;\">\n",
       "<td align=\"right\" class=\"et3\" height=\"19\" style=\"height: 14,25pt;\">23</td>\n",
       "<td class=\"et13\"><em>BMW 2-series</em></td>\n",
       "<td align=\"right\" class=\"et10\" style=\"text-align: right;\">8.015</td>\n",
       "<td align=\"right\" class=\"et10\" style=\"text-align: right;\">9.208</td>\n",
       "<td class=\"et11\" style=\"text-align: right;\">-13%</td>\n",
       "</tr>\n",
       "<tr style=\"height: 14,25pt;\">\n",
       "<td align=\"right\" class=\"et3\" height=\"19\" style=\"height: 14,25pt;\">24</td>\n",
       "<td class=\"et9\"><a href=\"http://carsalesbase.com/european-car-sales-data/Chevrolet/Chevrolet-Volt/\" title=\"Chevrolet Volt\">Chevrolet Volt</a></td>\n",
       "<td align=\"right\" class=\"et10\" style=\"text-align: right;\">4.910</td>\n",
       "<td align=\"right\" class=\"et10\" style=\"text-align: right;\">18.306</td>\n",
       "<td class=\"et11\" style=\"text-align: right;\">-73%</td>\n",
       "</tr>\n",
       "<tr style=\"height: 14,25pt;\">\n",
       "<td align=\"right\" class=\"et3\" height=\"19\" style=\"height: 14,25pt;\">25</td>\n",
       "<td class=\"et13\"><em><a href=\"http://carsalesbase.com/european-car-sales-data/BMW/BMW-i3/\" title=\"BMW i3\">BMW i3</a></em></td>\n",
       "<td align=\"right\" class=\"et10\" style=\"text-align: right;\">4.854</td>\n",
       "<td align=\"right\" class=\"et10\" style=\"text-align: right;\">6.117</td>\n",
       "<td class=\"et11\" style=\"text-align: right;\">-21%</td>\n",
       "</tr>\n",
       "<tr style=\"height: 14,25pt;\">\n",
       "<td align=\"right\" class=\"et3\" height=\"19\" style=\"height: 14,25pt;\">26</td>\n",
       "<td class=\"et13\"><em><a href=\"http://carsalesbase.com/european-car-sales-data/Mini/Mini-Clubman/\" title=\"Mini Clubman\">Mini Clubman</a></em></td>\n",
       "<td align=\"right\" class=\"et10\" style=\"text-align: right;\">3.565</td>\n",
       "<td align=\"right\" class=\"et10\" style=\"text-align: right;\">4.385</td>\n",
       "<td class=\"et11\" style=\"text-align: right;\">-19%</td>\n",
       "</tr>\n",
       "<tr style=\"height: 14,25pt;\">\n",
       "<td align=\"right\" class=\"et3\" height=\"19\" style=\"height: 14,25pt;\">27</td>\n",
       "<td class=\"et9\">Toyota Mirai</td>\n",
       "<td align=\"right\" class=\"et10\" style=\"text-align: right;\">1.502</td>\n",
       "<td align=\"right\" class=\"et10\" style=\"text-align: right;\">1.700</td>\n",
       "<td class=\"et11\" style=\"text-align: right;\">-12%</td>\n",
       "</tr>\n",
       "<tr style=\"height: 14,25pt;\">\n",
       "<td align=\"right\" class=\"et3\" height=\"19\" style=\"height: 14,25pt;\">28</td>\n",
       "<td class=\"et9\"><a href=\"http://carsalesbase.com/european-car-sales-data/Fiat/Fiat-500L/\" title=\"Fiat 500L\">Fiat 500L</a></td>\n",
       "<td align=\"right\" class=\"et10\" style=\"text-align: right;\">771</td>\n",
       "<td align=\"right\" class=\"et10\" style=\"text-align: right;\">1.413</td>\n",
       "<td class=\"et11\" style=\"text-align: right;\">-45%</td>\n",
       "</tr>\n",
       "<tr style=\"height: 14,25pt;\">\n",
       "<td align=\"right\" class=\"et3\" height=\"19\" style=\"height: 14,25pt;\">29</td>\n",
       "<td class=\"et9\"><a href=\"http://carsalesbase.com/european-car-sales-data/Ford/Ford-CMax/\" title=\"Ford C-Max\">Ford C-Max</a></td>\n",
       "<td align=\"right\" class=\"et10\" style=\"text-align: right;\">38</td>\n",
       "<td align=\"right\" class=\"et10\" style=\"text-align: right;\">6.683</td>\n",
       "<td class=\"et11\" style=\"text-align: right;\">-99%</td>\n",
       "</tr>\n",
       "<tr style=\"height: 14,25pt;\">\n",
       "<td align=\"right\" class=\"et3\" height=\"19\" style=\"height: 14,25pt;\">30</td>\n",
       "<td class=\"et9\">Dodge Dart</td>\n",
       "<td align=\"right\" class=\"et10\" style=\"text-align: right;\">15</td>\n",
       "<td align=\"right\" class=\"et10\" style=\"text-align: right;\">389</td>\n",
       "<td class=\"et11\" style=\"text-align: right;\">-96%</td>\n",
       "</tr>\n",
       "<tr style=\"height: 14,25pt;\">\n",
       "<td align=\"right\" class=\"et3\" height=\"19\" style=\"height: 14,25pt;\">31</td>\n",
       "<td class=\"et13\"><em><a href=\"http://carsalesbase.com/european-car-sales-data/Mercedes-Benz/Mercedes-Benz-B-Class/\" title=\"Mercedes-Benz B-class\">Mercedes-Benz B-class</a> EV<br/>\n",
       "</em></td>\n",
       "<td align=\"right\" class=\"et10\" style=\"text-align: right;\">8</td>\n",
       "<td align=\"right\" class=\"et10\" style=\"text-align: right;\">135</td>\n",
       "<td class=\"et11\" style=\"text-align: right;\">-94%</td>\n",
       "</tr>\n",
       "<tr style=\"height: 15,00pt;\">\n",
       "<td class=\"et3\" height=\"20\" style=\"height: 15,00pt;\"></td>\n",
       "<td class=\"et17\"><strong>Segment total</strong></td>\n",
       "<td align=\"right\" class=\"et18\" style=\"text-align: right;\"><strong>1.660.904</strong></td>\n",
       "<td align=\"right\" class=\"et18\" style=\"text-align: right;\"><strong>1.966.441</strong></td>\n",
       "<td class=\"et19\" style=\"text-align: right;\"><strong>-16%</strong></td>\n",
       "</tr>\n",
       "</tbody>\n",
       "</table>\n",
       "<p><em>Source: Manufacturers.</em></p><div class=\"sharedaddy sd-sharing-enabled\"><div class=\"robots-nocontent sd-block sd-social sd-social-official sd-sharing\"><h3 class=\"sd-title\">Like this? Please share:</h3><div class=\"sd-content\"><ul><li class=\"share-facebook\"><div class=\"fb-share-button\" data-href=\"http://carsalesbase.com/us-sales-2019-compact-cars/\" data-layout=\"button_count\"></div></li><li class=\"share-twitter\"><a class=\"twitter-share-button\" data-text=\"US sales analysis 2019 – Compact cars\" data-url=\"http://carsalesbase.com/us-sales-2019-compact-cars/\" data-via=\"carsalesbase\" href=\"https://twitter.com/share\">Tweet</a></li><li class=\"share-pinterest\"><div class=\"pinterest_button\"><a data-pin-config=\"beside\" data-pin-do=\"buttonPin\" href=\"https://www.pinterest.com/pin/create/button/?url=http%3A%2F%2Fcarsalesbase.com%2Fus-sales-2019-compact-cars%2F&amp;media=http%3A%2F%2Fcarsalesbase.com%2Fwp-content%2Fuploads%2F2020%2F01%2FUS-car_sales-compact_car-segment-Honda_Civic-Toyota_Corolla-Nissan_Sentra.jpg&amp;description=US%20sales%20analysis%202019%20%E2%80%93%20Compact%20cars\"><img alt=\"\" src=\"//assets.pinterest.com/images/pidgets/pinit_fg_en_rect_gray_20.png\" title=\"\"/></a></div></li><li class=\"share-linkedin\"><div class=\"linkedin_button\"><script data-counter=\"right\" data-url=\"http://carsalesbase.com/us-sales-2019-compact-cars/\" type=\"in/share\"></script></div></li><li class=\"share-end\"></li></ul></div></div></div><!--<rdf:RDF xmlns:rdf=\"http://www.w3.org/1999/02/22-rdf-syntax-ns#\"\n",
       "\t\t\txmlns:dc=\"http://purl.org/dc/elements/1.1/\"\n",
       "\t\t\txmlns:trackback=\"http://madskills.com/public/xml/rss/module/trackback/\">\n",
       "\t\t<rdf:Description rdf:about=\"http://carsalesbase.com/us-sales-2019-compact-cars/\"\n",
       "    dc:identifier=\"http://carsalesbase.com/us-sales-2019-compact-cars/\"\n",
       "    dc:title=\"US sales analysis 2019 – Compact cars\"\n",
       "    trackback:ping=\"http://carsalesbase.com/us-sales-2019-compact-cars/trackback/\" />\n",
       "</rdf:RDF>-->\n",
       "</div><footer class=\"entry-footer\"><p class=\"entry-meta\"><span class=\"entry-categories\"><a href=\"http://carsalesbase.com/category/car-sales-us/car-sales-segments-us/compact-segment-us/\" rel=\"category tag\">US Compact car segment</a>, <a href=\"http://carsalesbase.com/category/car-sales-us/car-sales-segments-us/premium-compact-segment-us/\" rel=\"category tag\">US Premium compact car segment</a></span> <span class=\"entry-tags\"><a href=\"http://carsalesbase.com/tag/2019/\" rel=\"tag\">2019</a>, <a href=\"http://carsalesbase.com/tag/acura-ilx/\" rel=\"tag\">Acura ILX</a>, <a href=\"http://carsalesbase.com/tag/audi-a3/\" rel=\"tag\">Audi A3</a>, <a href=\"http://carsalesbase.com/tag/bmw-2-series/\" rel=\"tag\">BMW 2-series</a>, <a href=\"http://carsalesbase.com/tag/bmw-i3/\" rel=\"tag\">bmw i3</a>, <a href=\"http://carsalesbase.com/tag/chevrolet-bolt-ev/\" rel=\"tag\">Chevrolet Bolt EV</a>, <a href=\"http://carsalesbase.com/tag/chevrolet-cruze/\" rel=\"tag\">Chevrolet Cruze</a>, <a href=\"http://carsalesbase.com/tag/chevrolet-volt/\" rel=\"tag\">chevrolet volt</a>, <a href=\"http://carsalesbase.com/tag/compact/\" rel=\"tag\">compact</a>, <a href=\"http://carsalesbase.com/tag/fiat-500l/\" rel=\"tag\">Fiat 500L</a>, <a href=\"http://carsalesbase.com/tag/ford-focus/\" rel=\"tag\">Ford Focus</a>, <a href=\"http://carsalesbase.com/tag/honda-civic/\" rel=\"tag\">Honda Civic</a>, <a href=\"http://carsalesbase.com/tag/hyundai-elantra/\" rel=\"tag\">Hyundai Elantra</a>, <a href=\"http://carsalesbase.com/tag/hyundai-ioniq/\" rel=\"tag\">Hyundai Ioniq</a>, <a href=\"http://carsalesbase.com/tag/kia-forte/\" rel=\"tag\">kia forte</a>, <a href=\"http://carsalesbase.com/tag/lexus-ct/\" rel=\"tag\">Lexus CT</a>, <a href=\"http://carsalesbase.com/tag/mazda3/\" rel=\"tag\">mazda3</a>, <a href=\"http://carsalesbase.com/tag/mercedes-benz-a-class/\" rel=\"tag\">Mercedes-Benz A-Class</a>, <a href=\"http://carsalesbase.com/tag/mercedes-benz-cla/\" rel=\"tag\">Mercedes-Benz CLA</a>, <a href=\"http://carsalesbase.com/tag/mini-clubman/\" rel=\"tag\">Mini Clubman</a>, <a href=\"http://carsalesbase.com/tag/mitsubishi-lancer/\" rel=\"tag\">Mitsubishi Lancer</a>, <a href=\"http://carsalesbase.com/tag/nissan-leaf/\" rel=\"tag\">nissan leaf</a>, <a href=\"http://carsalesbase.com/tag/nissan-sentra/\" rel=\"tag\">nissan sentra</a>, <a href=\"http://carsalesbase.com/tag/sales/\" rel=\"tag\">sales</a>, <a href=\"http://carsalesbase.com/tag/subaru-impreza/\" rel=\"tag\">Subaru Impreza</a>, <a href=\"http://carsalesbase.com/tag/toyota-corolla/\" rel=\"tag\">Toyota Corolla</a>, <a href=\"http://carsalesbase.com/tag/toyota-corolla-hatchback/\" rel=\"tag\">Toyota Corolla hatchback</a>, <a href=\"http://carsalesbase.com/tag/toyota-mirai/\" rel=\"tag\">toyota mirai</a>, <a href=\"http://carsalesbase.com/tag/toyota-prius/\" rel=\"tag\">Toyota Prius</a>, <a href=\"http://carsalesbase.com/tag/us/\" rel=\"tag\">US</a>, <a href=\"http://carsalesbase.com/tag/vw-beetle/\" rel=\"tag\">vw beetle</a>, <a href=\"http://carsalesbase.com/tag/vw-golf/\" rel=\"tag\">vw golf</a>, <a href=\"http://carsalesbase.com/tag/vw-jetta/\" rel=\"tag\">vw jetta</a></span></p></footer></article><section class=\"author-box\"><h4 class=\"author-box-title\">About <span itemprop=\"name\">Bart Demandt</span></h4><div class=\"author-box-content\" itemprop=\"description\"><p>Bart is a 36-year old Dutchman who's always had a thing for cars, the automotive industry and statistics. He’s combined these passions by writing about them on CarSalesBase.com. His daily driver is an Alfa Romeo GT 3.2 V6 which he just can't seem to say goodbye to thanks to the mesmerizing exhaust note, despite approaching 300.000km which probably makes this the most experienced GT 3.2 in the world.<br/>\n",
       "You can find all his articles <a href=\"http://left-lane.com/author/leftlane/\">Here</a>.</p>\n",
       "</div></section><script async=\"\" src=\"//pagead2.googlesyndication.com/pagead/js/adsbygoogle.js\"></script>\n",
       "<!-- Banner groot -->\n",
       "<ins class=\"adsbygoogle\" data-ad-client=\"ca-pub-9301392272469332\" data-ad-slot=\"7208011007\" style=\"display:inline-block;width:728px;height:90px\"></ins>\n",
       "<script>\n",
       "(adsbygoogle = window.adsbygoogle || []).push({});\n",
       "</script>\n",
       "\n",
       "<script async=\"\" src=\"//pagead2.googlesyndication.com/pagead/js/adsbygoogle.js\"></script>\n",
       "<!-- Matched content -->\n",
       "<ins class=\"adsbygoogle\" data-ad-client=\"ca-pub-9301392272469332\" data-ad-format=\"autorelaxed\" data-ad-slot=\"3213935808\" style=\"display:block\"></ins>\n",
       "<script>\n",
       "(adsbygoogle = window.adsbygoogle || []).push({});\n",
       "</script>\t<div class=\"comment-respond\" id=\"respond\">\n",
       "\t\t<h3 class=\"comment-reply-title\" id=\"reply-title\">Let me know what you think of this article. Thanks! <small><a href=\"/us-sales-2019-compact-cars/#respond\" id=\"cancel-comment-reply-link\" rel=\"nofollow\" style=\"display:none;\">Cancel reply</a></small></h3><form action=\"http://carsalesbase.com/wp-comments-post.php\" class=\"comment-form\" id=\"commentform\" method=\"post\" novalidate=\"\"><p class=\"comment-notes\"><span id=\"email-notes\">Your email address will not be published.</span> Required fields are marked <span class=\"required\">*</span></p><p class=\"comment-form-comment\"><label for=\"comment\">Comment</label> <textarea cols=\"45\" id=\"comment\" maxlength=\"65525\" name=\"comment\" required=\"required\" rows=\"8\"></textarea></p><p class=\"comment-form-author\"><label for=\"author\">Name <span class=\"required\">*</span></label> <input id=\"author\" maxlength=\"245\" name=\"author\" required=\"required\" size=\"30\" type=\"text\" value=\"\"/></p>\n",
       "<p class=\"comment-form-email\"><label for=\"email\">Email <span class=\"required\">*</span></label> <input aria-describedby=\"email-notes\" id=\"email\" maxlength=\"100\" name=\"email\" required=\"required\" size=\"30\" type=\"email\" value=\"\"/></p>\n",
       "<p class=\"comment-form-url\"><label for=\"url\">Website</label> <input id=\"url\" maxlength=\"200\" name=\"url\" size=\"30\" type=\"url\" value=\"\"/></p>\n",
       "<p class=\"comment-subscription-form\"><input id=\"subscribe_comments\" name=\"subscribe_comments\" style=\"width: auto; -moz-appearance: checkbox; -webkit-appearance: checkbox;\" type=\"checkbox\" value=\"subscribe\"/> <label class=\"subscribe-label\" for=\"subscribe_comments\" id=\"subscribe-label\">Notify me of follow-up comments by email.</label></p><p class=\"comment-subscription-form\"><input id=\"subscribe_blog\" name=\"subscribe_blog\" style=\"width: auto; -moz-appearance: checkbox; -webkit-appearance: checkbox;\" type=\"checkbox\" value=\"subscribe\"/> <label class=\"subscribe-label\" for=\"subscribe_blog\" id=\"subscribe-blog-label\">Notify me of new posts by email.</label></p><p class=\"form-submit\"><input class=\"submit\" id=\"submit\" name=\"submit\" type=\"submit\" value=\"Post Comment\"/> <input id=\"comment_post_ID\" name=\"comment_post_ID\" type=\"hidden\" value=\"56068\"/>\n",
       "<input id=\"comment_parent\" name=\"comment_parent\" type=\"hidden\" value=\"0\"/>\n",
       "</p><input id=\"ct_checkjs_677e09724f0e2df9b6c000b75b5da10d\" name=\"ct_checkjs\" type=\"hidden\" value=\"0\"/><script type=\"text/javascript\">window.addEventListener('load', function () {setTimeout(function(){                    apbct_sendAJAXRequest(                        {action: 'apbct_js_keys__get'},                        {callback: apbct_js_keys__set_input_value, input_name: 'ct_checkjs_677e09724f0e2df9b6c000b75b5da10d'}                    );                }, 1000);});</script></form>\t</div><!-- #respond -->\n",
       "\t<script id=\"mNCC\" language=\"javascript\">\n",
       "    medianet_width = \"600\";\n",
       "    medianet_height = \"250\";\n",
       "    medianet_crid = \"957246221\";\n",
       "    medianet_versionId = \"3111299\"; \n",
       "  </script>\n",
       "<script src=\"//contextual.media.net/nmedianet.js?cid=8CUQT2NEU\"></script></main><aside aria-label=\"Primary Sidebar\" class=\"sidebar sidebar-primary widget-area\" role=\"complementary\"><section class=\"widget widget_car_sales_search\" id=\"car_sales_search-2\"><div class=\"widget-wrap\"><h4 class=\"widget-title widgettitle\">European car sales data</h4>\n",
       "\n",
       "\t\t<div class=\"car-sales-search-container\">\n",
       "\t\n",
       "\n",
       "\t\t\t<form action=\"http://carsalesbase.com/\" class=\"search-form\" method=\"get\" role=\"search\">\n",
       "\t<input class=\"\" id=\"hide-value\" name=\"hide-value\" type=\"hidden\" value=\"1\"/>\n",
       "\t\n",
       "\t\t\t\t<select class=\"kelas1\" id=\"brand-option\" name=\"brand-option\">\n",
       " \n",
       "\t\t\t\t\t<option value=\"0\">Select Brand</option> \n",
       "\t\n",
       "\n",
       "\t\t\t\t\t <option value=\"82\"> Group</option> <option value=\"17\">Alfa Romeo</option> <option value=\"1\">Alpina</option> <option value=\"249\">Alpine</option> <option value=\"2\">Aston Martin</option> <option value=\"67\">Audi</option> <option value=\"68\">Bentley</option> <option value=\"4\">BMW</option> <option value=\"259\">Borgward</option> <option value=\"8\">Brilliance</option> <option value=\"69\">Bugatti</option> <option value=\"27\">Cadillac</option> <option value=\"75\">Caterham</option> <option value=\"29\">Chevrolet USA</option> <option value=\"28\">Chevrolet-Daewoo</option> <option value=\"13\">Chrysler</option> <option value=\"48\">Citroën</option> <option value=\"54\">Dacia</option> <option value=\"63\">Daihatsu</option> <option value=\"14\">Dodge</option> <option value=\"12\">DR Motor</option> <option value=\"160\">DS</option> <option value=\"18\">Ferrari</option> <option value=\"19\">Fiat</option> <option value=\"87\">Fisker </option> <option value=\"24\">Ford</option> <option value=\"33\">Great Wall</option> <option value=\"34\">Honda</option> <option value=\"30\">Hummer</option> <option value=\"35\">Hyundai</option> <option value=\"51\">Infiniti</option> <option value=\"89\">Isuzu</option> <option value=\"60\">Jaguar</option> <option value=\"15\">Jeep</option> <option value=\"36\">Kia</option> <option value=\"3\">Lada</option> <option value=\"70\">Lamborghini</option> <option value=\"20\">Lancia</option> <option value=\"23\">Lancia-Chrysler</option> <option value=\"61\">Land Rover</option> <option value=\"85\">Landwind</option> <option value=\"64\">Lexus</option> <option value=\"45\">Lotus</option> <option value=\"83\">Mahindra</option> <option value=\"21\">Maserati</option> <option value=\"78\">Maybach</option> <option value=\"40\">Mazda</option> <option value=\"88\">McLaren</option> <option value=\"9\">Mercedes-Benz</option> <option value=\"41\">MG</option> <option value=\"5\">Mini</option> <option value=\"44\">Mitsubishi</option> <option value=\"84\">Morgan</option> <option value=\"52\">Nissan</option> <option value=\"31\">Opel/Vauxhall</option> <option value=\"47\">Perodua</option> <option value=\"49\">Peugeot</option> <option value=\"71\">Porsche</option> <option value=\"46\">Proton</option> <option value=\"91\">Qoros</option> <option value=\"55\">Renault</option> <option value=\"6\">Rolls Royce</option> <option value=\"42\">Rover</option> <option value=\"58\">Saab</option> <option value=\"90\">SAIC MG</option> <option value=\"72\">Seat</option> <option value=\"73\">Skoda</option> <option value=\"10\">Smart</option> <option value=\"38\">SSangYong</option> <option value=\"56\">Subaru</option> <option value=\"57\">Suzuki</option> <option value=\"62\">Tata</option> <option value=\"86\">Tesla</option> <option value=\"65\">Toyota</option> <option value=\"74\">Volkswagen</option> <option value=\"26\">Volvo</option>\n",
       "\t\t\t\t</select>\n",
       "\n",
       "\t\t\t\t\t\t\t\n",
       "\t\t\t\t<select class=\"kelas1\" id=\"model-option\" name=\"model-option\"> \n",
       " \n",
       "\t\t\t\t\t<option value=\"0\">Select Model</option>\n",
       "\t\n",
       "\t\t\t\t</select>\n",
       "\t\t\t\t\n",
       "\t\t\t\t<input name=\"css-go\" type=\"submit\" value=\"Go\"/>\t\t\t\t\n",
       "\n",
       "\t\t\t</form>\t\n",
       "\n",
       "\t\t</div>\n",
       "\n",
       "\t\t</div></section>\n",
       "<section class=\"widget widget_car_sales_search\" id=\"car_sales_search-13\"><div class=\"widget-wrap\"><h4 class=\"widget-title widgettitle\">US car sales data</h4>\n",
       "\n",
       "\t\t<div class=\"car-sales-search-container\">\n",
       "\t\n",
       "\n",
       "\t\t\t<form action=\"http://carsalesbase.com/\" class=\"search-form\" method=\"get\" role=\"search\">\n",
       "\t<input class=\"\" id=\"hide-value\" name=\"hide-value\" type=\"hidden\" value=\"3\"/>\n",
       "\t\n",
       "\t\t\t\t<select class=\"kelas3\" id=\"brand-option\" name=\"brand-option\">\n",
       " \n",
       "\t\t\t\t\t<option value=\"0\">Select Brand</option> \n",
       "\t\n",
       "\n",
       "\t\t\t\t\t <option value=\"163\">Acura</option> <option value=\"164\">Alfa Romeo</option> <option value=\"165\">Aston Martin</option> <option value=\"166\">Audi</option> <option value=\"167\">Bentley</option> <option value=\"168\">BMW</option> <option value=\"169\">Buick</option> <option value=\"170\">Cadillac</option> <option value=\"171\">Chevrolet</option> <option value=\"172\">Chrysler</option> <option value=\"221\">Daewoo</option> <option value=\"222\">Daihatsu</option> <option value=\"269\">DMC DeLorean</option> <option value=\"173\">Dodge</option> <option value=\"272\">Eagle / AMC</option> <option value=\"174\">Ferrari</option> <option value=\"175\">Fiat</option> <option value=\"176\">Ford</option> <option value=\"227\">Genesis</option> <option value=\"177\">GMC</option> <option value=\"178\">Honda</option> <option value=\"179\">Hummer </option> <option value=\"180\">Hyundai</option> <option value=\"181\">Infiniti</option> <option value=\"182\">Isuzu</option> <option value=\"183\">Jaguar</option> <option value=\"184\">Jeep</option> <option value=\"185\">Kia</option> <option value=\"186\">Lamborghini</option> <option value=\"218\">Lancia</option> <option value=\"187\">Land Rover</option> <option value=\"188\">Lexus</option> <option value=\"189\">Lincoln </option> <option value=\"190\">Lotus </option> <option value=\"191\">Maserati</option> <option value=\"192\">Maybach</option> <option value=\"193\">Mazda</option> <option value=\"245\">McLaren</option> <option value=\"194\">Mercedes-Benz</option> <option value=\"195\">Mercury</option> <option value=\"219\">MG</option> <option value=\"196\">Mini</option> <option value=\"197\">Mitsubishi</option> <option value=\"198\">Nissan</option> <option value=\"213\">Oldsmobile</option> <option value=\"240\">Peugeot</option> <option value=\"270\">Plymouth</option> <option value=\"199\">Pontiac</option> <option value=\"200\">Porsche</option> <option value=\"201\">RAM</option> <option value=\"202\">Rolls Royce</option> <option value=\"203\">Saab</option> <option value=\"204\">Saturn</option> <option value=\"205\">Scion</option> <option value=\"206\">Smart</option> <option value=\"220\">Sterling</option> <option value=\"207\">Subaru</option> <option value=\"208\">Suzuki</option> <option value=\"209\">Tesla</option> <option value=\"210\">Toyota</option> <option value=\"217\">Triumph</option> <option value=\"211\">Volkswagen</option> <option value=\"212\">Volvo</option> <option value=\"215\">Yugo</option>\n",
       "\t\t\t\t</select>\n",
       "\n",
       "\t\t\t\t\t\t\t\n",
       "\t\t\t\t<select class=\"kelas3\" id=\"model-option\" name=\"model-option\"> \n",
       " \n",
       "\t\t\t\t\t<option value=\"0\">Select Model</option>\n",
       "\t\n",
       "\t\t\t\t</select>\n",
       "\t\t\t\t\n",
       "\t\t\t\t<input name=\"css-go\" type=\"submit\" value=\"Go\"/>\t\t\t\t\n",
       "\n",
       "\t\t\t</form>\t\n",
       "\n",
       "\t\t</div>\n",
       "\n",
       "\t\t</div></section>\n",
       "<section class=\"widget widget_car_sales_search\" id=\"car_sales_search-4\"><div class=\"widget-wrap\"><h4 class=\"widget-title widgettitle\">Chinese car sales data</h4>\n",
       "\n",
       "\t\t<div class=\"car-sales-search-container\">\n",
       "\t\n",
       "\n",
       "\t\t\t<form action=\"http://carsalesbase.com/\" class=\"search-form\" method=\"get\" role=\"search\">\n",
       "\t<input class=\"\" id=\"hide-value\" name=\"hide-value\" type=\"hidden\" value=\"2\"/>\n",
       "\t\n",
       "\t\t\t\t<select class=\"kelas2\" id=\"brand-option\" name=\"brand-option\">\n",
       " \n",
       "\t\t\t\t\t<option value=\"0\">Select Brand</option> \n",
       "\t\n",
       "\n",
       "\t\t\t\t\t <option value=\"239\">Acura</option> <option value=\"251\">Arcfox</option> <option value=\"92\">Audi</option> <option value=\"94\">BAIC</option> <option value=\"93\">Baojun</option> <option value=\"241\">Bisu</option> <option value=\"95\">BMW</option> <option value=\"226\">Borgward</option> <option value=\"96\">Brilliance</option> <option value=\"97\">Buick</option> <option value=\"98\">BYD</option> <option value=\"99\">Cadillac</option> <option value=\"100\">Changan</option> <option value=\"102\">Changhe</option> <option value=\"103\">Chery</option> <option value=\"131\">Chery Karry</option> <option value=\"104\">Chevrolet</option> <option value=\"105\">Ciimo</option> <option value=\"106\">Citroën</option> <option value=\"258\">Cos</option> <option value=\"256\">Dearcc</option> <option value=\"107\">Denza</option> <option value=\"108\">Dongfeng</option> <option value=\"260\">Dorcen</option> <option value=\"109\">DS</option> <option value=\"162\">Enranger (Yingzhi)</option> <option value=\"135\">Everus</option> <option value=\"110\">FAW</option> <option value=\"111\">Fiat</option> <option value=\"112\">Ford</option> <option value=\"113\">Foton</option> <option value=\"114\">GAC</option> <option value=\"115\">Geely</option> <option value=\"268\">Geometry</option> <option value=\"116\">Gonow</option> <option value=\"117\">Great Wall</option> <option value=\"118\">Hafei</option> <option value=\"119\">Haima</option> <option value=\"230\">Hanteng</option> <option value=\"120\">Haval</option> <option value=\"121\">Hawtai</option> <option value=\"122\">Honda</option> <option value=\"123\">Huanghai</option> <option value=\"242\">Huansu</option> <option value=\"158\">Huasong</option> <option value=\"124\">Hyundai</option> <option value=\"125\">Infiniti</option> <option value=\"248\">Isuzu</option> <option value=\"126\">JAC</option> <option value=\"229\">Jaguar</option> <option value=\"214\">Jeep</option> <option value=\"261\">Jetour</option> <option value=\"271\">Jetta</option> <option value=\"127\">Jiangnan</option> <option value=\"128\">Jinbei</option> <option value=\"129\">JMC</option> <option value=\"130\">Jonway</option> <option value=\"132\">Kia</option> <option value=\"225\">Land Rover</option> <option value=\"133\">Landwind</option> <option value=\"101\">Leopaard</option> <option value=\"274\">Levdeo</option> <option value=\"134\">Lifan</option> <option value=\"247\">Lincoln</option> <option value=\"264\">Link Tour</option> <option value=\"136\">Luxgen</option> <option value=\"250\">Lynk &amp; Co</option> <option value=\"138\">Mazda</option> <option value=\"139\">Mercedes-Benz</option> <option value=\"141\">Mitsubishi</option> <option value=\"223\">Nanjing Yuejin</option> <option value=\"266\">Neta</option> <option value=\"262\">Nio</option> <option value=\"142\">Nissan</option> <option value=\"263\">Ora</option> <option value=\"143\">Peugeot</option> <option value=\"216\">Qiteng</option> <option value=\"144\">Qoros</option> <option value=\"224\">Renault</option> <option value=\"137\">SAIC Maxus</option> <option value=\"140\">SAIC MG</option> <option value=\"145\">SAIC Roewe</option> <option value=\"275\">Sitech</option> <option value=\"146\">Skoda</option> <option value=\"273\">Sol</option> <option value=\"147\">Soueast</option> <option value=\"148\">Suzuki</option> <option value=\"228\">SWM Motor</option> <option value=\"149\">Toyota</option> <option value=\"253\">Traum</option> <option value=\"150\">Venucia</option> <option value=\"276\">VGV</option> <option value=\"151\">Volkswagen</option> <option value=\"152\">Volvo</option> <option value=\"267\">Weltmeister</option> <option value=\"246\">Wey</option> <option value=\"153\">Wuling</option> <option value=\"254\">Xpeng</option> <option value=\"154\">Yema</option> <option value=\"265\">YGM</option> <option value=\"155\">Youngman Lotus</option> <option value=\"255\">Yudo</option> <option value=\"244\">Zhidou</option> <option value=\"157\">Zhongxing ZX Auto</option> <option value=\"156\">Zotye</option>\n",
       "\t\t\t\t</select>\n",
       "\n",
       "\t\t\t\t\t\t\t\n",
       "\t\t\t\t<select class=\"kelas2\" id=\"model-option\" name=\"model-option\"> \n",
       " \n",
       "\t\t\t\t\t<option value=\"0\">Select Model</option>\n",
       "\t\n",
       "\t\t\t\t</select>\n",
       "\t\t\t\t\n",
       "\t\t\t\t<input name=\"css-go\" type=\"submit\" value=\"Go\"/>\t\t\t\t\n",
       "\n",
       "\t\t\t</form>\t\n",
       "\n",
       "\t\t</div>\n",
       "\n",
       "\t\t</div></section>\n",
       "<section class=\"widget widget_car_sales_search\" id=\"car_sales_search-14\"><div class=\"widget-wrap\"><h4 class=\"widget-title widgettitle\">Worldwide car sales data:</h4>\n",
       "\n",
       "\t\t<div class=\"car-sales-search-container\">\n",
       "\t\n",
       "\n",
       "\t\t\t<form action=\"http://carsalesbase.com/\" class=\"search-form\" method=\"get\" role=\"search\">\n",
       "\t<input class=\"\" id=\"hide-value\" name=\"hide-value\" type=\"hidden\" value=\"4\"/>\n",
       "\t\n",
       "\t\t\t\t<select class=\"kelas4\" id=\"brand-option\" name=\"brand-option\">\n",
       "<option value=\"0\">Select Continent</option> \n",
       "\t\n",
       "\n",
       "\t\t\t\t\t <option value=\"232\">Africa</option> <option value=\"236\">Asia Pacific</option> <option value=\"235\">Eurasia</option> <option value=\"231\">Europe</option> <option value=\"234\">India subcontinent</option> <option value=\"233\">Middle East</option> <option value=\"238\">North &amp; Central America</option> <option value=\"237\">South America</option>\n",
       "\t\t\t\t</select>\n",
       "\n",
       "\t\t\t\t\t\t\t\n",
       "\t\t\t\t<select class=\"kelas4\" id=\"model-option\" name=\"model-option\"> \n",
       "<option value=\"0\">Select Country</option>\n",
       "\n",
       "\t\n",
       "\t\t\t\t</select>\n",
       "\t\t\t\t\n",
       "\t\t\t\t<input name=\"css-go\" type=\"submit\" value=\"Go\"/>\t\t\t\t\n",
       "\n",
       "\t\t\t</form>\t\n",
       "\n",
       "\t\t</div>\n",
       "\n",
       "\t\t</div></section>\n",
       "<section class=\"widget_text widget widget_custom_html\" id=\"custom_html-3\"><div class=\"widget_text widget-wrap\"><h4 class=\"widget-title widgettitle\">Comparison Tool</h4>\n",
       "<div class=\"textwidget custom-html-widget\">Compare sales by brand or model over time in chart or table format\n",
       "<a href=\"http://carsalesbase.com/car-sales-comparison\"><img alt=\"\" class=\"aligncenter size-medium wp-image-48070\" src=\"http://carsalesbase.com/wp-content/uploads/2017/12/Screen-Shot-2017-12-30-at-11.47.36-PM-1-400x205.png\" width=\"290\"/></a></div></div></section>\n",
       "<section class=\"widget widget_paypal_donations\" id=\"paypal_donations-3\"><div class=\"widget-wrap\"><p>Thank us for our work:</p>\n",
       "<!-- Begin PayPal Donations by https://www.tipsandtricks-hq.com/paypal-donations-widgets-plugin -->\n",
       "\n",
       "<form action=\"https://www.paypal.com/cgi-bin/webscr\" method=\"post\">\n",
       "    <div class=\"paypal-donations\">\n",
       "        <input name=\"cmd\" type=\"hidden\" value=\"_donations\"/>\n",
       "        <input name=\"bn\" type=\"hidden\" value=\"TipsandTricks_SP\"/>\n",
       "        <input name=\"business\" type=\"hidden\" value=\"SZR65RT82ZDZ8\"/>\n",
       "        <input name=\"rm\" type=\"hidden\" value=\"0\"/>\n",
       "        <input name=\"currency_code\" type=\"hidden\" value=\"EUR\"/>\n",
       "        <input alt=\"PayPal - The safer, easier way to pay online.\" name=\"submit\" src=\"https://www.paypal.com/en_US/i/btn/btn_donate_LG.gif\" style=\"cursor: pointer;\" type=\"image\"/>\n",
       "        <img alt=\"\" height=\"1\" src=\"https://www.paypal.com/en_US/i/scr/pixel.gif\" width=\"1\"/>\n",
       "    </div>\n",
       "</form>\n",
       "<!-- End PayPal Donations -->\n",
       "</div></section>\n",
       "<section class=\"widget widget_text\" id=\"text-4\"><div class=\"widget-wrap\">\t\t\t<div class=\"textwidget\">[wp_ad_camp_1]</div>\n",
       "\t\t</div></section>\n",
       "\t\t<section class=\"widget widget_recent_entries\" id=\"recent-posts-3\"><div class=\"widget-wrap\">\t\t<h4 class=\"widget-title widgettitle\">Recent Posts</h4>\n",
       "\t\t<ul>\n",
       "\t\t\t\t\t\t\t\t\t\t\t<li>\n",
       "\t\t\t\t\t<a aria-current=\"page\" href=\"http://carsalesbase.com/us-sales-2019-compact-cars/\">US sales analysis 2019 – Compact cars</a>\n",
       "\t\t\t\t\t\t\t\t\t</li>\n",
       "\t\t\t\t\t\t\t\t\t\t\t<li>\n",
       "\t\t\t\t\t<a href=\"http://carsalesbase.com/us-car-sales-analysis-2019-subcompact-cars/\">US car sales analysis 2019 – Subcompact cars</a>\n",
       "\t\t\t\t\t\t\t\t\t</li>\n",
       "\t\t\t\t\t\t\t\t\t\t\t<li>\n",
       "\t\t\t\t\t<a href=\"http://carsalesbase.com/us-car-sales-analysis-2019-minicars/\">US car sales analysis 2019 – Minicars</a>\n",
       "\t\t\t\t\t\t\t\t\t</li>\n",
       "\t\t\t\t\t\t\t\t\t\t\t<li>\n",
       "\t\t\t\t\t<a href=\"http://carsalesbase.com/china-car-sales-analysis-2019-models/\">China car sales analysis 2019 – models</a>\n",
       "\t\t\t\t\t\t\t\t\t</li>\n",
       "\t\t\t\t\t\t\t\t\t\t\t<li>\n",
       "\t\t\t\t\t<a href=\"http://carsalesbase.com/china-car-sales-analysis-2019-brands/\">China car sales analysis 2019 – brands</a>\n",
       "\t\t\t\t\t\t\t\t\t</li>\n",
       "\t\t\t\t\t\t\t\t\t\t\t<li>\n",
       "\t\t\t\t\t<a href=\"http://carsalesbase.com/us-car-sales-analysis-2019-brands/\">US car sales analysis 2019 – brands</a>\n",
       "\t\t\t\t\t\t\t\t\t</li>\n",
       "\t\t\t\t\t\t\t\t\t\t\t<li>\n",
       "\t\t\t\t\t<a href=\"http://carsalesbase.com/european-car-sales-analysis-november-2019/\">European car sales analysis November 2019</a>\n",
       "\t\t\t\t\t\t\t\t\t</li>\n",
       "\t\t\t\t\t\t\t\t\t\t\t<li>\n",
       "\t\t\t\t\t<a href=\"http://carsalesbase.com/european-car-sales-analysis-october-2019/\">European car sales analysis October 2019</a>\n",
       "\t\t\t\t\t\t\t\t\t</li>\n",
       "\t\t\t\t\t\t\t\t\t\t\t<li>\n",
       "\t\t\t\t\t<a href=\"http://carsalesbase.com/european-sales-2019-q3-ev-phev-segments/\">European sales 2019-Q3 EV and PHEV segments</a>\n",
       "\t\t\t\t\t\t\t\t\t</li>\n",
       "\t\t\t\t\t\t\t\t\t\t\t<li>\n",
       "\t\t\t\t\t<a href=\"http://carsalesbase.com/european-sales-2019-q3-premium-large-suv-segment/\">European sales 2019-Q3 Premium Large SUV segment</a>\n",
       "\t\t\t\t\t\t\t\t\t</li>\n",
       "\t\t\t\t\t\t\t\t\t\t\t<li>\n",
       "\t\t\t\t\t<a href=\"http://carsalesbase.com/european-sales-2019-q3-premium-midsized-compact-suv-segments/\">European sales 2019-Q3 Premium Midsized and Compact SUV segments</a>\n",
       "\t\t\t\t\t\t\t\t\t</li>\n",
       "\t\t\t\t\t\t\t\t\t\t\t<li>\n",
       "\t\t\t\t\t<a href=\"http://carsalesbase.com/european-sales-2019-q3-limousine-segment/\">European sales 2019-Q3 Limousine segment</a>\n",
       "\t\t\t\t\t\t\t\t\t</li>\n",
       "\t\t\t\t\t\t\t\t\t\t\t<li>\n",
       "\t\t\t\t\t<a href=\"http://carsalesbase.com/european-sales-2019-q3-premium-large-segment/\">European sales 2019-Q3 Premium Large segment</a>\n",
       "\t\t\t\t\t\t\t\t\t</li>\n",
       "\t\t\t\t\t\t\t\t\t\t\t<li>\n",
       "\t\t\t\t\t<a href=\"http://carsalesbase.com/european-sales-2019-q3-premium-midsized-segment/\">European sales 2019-Q3 Premium Midsized segment</a>\n",
       "\t\t\t\t\t\t\t\t\t</li>\n",
       "\t\t\t\t\t\t\t\t\t\t\t<li>\n",
       "\t\t\t\t\t<a href=\"http://carsalesbase.com/european-sales-2019-q3-premium-compact-segment/\">European sales 2019-Q3 Premium Compact segment</a>\n",
       "\t\t\t\t\t\t\t\t\t</li>\n",
       "\t\t\t\t\t\t\t\t\t\t\t<li>\n",
       "\t\t\t\t\t<a href=\"http://carsalesbase.com/european-sales-2019-q3-large-suv-segment/\">European sales 2019-Q3 large SUV segment</a>\n",
       "\t\t\t\t\t\t\t\t\t</li>\n",
       "\t\t\t\t\t\t\t\t\t\t\t<li>\n",
       "\t\t\t\t\t<a href=\"http://carsalesbase.com/european-sales-2019-q3-compact-midsized-crossover-segments/\">European sales 2019-Q3 compact &amp; midsized crossover segments</a>\n",
       "\t\t\t\t\t\t\t\t\t</li>\n",
       "\t\t\t\t\t\t\t\t\t\t\t<li>\n",
       "\t\t\t\t\t<a href=\"http://carsalesbase.com/european-sales-2019-q3-small-crossover-segment/\">European sales 2019-Q3 small crossover segment</a>\n",
       "\t\t\t\t\t\t\t\t\t</li>\n",
       "\t\t\t\t\t\t\t\t\t\t\t<li>\n",
       "\t\t\t\t\t<a href=\"http://carsalesbase.com/european-sales-2019-q3-large-mpv-segment/\">European sales 2019-Q3 large MPV segment</a>\n",
       "\t\t\t\t\t\t\t\t\t</li>\n",
       "\t\t\t\t\t\t\t\t\t\t\t<li>\n",
       "\t\t\t\t\t<a href=\"http://carsalesbase.com/european-sales-2019-q3-midsized-mpv-segment/\">European sales 2019-Q3 midsized MPV segment</a>\n",
       "\t\t\t\t\t\t\t\t\t</li>\n",
       "\t\t\t\t\t</ul>\n",
       "\t\t</div></section>\n",
       "<section class=\"widget widget_facebook_likebox\" id=\"facebook-likebox-2\"><div class=\"widget-wrap\"><h4 class=\"widget-title widgettitle\"><a href=\"https://www.facebook.com/carsalesbase\">Follow Carsalesbase.com</a></h4>\n",
       "\t\t<div id=\"fb-root\"></div>\n",
       "\t\t<div class=\"fb-page\" data-height=\"580\" data-hide-cover=\"false\" data-href=\"https://www.facebook.com/carsalesbase\" data-show-facepile=\"true\" data-tabs=\"timeline\" data-width=\"340\">\n",
       "\t\t<div class=\"fb-xfbml-parse-ignore\"><blockquote cite=\"https://www.facebook.com/carsalesbase\"><a href=\"https://www.facebook.com/carsalesbase\">Follow Carsalesbase.com</a></blockquote></div>\n",
       "\t\t</div>\n",
       "\t\t</div></section>\n",
       "</aside></div></div><div class=\"footer-widgets\"><div class=\"wrap\"><div class=\"widget-area footer-widgets-1 footer-widget-area\"><section class=\"widget widget_archive\" id=\"archives-5\"><div class=\"widget-wrap\"><h4 class=\"widget-title widgettitle\">Archives</h4>\n",
       "\t\t<ul>\n",
       "\t\t\t\t<li><a href=\"http://carsalesbase.com/2020/01/\">January 2020</a></li>\n",
       "\t<li><a href=\"http://carsalesbase.com/2019/12/\">December 2019</a></li>\n",
       "\t<li><a href=\"http://carsalesbase.com/2019/11/\">November 2019</a></li>\n",
       "\t<li><a href=\"http://carsalesbase.com/2019/10/\">October 2019</a></li>\n",
       "\t<li><a href=\"http://carsalesbase.com/2019/09/\">September 2019</a></li>\n",
       "\t<li><a href=\"http://carsalesbase.com/2019/08/\">August 2019</a></li>\n",
       "\t<li><a href=\"http://carsalesbase.com/2019/07/\">July 2019</a></li>\n",
       "\t<li><a href=\"http://carsalesbase.com/2019/06/\">June 2019</a></li>\n",
       "\t<li><a href=\"http://carsalesbase.com/2019/05/\">May 2019</a></li>\n",
       "\t<li><a href=\"http://carsalesbase.com/2019/04/\">April 2019</a></li>\n",
       "\t<li><a href=\"http://carsalesbase.com/2019/03/\">March 2019</a></li>\n",
       "\t<li><a href=\"http://carsalesbase.com/2019/02/\">February 2019</a></li>\n",
       "\t<li><a href=\"http://carsalesbase.com/2019/01/\">January 2019</a></li>\n",
       "\t<li><a href=\"http://carsalesbase.com/2018/12/\">December 2018</a></li>\n",
       "\t<li><a href=\"http://carsalesbase.com/2018/11/\">November 2018</a></li>\n",
       "\t<li><a href=\"http://carsalesbase.com/2018/10/\">October 2018</a></li>\n",
       "\t<li><a href=\"http://carsalesbase.com/2018/09/\">September 2018</a></li>\n",
       "\t<li><a href=\"http://carsalesbase.com/2018/08/\">August 2018</a></li>\n",
       "\t<li><a href=\"http://carsalesbase.com/2018/07/\">July 2018</a></li>\n",
       "\t<li><a href=\"http://carsalesbase.com/2018/06/\">June 2018</a></li>\n",
       "\t<li><a href=\"http://carsalesbase.com/2018/05/\">May 2018</a></li>\n",
       "\t<li><a href=\"http://carsalesbase.com/2018/04/\">April 2018</a></li>\n",
       "\t<li><a href=\"http://carsalesbase.com/2018/03/\">March 2018</a></li>\n",
       "\t<li><a href=\"http://carsalesbase.com/2018/02/\">February 2018</a></li>\n",
       "\t<li><a href=\"http://carsalesbase.com/2018/01/\">January 2018</a></li>\n",
       "\t<li><a href=\"http://carsalesbase.com/2017/12/\">December 2017</a></li>\n",
       "\t<li><a href=\"http://carsalesbase.com/2017/11/\">November 2017</a></li>\n",
       "\t<li><a href=\"http://carsalesbase.com/2017/10/\">October 2017</a></li>\n",
       "\t<li><a href=\"http://carsalesbase.com/2017/09/\">September 2017</a></li>\n",
       "\t<li><a href=\"http://carsalesbase.com/2017/08/\">August 2017</a></li>\n",
       "\t<li><a href=\"http://carsalesbase.com/2017/07/\">July 2017</a></li>\n",
       "\t<li><a href=\"http://carsalesbase.com/2017/06/\">June 2017</a></li>\n",
       "\t<li><a href=\"http://carsalesbase.com/2017/05/\">May 2017</a></li>\n",
       "\t<li><a href=\"http://carsalesbase.com/2017/04/\">April 2017</a></li>\n",
       "\t<li><a href=\"http://carsalesbase.com/2017/03/\">March 2017</a></li>\n",
       "\t<li><a href=\"http://carsalesbase.com/2017/02/\">February 2017</a></li>\n",
       "\t<li><a href=\"http://carsalesbase.com/2017/01/\">January 2017</a></li>\n",
       "\t<li><a href=\"http://carsalesbase.com/2016/12/\">December 2016</a></li>\n",
       "\t<li><a href=\"http://carsalesbase.com/2016/11/\">November 2016</a></li>\n",
       "\t<li><a href=\"http://carsalesbase.com/2016/10/\">October 2016</a></li>\n",
       "\t<li><a href=\"http://carsalesbase.com/2016/09/\">September 2016</a></li>\n",
       "\t<li><a href=\"http://carsalesbase.com/2016/08/\">August 2016</a></li>\n",
       "\t<li><a href=\"http://carsalesbase.com/2016/07/\">July 2016</a></li>\n",
       "\t<li><a href=\"http://carsalesbase.com/2016/06/\">June 2016</a></li>\n",
       "\t<li><a href=\"http://carsalesbase.com/2016/05/\">May 2016</a></li>\n",
       "\t<li><a href=\"http://carsalesbase.com/2016/04/\">April 2016</a></li>\n",
       "\t<li><a href=\"http://carsalesbase.com/2016/03/\">March 2016</a></li>\n",
       "\t<li><a href=\"http://carsalesbase.com/2016/02/\">February 2016</a></li>\n",
       "\t<li><a href=\"http://carsalesbase.com/2016/01/\">January 2016</a></li>\n",
       "\t<li><a href=\"http://carsalesbase.com/2015/12/\">December 2015</a></li>\n",
       "\t<li><a href=\"http://carsalesbase.com/2015/11/\">November 2015</a></li>\n",
       "\t<li><a href=\"http://carsalesbase.com/2015/10/\">October 2015</a></li>\n",
       "\t<li><a href=\"http://carsalesbase.com/2015/09/\">September 2015</a></li>\n",
       "\t<li><a href=\"http://carsalesbase.com/2015/08/\">August 2015</a></li>\n",
       "\t<li><a href=\"http://carsalesbase.com/2015/07/\">July 2015</a></li>\n",
       "\t<li><a href=\"http://carsalesbase.com/2015/06/\">June 2015</a></li>\n",
       "\t<li><a href=\"http://carsalesbase.com/2015/05/\">May 2015</a></li>\n",
       "\t<li><a href=\"http://carsalesbase.com/2015/04/\">April 2015</a></li>\n",
       "\t<li><a href=\"http://carsalesbase.com/2015/03/\">March 2015</a></li>\n",
       "\t<li><a href=\"http://carsalesbase.com/2015/02/\">February 2015</a></li>\n",
       "\t<li><a href=\"http://carsalesbase.com/2015/01/\">January 2015</a></li>\n",
       "\t<li><a href=\"http://carsalesbase.com/2014/12/\">December 2014</a></li>\n",
       "\t<li><a href=\"http://carsalesbase.com/2014/11/\">November 2014</a></li>\n",
       "\t<li><a href=\"http://carsalesbase.com/2014/10/\">October 2014</a></li>\n",
       "\t<li><a href=\"http://carsalesbase.com/2014/09/\">September 2014</a></li>\n",
       "\t<li><a href=\"http://carsalesbase.com/2014/08/\">August 2014</a></li>\n",
       "\t<li><a href=\"http://carsalesbase.com/2014/07/\">July 2014</a></li>\n",
       "\t<li><a href=\"http://carsalesbase.com/2014/06/\">June 2014</a></li>\n",
       "\t<li><a href=\"http://carsalesbase.com/2014/05/\">May 2014</a></li>\n",
       "\t<li><a href=\"http://carsalesbase.com/2014/04/\">April 2014</a></li>\n",
       "\t<li><a href=\"http://carsalesbase.com/2014/03/\">March 2014</a></li>\n",
       "\t<li><a href=\"http://carsalesbase.com/2014/02/\">February 2014</a></li>\n",
       "\t<li><a href=\"http://carsalesbase.com/2014/01/\">January 2014</a></li>\n",
       "\t<li><a href=\"http://carsalesbase.com/2013/12/\">December 2013</a></li>\n",
       "\t<li><a href=\"http://carsalesbase.com/2013/11/\">November 2013</a></li>\n",
       "\t\t</ul>\n",
       "\t\t\t</div></section>\n",
       "</div><div class=\"widget-area footer-widgets-2 footer-widget-area\"><section class=\"widget widget_categories\" id=\"categories-3\"><div class=\"widget-wrap\"><h4 class=\"widget-title widgettitle\">Categories:</h4>\n",
       "\t\t<ul>\n",
       "\t\t\t\t<li class=\"cat-item cat-item-1023\"><a href=\"http://carsalesbase.com/category/auto-shows/\">Auto Shows</a>\n",
       "</li>\n",
       "\t<li class=\"cat-item cat-item-1073\"><a href=\"http://carsalesbase.com/category/car-sales-china/\">Car sales China</a>\n",
       "</li>\n",
       "\t<li class=\"cat-item cat-item-2\"><a href=\"http://carsalesbase.com/category/car-sales-europe/\">Car sales Europe</a>\n",
       "</li>\n",
       "\t<li class=\"cat-item cat-item-1128\"><a href=\"http://carsalesbase.com/category/car-sales-us/\">Car sales US</a>\n",
       "</li>\n",
       "\t<li class=\"cat-item cat-item-403\"><a href=\"http://carsalesbase.com/category/car-sales-europe/car-sales-segments/compact-segment/\" title=\"Car sales statistics for the compact car segment in Europe, updated every quarter.\">Compact car segment</a>\n",
       "</li>\n",
       "\t<li class=\"cat-item cat-item-492\"><a href=\"http://carsalesbase.com/category/car-sales-europe/car-sales-segments/coupe-convertible-segment/\" title=\"Car sales statistics for the coupe and convertible segments in Europe, updated every half year.\">Coupe and convertible segment</a>\n",
       "</li>\n",
       "\t<li class=\"cat-item cat-item-586\"><a href=\"http://carsalesbase.com/category/car-sales-europe/car-sales-segments/ev-segment/\" title=\"Car sales statistics for Electric Vehicles in Europe, updated every half.\">EV segment</a>\n",
       "</li>\n",
       "\t<li class=\"cat-item cat-item-418\"><a href=\"http://carsalesbase.com/category/car-sales-europe/car-sales-segments/exotic-car-segment/\" title=\"Car sales statistics for the exotic car segment in Europe, updated every quarter.\">Exotic car segment</a>\n",
       "</li>\n",
       "\t<li class=\"cat-item cat-item-6\"><a href=\"http://carsalesbase.com/category/fun-stuff/\">Fun stuff</a>\n",
       "</li>\n",
       "\t<li class=\"cat-item cat-item-4\"><a href=\"http://carsalesbase.com/category/industry/\">Industry</a>\n",
       "</li>\n",
       "\t<li class=\"cat-item cat-item-1508\"><a href=\"http://carsalesbase.com/category/street-scenes/\">International Street Scenes</a>\n",
       "</li>\n",
       "\t<li class=\"cat-item cat-item-407\"><a href=\"http://carsalesbase.com/category/car-sales-europe/car-sales-segments/large-mpv-segment/\" title=\"Car sales statistics for the large MPV segment segment in Europe, updated every quarter.\">Large MPV segment</a>\n",
       "</li>\n",
       "\t<li class=\"cat-item cat-item-411\"><a href=\"http://carsalesbase.com/category/car-sales-europe/car-sales-segments/large-suv-segment/\" title=\"Car sales statistics for the large SUV / crossover segment in Europe, updated every quarter.\">Large SUV segment</a>\n",
       "</li>\n",
       "\t<li class=\"cat-item cat-item-1561\"><a href=\"http://carsalesbase.com/category/car-sales-europe/car-sales-segments/lcv-sales/\" title=\"Car sales statistics for light commercial vehicles in Europe, updated every year.\">LCV sales</a>\n",
       "</li>\n",
       "\t<li class=\"cat-item cat-item-415\"><a href=\"http://carsalesbase.com/category/car-sales-europe/car-sales-segments/limousine-segment/\" title=\"Car sales statistics for the limousine segment in Europe, updated every quarter.\">Limousine segment</a>\n",
       "</li>\n",
       "\t<li class=\"cat-item cat-item-1265\"><a href=\"http://carsalesbase.com/category/fun-stuff/lookalike/\">Look-a-like</a>\n",
       "</li>\n",
       "\t<li class=\"cat-item cat-item-404\"><a href=\"http://carsalesbase.com/category/car-sales-europe/car-sales-segments/midsize-segment/\" title=\"Car sales statistics for the midsized car segment in Europe, updated every quarter.\">Midsized car segment</a>\n",
       "</li>\n",
       "\t<li class=\"cat-item cat-item-406\"><a href=\"http://carsalesbase.com/category/car-sales-europe/car-sales-segments/midsized-mpv-segment/\" title=\"Car sales statistics for the midsized MPV segment segment in Europe, updated every quarter.\">Midsized MPV segment</a>\n",
       "</li>\n",
       "\t<li class=\"cat-item cat-item-410\"><a href=\"http://carsalesbase.com/category/car-sales-europe/car-sales-segments/midsized-suv-segment/\" title=\"Car sales statistics for the midsized SUV / crossover segment segment in Europe, updated every quarter.\">Midsized SUV segment</a>\n",
       "</li>\n",
       "\t<li class=\"cat-item cat-item-401\"><a href=\"http://carsalesbase.com/category/car-sales-europe/car-sales-segments/minicar-segment/\" title=\"Car sales statistics for the minicar segment in Europe, updated every quarter.\">Minicar segment</a>\n",
       "</li>\n",
       "\t<li class=\"cat-item cat-item-5\"><a href=\"http://carsalesbase.com/category/news/\">News</a>\n",
       "</li>\n",
       "\t<li class=\"cat-item cat-item-3\"><a href=\"http://carsalesbase.com/category/opinion/\">Opinion</a>\n",
       "</li>\n",
       "\t<li class=\"cat-item cat-item-419\"><a href=\"http://carsalesbase.com/category/car-sales-europe/car-sales-segments/passenger-van-segment/\" title=\"Car sales statistics for the passenger van segment segment in Europe, updated every quarter.\">Passenger van segment</a>\n",
       "</li>\n",
       "\t<li class=\"cat-item cat-item-1579\"><a href=\"http://carsalesbase.com/category/fun-stuff/polls/\">Polls</a>\n",
       "</li>\n",
       "\t<li class=\"cat-item cat-item-412\"><a href=\"http://carsalesbase.com/category/car-sales-europe/car-sales-segments/premium-compact-segment/\" title=\"Car sales statistics for the premium compact car segment in Europe, updated every quarter.\">Premium compact car segment</a>\n",
       "</li>\n",
       "\t<li class=\"cat-item cat-item-414\"><a href=\"http://carsalesbase.com/category/car-sales-europe/car-sales-segments/premium-large-car-segment/\" title=\"Car sales statistics for the premium large car segment in Europe, updated every quarter.\">Premium large car segment</a>\n",
       "</li>\n",
       "\t<li class=\"cat-item cat-item-417\"><a href=\"http://carsalesbase.com/category/car-sales-europe/car-sales-segments/premium-large-suv-segment/\" title=\"Car sales statistics for the premium large SUV / crossover segment in Europe, updated every quarter.\">Premium large SUV segment</a>\n",
       "</li>\n",
       "\t<li class=\"cat-item cat-item-416\"><a href=\"http://carsalesbase.com/category/car-sales-europe/car-sales-segments/premium-compact-suv-segment/\" title=\"Car sales statistics for the premium midsized and compact SUV / crossover segment in Europe, updated every quarter.\">Premium midsized and compact SUV segment</a>\n",
       "</li>\n",
       "\t<li class=\"cat-item cat-item-413\"><a href=\"http://carsalesbase.com/category/car-sales-europe/car-sales-segments/premium-midsize-segment/\" title=\"Car sales statistics for the premium midsized car segment in Europe, updated every quarter.\">Premium midsized car segment</a>\n",
       "</li>\n",
       "\t<li class=\"cat-item cat-item-427\"><a href=\"http://carsalesbase.com/category/reviews/\">Reviews</a>\n",
       "</li>\n",
       "\t<li class=\"cat-item cat-item-405\"><a href=\"http://carsalesbase.com/category/car-sales-europe/car-sales-segments/small-mpv-segment/\" title=\"Car sales statistics for the small MPV segment in Europe, updated every quarter.\">Small MPV segment</a>\n",
       "</li>\n",
       "\t<li class=\"cat-item cat-item-409\"><a href=\"http://carsalesbase.com/category/car-sales-europe/car-sales-segments/small-suv-segment/\" title=\"Car sales statistics for the small SUV / crossover segment segment in Europe, updated every quarter.\">Small SUV segment</a>\n",
       "</li>\n",
       "\t<li class=\"cat-item cat-item-402\"><a href=\"http://carsalesbase.com/category/car-sales-europe/car-sales-segments/subcompact-segment/\" title=\"Car sales statistics for the subcompact car segment in Europe, updated every quarter.\">Subcompact car segment</a>\n",
       "</li>\n",
       "\t<li class=\"cat-item cat-item-1\"><a href=\"http://carsalesbase.com/category/uncategorized/\">Uncategorized</a>\n",
       "</li>\n",
       "\t<li class=\"cat-item cat-item-1248\"><a href=\"http://carsalesbase.com/category/car-sales-us/car-sales-segments-us/ev-segment-us/\" title=\"Car sales statistics for the EV and alternative power car segment in the US, updated every quarter.\">US Alternative power segment</a>\n",
       "</li>\n",
       "\t<li class=\"cat-item cat-item-1244\"><a href=\"http://carsalesbase.com/category/car-sales-us/car-sales-segments-us/commercial-van-segment-us/\" title=\"Car sales statistics for the commercial van segment in the US, updated every quarter.\">US Commercial van segment</a>\n",
       "</li>\n",
       "\t<li class=\"cat-item cat-item-1225\"><a href=\"http://carsalesbase.com/category/car-sales-us/car-sales-segments-us/compact-segment-us/\" title=\"Car sales statistics for the compact car segment in the US, updated every quarter.\">US Compact car segment</a>\n",
       "</li>\n",
       "\t<li class=\"cat-item cat-item-1246\"><a href=\"http://carsalesbase.com/category/car-sales-us/car-sales-segments-us/compact-sportscar-segment-us/\" title=\"Car sales statistics for the compact sports car segment in the US, updated every quarter.\">US Compact sports car segment</a>\n",
       "</li>\n",
       "\t<li class=\"cat-item cat-item-1236\"><a href=\"http://carsalesbase.com/category/car-sales-us/car-sales-segments-us/compact-suv-segment-us/\" title=\"Car sales statistics for the compact SUV / crossover segment in the US, updated every quarter.\">US Compact SUV segment</a>\n",
       "</li>\n",
       "\t<li class=\"cat-item cat-item-1247\"><a href=\"http://carsalesbase.com/category/car-sales-us/car-sales-segments-us/exotic-car-segment-us/\" title=\"Car sales statistics for the exotic car segment in the US, updated every quarter.\">US Exotic car segment</a>\n",
       "</li>\n",
       "\t<li class=\"cat-item cat-item-1227\"><a href=\"http://carsalesbase.com/category/car-sales-us/car-sales-segments-us/large-segment-us/\" title=\"Car sales statistics for the large car segment in the US, updated every quarter.\">US Large car segment</a>\n",
       "</li>\n",
       "\t<li class=\"cat-item cat-item-1245\"><a href=\"http://carsalesbase.com/category/car-sales-us/car-sales-segments-us/large-sportscar-segment-us/\" title=\"Car sales statistics for the large sports car segment in the US, updated every quarter.\">US Large sports car segment</a>\n",
       "</li>\n",
       "\t<li class=\"cat-item cat-item-1238\"><a href=\"http://carsalesbase.com/category/car-sales-us/car-sales-segments-us/large-suv-segment-us/\" title=\"Car sales statistics for the large SUV segment in the US, updated every quarter.\">US Large SUV segment</a>\n",
       "</li>\n",
       "\t<li class=\"cat-item cat-item-1234\"><a href=\"http://carsalesbase.com/category/car-sales-us/car-sales-segments-us/limousine-segment-us/\" title=\"Car sales statistics for the limousine segment in the US, updated every quarter.\">US Limousine segment</a>\n",
       "</li>\n",
       "\t<li class=\"cat-item cat-item-1226\"><a href=\"http://carsalesbase.com/category/car-sales-us/car-sales-segments-us/midsized-segment-us/\" title=\"Car sales statistics for the mid-sized car segment in the US, updated every quarter.\">US Mid-sized car segment</a>\n",
       "</li>\n",
       "\t<li class=\"cat-item cat-item-1237\"><a href=\"http://carsalesbase.com/category/car-sales-us/car-sales-segments-us/midsized-suv-segment-us/\" title=\"Car sales statistics for the mid-sized SUV / crossover segment in the US, updated every quarter.\">US Mid-sized SUV segment</a>\n",
       "</li>\n",
       "\t<li class=\"cat-item cat-item-1229\"><a href=\"http://carsalesbase.com/category/car-sales-us/car-sales-segments-us/minicar-segment-us/\" title=\"Car sales statistics for the minicar segment in the US, updated every quarter.\">US Minicar segment</a>\n",
       "</li>\n",
       "\t<li class=\"cat-item cat-item-1230\"><a href=\"http://carsalesbase.com/category/car-sales-us/car-sales-segments-us/minivan-segment-us/\" title=\"Car sales statistics for the minivan segment in the US, updated every quarter.\">US Minivan segment</a>\n",
       "</li>\n",
       "\t<li class=\"cat-item cat-item-1242\"><a href=\"http://carsalesbase.com/category/car-sales-us/car-sales-segments-us/pickup-segment-us/\" title=\"Car sales statistics for the full-sized pickup truck segment in the US, updated every quarter.\">US Pickup segment</a>\n",
       "</li>\n",
       "\t<li class=\"cat-item cat-item-1231\"><a href=\"http://carsalesbase.com/category/car-sales-us/car-sales-segments-us/premium-compact-segment-us/\" title=\"Car sales statistics for the premium compact car segment in the US, updated every quarter.\">US Premium compact car segment</a>\n",
       "</li>\n",
       "\t<li class=\"cat-item cat-item-1239\"><a href=\"http://carsalesbase.com/category/car-sales-us/car-sales-segments-us/premium-compact-suv-segment-us/\" title=\"Car sales statistics for the premium compact SUV / crossover segment in the US, updated every quarter.\">US Premium compact SUV segment</a>\n",
       "</li>\n",
       "\t<li class=\"cat-item cat-item-1233\"><a href=\"http://carsalesbase.com/category/car-sales-us/car-sales-segments-us/premium-large-segment-us/\" title=\"Car sales statistics for the premium large car segment in the US, updated every quarter.\">US Premium large car segment</a>\n",
       "</li>\n",
       "\t<li class=\"cat-item cat-item-1241\"><a href=\"http://carsalesbase.com/category/car-sales-us/car-sales-segments-us/premium-large-suv-segment-us/\" title=\"Car sales statistics for the premium large SUV segment in the US, updated every quarter.\">US Premium large SUV segment</a>\n",
       "</li>\n",
       "\t<li class=\"cat-item cat-item-1232\"><a href=\"http://carsalesbase.com/category/car-sales-us/car-sales-segments-us/premium-midsized-segment-us/\" title=\"Car sales statistics for the premium mid-sized car segment in the US, updated every quarter.\">US Premium mid-sized car segment</a>\n",
       "</li>\n",
       "\t<li class=\"cat-item cat-item-1240\"><a href=\"http://carsalesbase.com/category/car-sales-us/car-sales-segments-us/premium-midsized-suv-segment-us/\" title=\"Car sales statistics for the premium mid-sized SUV / crossover segment in the US, updated every quarter.\">US Premium mid-sized SUV segment</a>\n",
       "</li>\n",
       "\t<li class=\"cat-item cat-item-1243\"><a href=\"http://carsalesbase.com/category/car-sales-us/car-sales-segments-us/small-pickup-segment-us/\" title=\"Car sales statistics for the small pickup truck segment in the US, updated every quarter.\">US Small pickup segment</a>\n",
       "</li>\n",
       "\t<li class=\"cat-item cat-item-1228\"><a href=\"http://carsalesbase.com/category/car-sales-us/car-sales-segments-us/subcompact-segment-us/\" title=\"Car sales statistics for the subcompact car segment in the US, updated every quarter.\">US Subcompact car segment</a>\n",
       "</li>\n",
       "\t<li class=\"cat-item cat-item-1235\"><a href=\"http://carsalesbase.com/category/car-sales-us/car-sales-segments-us/subcompact-suv-segment-us/\" title=\"Car sales statistics for the subcompact SUV / crossover segment in the US, updated every quarter.\">US Subcompact SUV segment</a>\n",
       "</li>\n",
       "\t\t</ul>\n",
       "\t\t\t</div></section>\n",
       "</div><div class=\"widget-area footer-widgets-3 footer-widget-area\">\t\t<section class=\"widget widget_authors\" id=\"authors-2\"><div class=\"widget-wrap\">\t\t\t<h4 class=\"widget-title widgettitle\">Authors</h4>\n",
       "\t\t\t<ul><li><a href=\"http://carsalesbase.com/author/leftlane/\" title=\"Posts by Bart Demandt\">Bart Demandt</a> </li>\n",
       "<li><a href=\"http://carsalesbase.com/author/colman-murphy/\" title=\"Posts by Colman Murphy\">Colman Murphy</a> </li>\n",
       "<li><a href=\"http://carsalesbase.com/author/jean-philippe-launberg/\" title=\"Posts by Jean-Philippe Launberg\">Jean-Philippe Launberg</a> </li>\n",
       "<li><a href=\"http://carsalesbase.com/author/john-mcharris/\" title=\"Posts by John McHarris\">John McHarris</a> </li>\n",
       "<li><a href=\"http://carsalesbase.com/author/john-v-ryan-pe/\" title=\"Posts by John V. Ryan, PE\">John V. Ryan, PE</a> </li>\n",
       "<li><a href=\"http://carsalesbase.com/author/krzysztof-wozniak/\" title=\"Posts by Krzysztof Wozniak\">Krzysztof Wozniak</a> </li>\n",
       "<li><a href=\"http://carsalesbase.com/author/rutger/\" title=\"Posts by Rutger Van der Maar\">Rutger Van der Maar</a> </li>\n",
       "</ul>\t\t\t\t\t</div></section>\n",
       "\t</div></div></div><footer class=\"site-footer\"><div class=\"wrap\"><p>Copyright © 2020 · <a href=\"http://my.studiopress.com/themes/agency/\">CSB Theme</a> on <a href=\"https://www.studiopress.com/\">Genesis Framework</a> · <a href=\"https://wordpress.org/\">WordPress</a> · <a href=\"http://carsalesbase.com/wp-login.php\" rel=\"nofollow\">Log in</a></p></div></footer></div>  <!-- VigLink: http://viglink.com -->\n",
       "  <script type=\"text/javascript\">\n",
       "    var vglnk = { key: '7104c887d5378a76c06aebb462687ac5' };\n",
       "\n",
       "    (function(d, t) {\n",
       "      var s = d.createElement(t); s.type = 'text/javascript'; s.async = true;\n",
       "      s.src = '//cdn.viglink.com/api/vglnk.js?key=' + vglnk.key;\n",
       "      var r = d.getElementsByTagName(t)[0]; r.parentNode.insertBefore(s, r);\n",
       "    }(document, 'script'));\n",
       "  </script>\n",
       "  <!-- end VigLink -->\n",
       "\t\t\t<!-- Social Ring JS Start -->\n",
       "\t\t\t<script src=\"http://platform.twitter.com/widgets.js\" type=\"text/javascript\"></script><div id=\"fb-root\"></div><script src=\"http://connect.facebook.net/en_US/all.js#xfbml=1\"></script><script type=\"text/javascript\">\n",
       "\t\t\t\t\t\t\t\twindow.___gcfg = {\n",
       "\t\t\t\t\t\t\t\t  lang: 'en-US'\n",
       "\t\t\t\t\t\t\t\t};\n",
       "\t\t\t\t\t\t\t\t(function() {\n",
       "\t\t\t\t\t\t\t\t\tvar po = document.createElement('script'); po.type = 'text/javascript'; po.async = true;\n",
       "\t\t\t\t\t\t\t\t\tpo.src = 'https://apis.google.com/js/plusone.js';\n",
       "\t\t\t\t\t\t\t\t\tvar s = document.getElementsByTagName('script')[0]; s.parentNode.insertBefore(po, s);\n",
       "\t\t\t\t\t\t\t\t})();\n",
       "\t\t\t\t\t\t\t</script>\n",
       "\t\t\t\t\t\t\t<script src=\"https://apis.google.com/js/plusone.js\" type=\"text/javascript\"></script><script src=\"http://assets.pinterest.com/js/pinit.js\" type=\"text/javascript\"></script>\t\t<!-- Social Ring JS End -->\n",
       "\t<script>\n",
       "jQuery(document).ready(function($){\n",
       "$(\".site-title a\").html(\"<img src='http://carsalesbase.com/wp-content/uploads/2018/06/sign_carsalesbase.png' id='logo'/><img src='http://carsalesbase.com/wp-content/uploads/2018/06/main_logo_carsalesbase.png' id='logoTxt'/>\")\n",
       "\n",
       "})\n",
       "\n",
       "</script><script type=\"text/javascript\">\n",
       "  var vglnk = { key: '7104c887d5378a76c06aebb462687ac5' };\n",
       "\n",
       "  (function(d, t) {\n",
       "    var s = d.createElement(t); s.type = 'text/javascript'; s.async = true;\n",
       "    s.src = '//cdn.viglink.com/api/vglnk.js';\n",
       "    var r = d.getElementsByTagName(t)[0]; r.parentNode.insertBefore(s, r);\n",
       "  }(document, 'script'));\n",
       "</script>\n",
       "<script type=\"text/javascript\">\n",
       "    // OMNISEND-SNIPPET-SOURCE-CODE-V1\n",
       "    window.soundest = window.soundest || [];\n",
       "    soundest.push([\"accountID\", \"5b910b86597ed708a40809d1\"]);\n",
       "    !function(){var e=document.createElement(\"script\");e.type=\"text/javascript\",e.async=!0,e.src=\"https://omnisrc.com/inshop/launcher.js\";var t=document.getElementsByTagName(\"script\")[0];t.parentNode.insertBefore(e,t)}();\n",
       "</script>\n",
       "\t<script type=\"text/javascript\">\n",
       "\t\twindow.WPCOM_sharing_counts = {\"http:\\/\\/carsalesbase.com\\/us-sales-2019-compact-cars\\/\":56068};\n",
       "\t</script>\n",
       "\t\t\t\t<div id=\"fb-root\"></div>\n",
       "\t\t\t<script>(function(d, s, id) { var js, fjs = d.getElementsByTagName(s)[0]; if (d.getElementById(id)) return; js = d.createElement(s); js.id = id; js.src = 'https://connect.facebook.net/en_US/sdk.js#xfbml=1&appId=249643311490&version=v2.3'; fjs.parentNode.insertBefore(js, fjs); }(document, 'script', 'facebook-jssdk'));</script>\n",
       "\t\t\t<script>\n",
       "\t\t\tjQuery( document.body ).on( 'post-load', function() {\n",
       "\t\t\t\tif ( 'undefined' !== typeof FB ) {\n",
       "\t\t\t\t\tFB.XFBML.parse();\n",
       "\t\t\t\t}\n",
       "\t\t\t} );\n",
       "\t\t\t</script>\n",
       "\t\t\t\t\t\t<script>!function(d,s,id){var js,fjs=d.getElementsByTagName(s)[0],p=/^http:/.test(d.location)?'http':'https';if(!d.getElementById(id)){js=d.createElement(s);js.id=id;js.src=p+'://platform.twitter.com/widgets.js';fjs.parentNode.insertBefore(js,fjs);}}(document, 'script', 'twitter-wjs');</script>\n",
       "\t\t\t\t\t\t\t\t<script type=\"text/javascript\">\n",
       "\t\t\t\t// Pinterest shared resources\n",
       "\t\t\t\tvar s = document.createElement(\"script\");\n",
       "\t\t\t\ts.type = \"text/javascript\";\n",
       "\t\t\t\ts.async = true;\n",
       "\t\t\t\ts.setAttribute('data-pin-hover', true);\t\t\t\ts.src = window.location.protocol + \"//assets.pinterest.com/js/pinit.js\";\n",
       "\t\t\t\tvar x = document.getElementsByTagName(\"script\")[0];\n",
       "\t\t\t\tx.parentNode.insertBefore(s, x);\n",
       "\t\t\t\t// if 'Pin it' button has 'counts' make container wider\n",
       "\t\t\t\tjQuery(window).load( function(){ jQuery( 'li.share-pinterest a span:visible' ).closest( '.share-pinterest' ).width( '80px' ); } );\n",
       "\t\t\t</script>\n",
       "\t\t<script type=\"text/javascript\">\n",
       "\t\t\tjQuery( document ).ready( function() {\n",
       "\t\t\t\tjQuery.getScript( 'https://platform.linkedin.com/in.js?async=true', function success() {\n",
       "\t\t\t\t\tIN.init();\n",
       "\t\t\t\t});\n",
       "\t\t\t});\n",
       "\t\t\tjQuery( document.body ).on( 'post-load', function() {\n",
       "\t\t\t\tif ( typeof IN != 'undefined' )\n",
       "\t\t\t\t\tIN.parse();\n",
       "\t\t\t});\n",
       "\t\t\t</script><script src=\"http://carsalesbase.com/wp-content/plugins/car-sales-search/car-sales-search.js?ver=1.0.0\" type=\"text/javascript\"></script>\n",
       "<script src=\"http://carsalesbase.com/wp-admin/admin-ajax.php?nonce=6cbb6c0435&amp;action=css_model_action&amp;ver=1.0.0\" type=\"text/javascript\"></script>\n",
       "<script type=\"text/javascript\">\n",
       "/* <![CDATA[ */\n",
       "var pollsL10n = {\"ajax_url\":\"http:\\/\\/carsalesbase.com\\/wp-admin\\/admin-ajax.php\",\"text_wait\":\"Your last request is still being processed. Please wait a while ...\",\"text_valid\":\"Please choose a valid poll answer.\",\"text_multiple\":\"Maximum number of choices allowed: \",\"show_loading\":\"1\",\"show_fading\":\"1\"};\n",
       "/* ]]> */\n",
       "</script>\n",
       "<script src=\"http://carsalesbase.com/wp-content/plugins/wp-polls/polls-js.js?ver=2.75.4\" type=\"text/javascript\"></script>\n",
       "<script src=\"http://carsalesbase.com/wp-includes/js/comment-reply.min.js?ver=5.3.2\" type=\"text/javascript\"></script>\n",
       "<script type=\"text/javascript\">\n",
       "/* <![CDATA[ */\n",
       "var jpfbembed = {\"appid\":\"249643311490\",\"locale\":\"en_US\"};\n",
       "/* ]]> */\n",
       "</script>\n",
       "<script src=\"http://carsalesbase.com/wp-content/plugins/jetpack/_inc/build/facebook-embed.min.js\" type=\"text/javascript\"></script>\n",
       "<script src=\"http://carsalesbase.com/wp-includes/js/wp-embed.min.js?ver=5.3.2\" type=\"text/javascript\"></script>\n",
       "<script type=\"text/javascript\">\n",
       "/* <![CDATA[ */\n",
       "var sharing_js_options = {\"lang\":\"en\",\"counts\":\"1\",\"is_stats_active\":\"1\"};\n",
       "/* ]]> */\n",
       "</script>\n",
       "<script src=\"http://carsalesbase.com/wp-content/plugins/jetpack/_inc/build/sharedaddy/sharing.min.js?ver=8.1\" type=\"text/javascript\"></script>\n",
       "<script type=\"text/javascript\">\n",
       "var windowOpen;\n",
       "\t\t\tjQuery( document.body ).on( 'click', 'a.share-facebook', function() {\n",
       "\t\t\t\t// If there's another sharing window open, close it.\n",
       "\t\t\t\tif ( 'undefined' !== typeof windowOpen ) {\n",
       "\t\t\t\t\twindowOpen.close();\n",
       "\t\t\t\t}\n",
       "\t\t\t\twindowOpen = window.open( jQuery( this ).attr( 'href' ), 'wpcomfacebook', 'menubar=1,resizable=1,width=600,height=400' );\n",
       "\t\t\t\treturn false;\n",
       "\t\t\t});\n",
       "</script>\n",
       "<script async=\"async\" defer=\"defer\" src=\"https://stats.wp.com/e-202004.js\" type=\"text/javascript\"></script>\n",
       "<script type=\"text/javascript\">\n",
       "\t_stq = window._stq || [];\n",
       "\t_stq.push([ 'view', {v:'ext',j:'1:8.1',blog:'59955352',post:'56068',tz:'1',srv:'carsalesbase.com'} ]);\n",
       "\t_stq.push([ 'clickTrackerInit', '59955352', '56068' ]);\n",
       "</script>\n",
       "\n",
       "</body></html>"
      ]
     },
     "execution_count": 32,
     "metadata": {},
     "output_type": "execute_result"
    }
   ],
   "source": [
    "soup"
   ]
  },
  {
   "cell_type": "markdown",
   "metadata": {},
   "source": [
    "### `.find()`\n",
    "\n",
    "But Beautiful Soup also knows how to navigate this HTML.  We can use the `find` command to get to a specific element."
   ]
  },
  {
   "cell_type": "code",
   "execution_count": 33,
   "metadata": {
    "ExecuteTime": {
     "end_time": "2019-11-27T22:14:00.041074Z",
     "start_time": "2019-11-27T22:13:59.809Z"
    }
   },
   "outputs": [
    {
     "data": {
      "text/plain": [
       "<li class=\"menu-item menu-item-type-custom menu-item-object-custom menu-item-home menu-item-26700\" id=\"menu-item-26700\"><a href=\"http://carsalesbase.com/\"><span>Home</span></a></li>"
      ]
     },
     "execution_count": 33,
     "metadata": {},
     "output_type": "execute_result"
    }
   ],
   "source": [
    "soup.find('li')  #Grabs the first element tagged as li"
   ]
  },
  {
   "cell_type": "code",
   "execution_count": 34,
   "metadata": {
    "ExecuteTime": {
     "end_time": "2019-11-27T22:14:00.044534Z",
     "start_time": "2019-11-27T22:13:59.812Z"
    }
   },
   "outputs": [
    {
     "data": {
      "text/plain": [
       "bs4.element.Tag"
      ]
     },
     "execution_count": 34,
     "metadata": {},
     "output_type": "execute_result"
    }
   ],
   "source": [
    "type(soup.find('li'))"
   ]
  },
  {
   "cell_type": "markdown",
   "metadata": {},
   "source": [
    "`find` returns a tagged element, but we can go further and just select this element's inner HTML text."
   ]
  },
  {
   "cell_type": "code",
   "execution_count": 35,
   "metadata": {
    "ExecuteTime": {
     "end_time": "2019-11-27T22:14:00.052156Z",
     "start_time": "2019-11-27T22:13:59.823Z"
    }
   },
   "outputs": [
    {
     "data": {
      "text/plain": [
       "'Home'"
      ]
     },
     "execution_count": 35,
     "metadata": {},
     "output_type": "execute_result"
    }
   ],
   "source": [
    "soup.find('li').text"
   ]
  },
  {
   "cell_type": "code",
   "execution_count": 36,
   "metadata": {
    "ExecuteTime": {
     "end_time": "2019-11-27T22:14:00.058112Z",
     "start_time": "2019-11-27T22:13:59.827Z"
    }
   },
   "outputs": [
    {
     "data": {
      "text/plain": [
       "str"
      ]
     },
     "execution_count": 36,
     "metadata": {},
     "output_type": "execute_result"
    }
   ],
   "source": [
    "type(soup.find('li').text)"
   ]
  },
  {
   "cell_type": "markdown",
   "metadata": {},
   "source": [
    "### `.find_all()`\n",
    "\n",
    "Instead of selecting just one of our list items, we can get all of them by using `find_all`.  \n",
    "\n",
    "This method looks for all instances matching our criteria on the entire HTML and gives us back a list."
   ]
  },
  {
   "cell_type": "code",
   "execution_count": 38,
   "metadata": {
    "ExecuteTime": {
     "end_time": "2019-11-27T22:14:00.061610Z",
     "start_time": "2019-11-27T22:13:59.840Z"
    }
   },
   "outputs": [
    {
     "data": {
      "text/plain": [
       "[<a href=\"http://carsalesbase.com/\">carsalesbase.com</a>,\n",
       " <a href=\"http://carsalesbase.com/\"><span>Home</span></a>,\n",
       " <a href=\"http://carsalesbase.com/category/car-sales-europe/car-sales-segments/\"><span>Europe sales</span></a>,\n",
       " <a href=\"http://carsalesbase.com/category/car-sales-europe/car-sales-segments/minicar-segment/\"><span>Minicar segment</span></a>,\n",
       " <a href=\"http://carsalesbase.com/category/car-sales-europe/car-sales-segments/subcompact-segment/\"><span>Subcompact car segment</span></a>,\n",
       " <a href=\"http://carsalesbase.com/category/car-sales-europe/car-sales-segments/compact-segment/\"><span>Compact car segment</span></a>,\n",
       " <a href=\"http://carsalesbase.com/category/car-sales-europe/car-sales-segments/midsize-segment/\"><span>Midsized car segment</span></a>,\n",
       " <a href=\"http://carsalesbase.com/category/car-sales-europe/car-sales-segments/small-mpv-segment/\"><span>Small MPV segment</span></a>,\n",
       " <a href=\"http://carsalesbase.com/category/car-sales-europe/car-sales-segments/midsized-mpv-segment/\"><span>Midsized MPV segment</span></a>,\n",
       " <a href=\"http://carsalesbase.com/category/car-sales-europe/car-sales-segments/large-mpv-segment/\"><span>Large MPV segment</span></a>,\n",
       " <a href=\"http://carsalesbase.com/category/car-sales-europe/car-sales-segments/small-suv-segment/\"><span>Small SUV segment</span></a>,\n",
       " <a href=\"http://carsalesbase.com/category/car-sales-europe/car-sales-segments/midsized-suv-segment/\"><span>Midsized SUV segment</span></a>,\n",
       " <a href=\"http://carsalesbase.com/category/car-sales-europe/car-sales-segments/large-suv-segment/\"><span>Large SUV segment</span></a>,\n",
       " <a href=\"http://carsalesbase.com/category/car-sales-europe/car-sales-segments/ev-segment/\"><span>EV segment</span></a>,\n",
       " <a href=\"http://carsalesbase.com/category/car-sales-europe/car-sales-segments/premium-compact-segment/\"><span>Premium compact car segment</span></a>,\n",
       " <a href=\"http://carsalesbase.com/category/car-sales-europe/car-sales-segments/premium-midsize-segment/\"><span>Premium midsized car segment</span></a>,\n",
       " <a href=\"http://carsalesbase.com/category/car-sales-europe/car-sales-segments/premium-large-car-segment/\"><span>Premium large car segment</span></a>,\n",
       " <a href=\"http://carsalesbase.com/category/car-sales-europe/car-sales-segments/limousine-segment/\"><span>Limousine segment</span></a>,\n",
       " <a href=\"http://carsalesbase.com/category/car-sales-europe/car-sales-segments/premium-compact-suv-segment/\"><span>Premium midsized and compact SUV segment</span></a>,\n",
       " <a href=\"http://carsalesbase.com/category/car-sales-europe/car-sales-segments/premium-large-suv-segment/\"><span>Premium large SUV segment</span></a>,\n",
       " <a href=\"http://carsalesbase.com/category/car-sales-europe/car-sales-segments/coupe-convertible-segment/\"><span>Coupe and Convertible segments</span></a>,\n",
       " <a href=\"http://carsalesbase.com/category/car-sales-europe/car-sales-segments/exotic-car-segment/\"><span>Exotic car segment</span></a>,\n",
       " <a href=\"http://carsalesbase.com/category/car-sales-europe/car-sales-segments/passenger-van-segment/\"><span>Passenger van segment</span></a>,\n",
       " <a href=\"http://carsalesbase.com/category/car-sales-europe/car-sales-segments/lcv-sales/\"><span>LCV sales</span></a>,\n",
       " <a href=\"http://carsalesbase.com/category/car-sales-us/\"><span>US sales</span></a>,\n",
       " <a href=\"http://carsalesbase.com/category/car-sales-us/car-sales-segments-us/minicar-segment-us/\"><span>US Minicar segment</span></a>,\n",
       " <a href=\"http://carsalesbase.com/category/car-sales-us/car-sales-segments-us/subcompact-segment-us/\"><span>US Subcompact car segment</span></a>,\n",
       " <a href=\"http://carsalesbase.com/category/car-sales-us/car-sales-segments-us/compact-segment-us/\"><span>US Compact car segment</span></a>,\n",
       " <a href=\"http://carsalesbase.com/category/car-sales-us/car-sales-segments-us/midsized-segment-us/\"><span>US Mid-sized car segment</span></a>,\n",
       " <a href=\"http://carsalesbase.com/category/car-sales-us/car-sales-segments-us/large-segment-us/\"><span>US Large car segment</span></a>,\n",
       " <a href=\"http://carsalesbase.com/category/car-sales-us/car-sales-segments-us/minivan-segment-us/\"><span>US Minivan segment</span></a>,\n",
       " <a href=\"http://carsalesbase.com/category/car-sales-us/car-sales-segments-us/compact-suv-segment-us/\"><span>US Compact SUV segment</span></a>,\n",
       " <a href=\"http://carsalesbase.com/category/car-sales-us/car-sales-segments-us/subcompact-suv-segment-us/\"><span>US Subcompact SUV segment</span></a>,\n",
       " <a href=\"http://carsalesbase.com/category/car-sales-us/car-sales-segments-us/midsized-suv-segment-us/\"><span>US Mid-sized SUV segment</span></a>,\n",
       " <a href=\"http://carsalesbase.com/category/car-sales-us/car-sales-segments-us/large-suv-segment-us/\"><span>US Large SUV segment</span></a>,\n",
       " <a href=\"http://carsalesbase.com/category/car-sales-us/car-sales-segments-us/small-pickup-segment-us/\"><span>US Small pickup segment</span></a>,\n",
       " <a href=\"http://carsalesbase.com/category/car-sales-us/car-sales-segments-us/pickup-segment-us/\"><span>US Pickup segment</span></a>,\n",
       " <a href=\"http://carsalesbase.com/category/car-sales-us/car-sales-segments-us/premium-compact-segment-us/\"><span>US Premium compact car segment</span></a>,\n",
       " <a href=\"http://carsalesbase.com/category/car-sales-us/car-sales-segments-us/premium-midsized-segment-us/\"><span>US Premium mid-sized car segment</span></a>,\n",
       " <a href=\"http://carsalesbase.com/category/car-sales-us/car-sales-segments-us/premium-large-segment-us/\"><span>US Premium large car segment</span></a>,\n",
       " <a href=\"http://carsalesbase.com/category/car-sales-us/car-sales-segments-us/limousine-segment-us/\"><span>US Limousine segment</span></a>,\n",
       " <a href=\"http://carsalesbase.com/category/car-sales-us/car-sales-segments-us/premium-compact-suv-segment-us/\"><span>US Premium compact SUV segment</span></a>,\n",
       " <a href=\"http://carsalesbase.com/category/car-sales-us/car-sales-segments-us/premium-midsized-suv-segment-us/\"><span>US Premium mid-sized SUV segment</span></a>,\n",
       " <a href=\"http://carsalesbase.com/category/car-sales-us/car-sales-segments-us/premium-large-suv-segment-us/\"><span>US Premium large SUV segment</span></a>,\n",
       " <a href=\"http://carsalesbase.com/category/car-sales-us/car-sales-segments-us/commercial-van-segment-us/\"><span>US Commercial van segment</span></a>,\n",
       " <a href=\"http://carsalesbase.com/category/car-sales-us/car-sales-segments-us/ev-segment-us/\"><span>EV &amp; PHEV segment</span></a>,\n",
       " <a href=\"http://carsalesbase.com/category/car-sales-us/car-sales-segments-us/compact-sportscar-segment-us/\"><span>Sports Car Compact segment</span></a>,\n",
       " <a href=\"http://carsalesbase.com/category/car-sales-us/car-sales-segments-us/large-sportscar-segment-us/\"><span>Sports Car Large segment</span></a>,\n",
       " <a href=\"http://carsalesbase.com/category/car-sales-us/car-sales-segments-us/exotic-car-segment-us/\"><span>US Exotic car segment</span></a>,\n",
       " <a href=\"http://carsalesbase.com/china-car-sales-data/\"><span>China sales</span></a>,\n",
       " <a href=\"http://carsalesbase.com/category/car-sales-china/\"><span>China monthly reports</span></a>,\n",
       " <a href=\"http://carsalesbase.com/total-market-sales-country/\"><span>Countries</span></a>,\n",
       " <a href=\"http://carsalesbase.com/car-sales-comparison/\"><span>Comparison tool</span></a>,\n",
       " <a href=\"http://carsalesbase.com/category/fun-stuff/\"><span>Fun stuff</span></a>,\n",
       " <a href=\"http://carsalesbase.com/category/fun-stuff/polls/\"><span>Polls</span></a>,\n",
       " <a href=\"http://carsalesbase.com/category/fun-stuff/lookalike/\"><span>Look-a-like</span></a>,\n",
       " <a href=\"http://carsalesbase.com/category/opinion/\"><span>Opinion</span></a>,\n",
       " <a href=\"http://carsalesbase.com/category/industry/\"><span>Industry</span></a>,\n",
       " <a href=\"http://carsalesbase.com/category/news/\"><span>News</span></a>,\n",
       " <a href=\"http://carsalesbase.com/about/\"><span>About</span></a>,\n",
       " <a href=\"http://carsalesbase.com/\">Home</a>,\n",
       " <a class=\"entry-author-link\" href=\"http://carsalesbase.com/author/leftlane/\" rel=\"author\"><span class=\"entry-author-name\">Bart Demandt</span></a>,\n",
       " <a href=\"http://carsalesbase.com/us-sales-2019-compact-cars/#respond\">Leave a Comment</a>,\n",
       " <a class=\"sr-twitter-button twitter-share-button\" data-count=\"horizontal\" data-text=\"US sales analysis 2019 – Compact cars\" data-url=\"http://carsalesbase.com/us-sales-2019-compact-cars/\" href=\"http://twitter.com/share\" lang=\"en\" rel=\"nofollow\"></a>,\n",
       " <a href=\"https://www.facebook.com/sharer/sharer.php?s=100&amp;p[url]=http://carsalesbase.com/us-sales-2019-compact-cars/\" onclick=\"window.open('https://www.facebook.com/sharer/sharer.php?s=100&amp;p[url]=http://carsalesbase.com/us-sales-2019-compact-cars/', 'newwindow', 'width=600, height=450'); return false;\" target=\"_blank\">\n",
       " \t\t\t\t\t\t\t<img alt=\"Share\" src=\"http://carsalesbase.com/wp-content/plugins/wordpress-social-ring/includes/../admin/images/sr-fb-share.png\" style=\"display:block; background: none; padding: 0px; border:0px;\"/>\n",
       " \t\t\t\t\t\t</a>,\n",
       " <a class=\"pin-it-button\" count-layout=\"horizontal\" href=\"http://pinterest.com/pin/create/button/?url=http%3A%2F%2Fcarsalesbase.com%2Fus-sales-2019-compact-cars%2F&amp;media=http%3A%2F%2Fcarsalesbase.com%2Fwp-content%2Fuploads%2F2020%2F01%2FUS-car_sales-compact_car-segment-Honda_Civic-Toyota_Corolla-Nissan_Sentra.jpg&amp;description=US+sales+analysis+2019+%E2%80%93+Compact+cars\" rel=\"nofollow\"></a>,\n",
       " <a href=\"http://carsalesbase.com/european-car-sales-data/Honda/Honda-Civic/\" title=\"Honda Civic\">Honda Civic</a>,\n",
       " <a href=\"http://carsalesbase.com/european-car-sales-data/Toyota/Toyota-Corolla/\" title=\"Toyota Corolla\">Toyota Corolla</a>,\n",
       " <a href=\"http://carsalesbase.com/european-car-sales-data/Hyundai/Hyundai-elantra/\" title=\"Hyundai Elantra\">Hyundai Elantra</a>,\n",
       " <a href=\"http://carsalesbase.com/european-car-sales-data/Ford/Ford-Focus/\" title=\"Ford Focus\">Ford Focus</a>,\n",
       " <a href=\"http://carsalesbase.com/european-car-sales-data/Chevrolet/Chevrolet-Cruze/\" title=\"Chevrolet Cruze\">Chevrolet Cruze</a>,\n",
       " <a href=\"http://carsalesbase.com/european-car-sales-data/Toyota/Toyota-Prius/\" title=\"Toyota Prius\">Toyota Prius</a>,\n",
       " <a href=\"http://carsalesbase.com/european-car-sales-data/Mazda/Mazda3/\" title=\"Mazda3\">Mazda3</a>,\n",
       " <a href=\"http://carsalesbase.com/european-car-sales-data/Volkswagen/Volkswagen-Golf/\" title=\"Volkswagen Golf\">Volkswagen Golf</a>,\n",
       " <a href=\"http://carsalesbase.com/european-car-sales-data/Nissan/Nissan-Leaf/\" title=\"Nissan Leaf\">Nissan Leaf</a>,\n",
       " <a href=\"http://carsalesbase.com/european-car-sales-data/Honda/Honda-Insight/\" title=\"Honda Insight\">Honda Insight</a>,\n",
       " <a href=\"http://carsalesbase.com/european-car-sales-data/Hyundai/Hyundai-ioniq/\" title=\"Hyundai Ioniq\">Hyundai Ioniq</a>,\n",
       " <a href=\"http://carsalesbase.com/european-car-sales-data/Nissan/Nissan-Leaf/\" title=\"Nissan Leaf\">Nissan Leaf</a>,\n",
       " <a href=\"http://carsalesbase.com/european-car-sales-data/BMW/BMW-i3/\" title=\"BMW i3\">BMW i3</a>,\n",
       " <a href=\"http://carsalesbase.com/european-car-sales-data/Mercedes-Benz/Mercedes-Benz-A-Class/\" title=\"Mercedes-Benz A-Class\">Mercedes-Benz A-Class</a>,\n",
       " <a href=\"http://carsalesbase.com/european-car-sales-data/Audi/Audi-A3/\" title=\"Audi A3\">Audi A3</a>,\n",
       " <a href=\"http://carsalesbase.com/car-sales-europe/car-sales-segments/compact-segment/\" title=\"Compact segment\">Compact segment</a>,\n",
       " <a href=\"http://carsalesbase.com/european-car-sales-data/Honda/Honda-Civic/\" title=\"Honda Civic\">Honda Civic</a>,\n",
       " <a href=\"http://carsalesbase.com/european-car-sales-data/Toyota/Toyota-Corolla/\" title=\"Toyota Corolla\">Toyota Corolla</a>,\n",
       " <a href=\"http://carsalesbase.com/european-car-sales-data/Hyundai/Hyundai-elantra/\" title=\"Hyundai Elantra\">Hyundai Elantra</a>,\n",
       " <a href=\"http://carsalesbase.com/european-car-sales-data/Volkswagen/Volkswagen-Jetta/\" title=\"Volkswagen Jetta\">Volkswagen Jetta</a>,\n",
       " <a href=\"http://carsalesbase.com/european-car-sales-data/Toyota/Toyota-Prius/\" title=\"Toyota Prius\">Toyota Prius</a>,\n",
       " <a href=\"http://carsalesbase.com/european-car-sales-data/Subaru/Subaru-Impreza/\" title=\"Subaru Impreza\">Subaru Impreza</a>,\n",
       " <a href=\"http://carsalesbase.com/european-car-sales-data/Mazda/Mazda3/\" title=\"Mazda3\">Mazda3</a>,\n",
       " <a href=\"http://carsalesbase.com/european-car-sales-data/Chevrolet/Chevrolet-Cruze/\" title=\"Chevrolet Cruze\">Chevrolet Cruze</a>,\n",
       " <a href=\"http://carsalesbase.com/european-car-sales-data/Volkswagen/Volkswagen-Golf/\" title=\"Volkswagen Golf\">Volkswagen Golf</a>,\n",
       " <a href=\"http://carsalesbase.com/european-car-sales-data/Honda/Honda-Insight/\" title=\"Honda Insight\">Honda Insight</a>,\n",
       " <a href=\"http://carsalesbase.com/european-car-sales-data/Hyundai/Hyundai-ioniq/\" title=\"Hyundai Ioniq\">Hyundai Ioniq</a>,\n",
       " <a href=\"http://carsalesbase.com/european-car-sales-data/Mercedes-Benz/Mercedes-Benz-A-Class/\" title=\"Mercedes-Benz A-Class\">Mercedes-Benz A-Class</a>,\n",
       " <a href=\"http://carsalesbase.com/european-car-sales-data/Volkswagen/Volkswagen-Beetle/\" title=\"Volkswagen Beetle\">Volkswagen Beetle</a>,\n",
       " <a href=\"http://carsalesbase.com/european-car-sales-data/Ford/Ford-Focus/\" title=\"Ford Focus\">Ford Focus</a>,\n",
       " <a href=\"http://carsalesbase.com/european-car-sales-data/Mercedes-Benz/Mercedes-Benz-CLA/\" title=\"Mercedes-Benz CLA\">Mercedes-Benz CLA</a>,\n",
       " <a href=\"http://carsalesbase.com/european-car-sales-data/Audi/Audi-A3/\" title=\"Audi A3\">Audi A3</a>,\n",
       " <a href=\"http://carsalesbase.com/european-car-sales-data/Chevrolet/Chevrolet-Volt/\" title=\"Chevrolet Volt\">Chevrolet Volt</a>,\n",
       " <a href=\"http://carsalesbase.com/european-car-sales-data/BMW/BMW-i3/\" title=\"BMW i3\">BMW i3</a>,\n",
       " <a href=\"http://carsalesbase.com/european-car-sales-data/Mini/Mini-Clubman/\" title=\"Mini Clubman\">Mini Clubman</a>,\n",
       " <a href=\"http://carsalesbase.com/european-car-sales-data/Fiat/Fiat-500L/\" title=\"Fiat 500L\">Fiat 500L</a>,\n",
       " <a href=\"http://carsalesbase.com/european-car-sales-data/Ford/Ford-CMax/\" title=\"Ford C-Max\">Ford C-Max</a>,\n",
       " <a href=\"http://carsalesbase.com/european-car-sales-data/Mercedes-Benz/Mercedes-Benz-B-Class/\" title=\"Mercedes-Benz B-class\">Mercedes-Benz B-class</a>,\n",
       " <a class=\"twitter-share-button\" data-text=\"US sales analysis 2019 – Compact cars\" data-url=\"http://carsalesbase.com/us-sales-2019-compact-cars/\" data-via=\"carsalesbase\" href=\"https://twitter.com/share\">Tweet</a>,\n",
       " <a data-pin-config=\"beside\" data-pin-do=\"buttonPin\" href=\"https://www.pinterest.com/pin/create/button/?url=http%3A%2F%2Fcarsalesbase.com%2Fus-sales-2019-compact-cars%2F&amp;media=http%3A%2F%2Fcarsalesbase.com%2Fwp-content%2Fuploads%2F2020%2F01%2FUS-car_sales-compact_car-segment-Honda_Civic-Toyota_Corolla-Nissan_Sentra.jpg&amp;description=US%20sales%20analysis%202019%20%E2%80%93%20Compact%20cars\"><img alt=\"\" src=\"//assets.pinterest.com/images/pidgets/pinit_fg_en_rect_gray_20.png\" title=\"\"/></a>,\n",
       " <a href=\"http://carsalesbase.com/category/car-sales-us/car-sales-segments-us/compact-segment-us/\" rel=\"category tag\">US Compact car segment</a>,\n",
       " <a href=\"http://carsalesbase.com/category/car-sales-us/car-sales-segments-us/premium-compact-segment-us/\" rel=\"category tag\">US Premium compact car segment</a>,\n",
       " <a href=\"http://carsalesbase.com/tag/2019/\" rel=\"tag\">2019</a>,\n",
       " <a href=\"http://carsalesbase.com/tag/acura-ilx/\" rel=\"tag\">Acura ILX</a>,\n",
       " <a href=\"http://carsalesbase.com/tag/audi-a3/\" rel=\"tag\">Audi A3</a>,\n",
       " <a href=\"http://carsalesbase.com/tag/bmw-2-series/\" rel=\"tag\">BMW 2-series</a>,\n",
       " <a href=\"http://carsalesbase.com/tag/bmw-i3/\" rel=\"tag\">bmw i3</a>,\n",
       " <a href=\"http://carsalesbase.com/tag/chevrolet-bolt-ev/\" rel=\"tag\">Chevrolet Bolt EV</a>,\n",
       " <a href=\"http://carsalesbase.com/tag/chevrolet-cruze/\" rel=\"tag\">Chevrolet Cruze</a>,\n",
       " <a href=\"http://carsalesbase.com/tag/chevrolet-volt/\" rel=\"tag\">chevrolet volt</a>,\n",
       " <a href=\"http://carsalesbase.com/tag/compact/\" rel=\"tag\">compact</a>,\n",
       " <a href=\"http://carsalesbase.com/tag/fiat-500l/\" rel=\"tag\">Fiat 500L</a>,\n",
       " <a href=\"http://carsalesbase.com/tag/ford-focus/\" rel=\"tag\">Ford Focus</a>,\n",
       " <a href=\"http://carsalesbase.com/tag/honda-civic/\" rel=\"tag\">Honda Civic</a>,\n",
       " <a href=\"http://carsalesbase.com/tag/hyundai-elantra/\" rel=\"tag\">Hyundai Elantra</a>,\n",
       " <a href=\"http://carsalesbase.com/tag/hyundai-ioniq/\" rel=\"tag\">Hyundai Ioniq</a>,\n",
       " <a href=\"http://carsalesbase.com/tag/kia-forte/\" rel=\"tag\">kia forte</a>,\n",
       " <a href=\"http://carsalesbase.com/tag/lexus-ct/\" rel=\"tag\">Lexus CT</a>,\n",
       " <a href=\"http://carsalesbase.com/tag/mazda3/\" rel=\"tag\">mazda3</a>,\n",
       " <a href=\"http://carsalesbase.com/tag/mercedes-benz-a-class/\" rel=\"tag\">Mercedes-Benz A-Class</a>,\n",
       " <a href=\"http://carsalesbase.com/tag/mercedes-benz-cla/\" rel=\"tag\">Mercedes-Benz CLA</a>,\n",
       " <a href=\"http://carsalesbase.com/tag/mini-clubman/\" rel=\"tag\">Mini Clubman</a>,\n",
       " <a href=\"http://carsalesbase.com/tag/mitsubishi-lancer/\" rel=\"tag\">Mitsubishi Lancer</a>,\n",
       " <a href=\"http://carsalesbase.com/tag/nissan-leaf/\" rel=\"tag\">nissan leaf</a>,\n",
       " <a href=\"http://carsalesbase.com/tag/nissan-sentra/\" rel=\"tag\">nissan sentra</a>,\n",
       " <a href=\"http://carsalesbase.com/tag/sales/\" rel=\"tag\">sales</a>,\n",
       " <a href=\"http://carsalesbase.com/tag/subaru-impreza/\" rel=\"tag\">Subaru Impreza</a>,\n",
       " <a href=\"http://carsalesbase.com/tag/toyota-corolla/\" rel=\"tag\">Toyota Corolla</a>,\n",
       " <a href=\"http://carsalesbase.com/tag/toyota-corolla-hatchback/\" rel=\"tag\">Toyota Corolla hatchback</a>,\n",
       " <a href=\"http://carsalesbase.com/tag/toyota-mirai/\" rel=\"tag\">toyota mirai</a>,\n",
       " <a href=\"http://carsalesbase.com/tag/toyota-prius/\" rel=\"tag\">Toyota Prius</a>,\n",
       " <a href=\"http://carsalesbase.com/tag/us/\" rel=\"tag\">US</a>,\n",
       " <a href=\"http://carsalesbase.com/tag/vw-beetle/\" rel=\"tag\">vw beetle</a>,\n",
       " <a href=\"http://carsalesbase.com/tag/vw-golf/\" rel=\"tag\">vw golf</a>,\n",
       " <a href=\"http://carsalesbase.com/tag/vw-jetta/\" rel=\"tag\">vw jetta</a>,\n",
       " <a href=\"http://left-lane.com/author/leftlane/\">Here</a>,\n",
       " <a href=\"/us-sales-2019-compact-cars/#respond\" id=\"cancel-comment-reply-link\" rel=\"nofollow\" style=\"display:none;\">Cancel reply</a>,\n",
       " <a href=\"http://carsalesbase.com/car-sales-comparison\"><img alt=\"\" class=\"aligncenter size-medium wp-image-48070\" src=\"http://carsalesbase.com/wp-content/uploads/2017/12/Screen-Shot-2017-12-30-at-11.47.36-PM-1-400x205.png\" width=\"290\"/></a>,\n",
       " <a aria-current=\"page\" href=\"http://carsalesbase.com/us-sales-2019-compact-cars/\">US sales analysis 2019 – Compact cars</a>,\n",
       " <a href=\"http://carsalesbase.com/us-car-sales-analysis-2019-subcompact-cars/\">US car sales analysis 2019 – Subcompact cars</a>,\n",
       " <a href=\"http://carsalesbase.com/us-car-sales-analysis-2019-minicars/\">US car sales analysis 2019 – Minicars</a>,\n",
       " <a href=\"http://carsalesbase.com/china-car-sales-analysis-2019-models/\">China car sales analysis 2019 – models</a>,\n",
       " <a href=\"http://carsalesbase.com/china-car-sales-analysis-2019-brands/\">China car sales analysis 2019 – brands</a>,\n",
       " <a href=\"http://carsalesbase.com/us-car-sales-analysis-2019-brands/\">US car sales analysis 2019 – brands</a>,\n",
       " <a href=\"http://carsalesbase.com/european-car-sales-analysis-november-2019/\">European car sales analysis November 2019</a>,\n",
       " <a href=\"http://carsalesbase.com/european-car-sales-analysis-october-2019/\">European car sales analysis October 2019</a>,\n",
       " <a href=\"http://carsalesbase.com/european-sales-2019-q3-ev-phev-segments/\">European sales 2019-Q3 EV and PHEV segments</a>,\n",
       " <a href=\"http://carsalesbase.com/european-sales-2019-q3-premium-large-suv-segment/\">European sales 2019-Q3 Premium Large SUV segment</a>,\n",
       " <a href=\"http://carsalesbase.com/european-sales-2019-q3-premium-midsized-compact-suv-segments/\">European sales 2019-Q3 Premium Midsized and Compact SUV segments</a>,\n",
       " <a href=\"http://carsalesbase.com/european-sales-2019-q3-limousine-segment/\">European sales 2019-Q3 Limousine segment</a>,\n",
       " <a href=\"http://carsalesbase.com/european-sales-2019-q3-premium-large-segment/\">European sales 2019-Q3 Premium Large segment</a>,\n",
       " <a href=\"http://carsalesbase.com/european-sales-2019-q3-premium-midsized-segment/\">European sales 2019-Q3 Premium Midsized segment</a>,\n",
       " <a href=\"http://carsalesbase.com/european-sales-2019-q3-premium-compact-segment/\">European sales 2019-Q3 Premium Compact segment</a>,\n",
       " <a href=\"http://carsalesbase.com/european-sales-2019-q3-large-suv-segment/\">European sales 2019-Q3 large SUV segment</a>,\n",
       " <a href=\"http://carsalesbase.com/european-sales-2019-q3-compact-midsized-crossover-segments/\">European sales 2019-Q3 compact &amp; midsized crossover segments</a>,\n",
       " <a href=\"http://carsalesbase.com/european-sales-2019-q3-small-crossover-segment/\">European sales 2019-Q3 small crossover segment</a>,\n",
       " <a href=\"http://carsalesbase.com/european-sales-2019-q3-large-mpv-segment/\">European sales 2019-Q3 large MPV segment</a>,\n",
       " <a href=\"http://carsalesbase.com/european-sales-2019-q3-midsized-mpv-segment/\">European sales 2019-Q3 midsized MPV segment</a>,\n",
       " <a href=\"https://www.facebook.com/carsalesbase\">Follow Carsalesbase.com</a>,\n",
       " <a href=\"https://www.facebook.com/carsalesbase\">Follow Carsalesbase.com</a>,\n",
       " <a href=\"http://carsalesbase.com/2020/01/\">January 2020</a>,\n",
       " <a href=\"http://carsalesbase.com/2019/12/\">December 2019</a>,\n",
       " <a href=\"http://carsalesbase.com/2019/11/\">November 2019</a>,\n",
       " <a href=\"http://carsalesbase.com/2019/10/\">October 2019</a>,\n",
       " <a href=\"http://carsalesbase.com/2019/09/\">September 2019</a>,\n",
       " <a href=\"http://carsalesbase.com/2019/08/\">August 2019</a>,\n",
       " <a href=\"http://carsalesbase.com/2019/07/\">July 2019</a>,\n",
       " <a href=\"http://carsalesbase.com/2019/06/\">June 2019</a>,\n",
       " <a href=\"http://carsalesbase.com/2019/05/\">May 2019</a>,\n",
       " <a href=\"http://carsalesbase.com/2019/04/\">April 2019</a>,\n",
       " <a href=\"http://carsalesbase.com/2019/03/\">March 2019</a>,\n",
       " <a href=\"http://carsalesbase.com/2019/02/\">February 2019</a>,\n",
       " <a href=\"http://carsalesbase.com/2019/01/\">January 2019</a>,\n",
       " <a href=\"http://carsalesbase.com/2018/12/\">December 2018</a>,\n",
       " <a href=\"http://carsalesbase.com/2018/11/\">November 2018</a>,\n",
       " <a href=\"http://carsalesbase.com/2018/10/\">October 2018</a>,\n",
       " <a href=\"http://carsalesbase.com/2018/09/\">September 2018</a>,\n",
       " <a href=\"http://carsalesbase.com/2018/08/\">August 2018</a>,\n",
       " <a href=\"http://carsalesbase.com/2018/07/\">July 2018</a>,\n",
       " <a href=\"http://carsalesbase.com/2018/06/\">June 2018</a>,\n",
       " <a href=\"http://carsalesbase.com/2018/05/\">May 2018</a>,\n",
       " <a href=\"http://carsalesbase.com/2018/04/\">April 2018</a>,\n",
       " <a href=\"http://carsalesbase.com/2018/03/\">March 2018</a>,\n",
       " <a href=\"http://carsalesbase.com/2018/02/\">February 2018</a>,\n",
       " <a href=\"http://carsalesbase.com/2018/01/\">January 2018</a>,\n",
       " <a href=\"http://carsalesbase.com/2017/12/\">December 2017</a>,\n",
       " <a href=\"http://carsalesbase.com/2017/11/\">November 2017</a>,\n",
       " <a href=\"http://carsalesbase.com/2017/10/\">October 2017</a>,\n",
       " <a href=\"http://carsalesbase.com/2017/09/\">September 2017</a>,\n",
       " <a href=\"http://carsalesbase.com/2017/08/\">August 2017</a>,\n",
       " <a href=\"http://carsalesbase.com/2017/07/\">July 2017</a>,\n",
       " <a href=\"http://carsalesbase.com/2017/06/\">June 2017</a>,\n",
       " <a href=\"http://carsalesbase.com/2017/05/\">May 2017</a>,\n",
       " <a href=\"http://carsalesbase.com/2017/04/\">April 2017</a>,\n",
       " <a href=\"http://carsalesbase.com/2017/03/\">March 2017</a>,\n",
       " <a href=\"http://carsalesbase.com/2017/02/\">February 2017</a>,\n",
       " <a href=\"http://carsalesbase.com/2017/01/\">January 2017</a>,\n",
       " <a href=\"http://carsalesbase.com/2016/12/\">December 2016</a>,\n",
       " <a href=\"http://carsalesbase.com/2016/11/\">November 2016</a>,\n",
       " <a href=\"http://carsalesbase.com/2016/10/\">October 2016</a>,\n",
       " <a href=\"http://carsalesbase.com/2016/09/\">September 2016</a>,\n",
       " <a href=\"http://carsalesbase.com/2016/08/\">August 2016</a>,\n",
       " <a href=\"http://carsalesbase.com/2016/07/\">July 2016</a>,\n",
       " <a href=\"http://carsalesbase.com/2016/06/\">June 2016</a>,\n",
       " <a href=\"http://carsalesbase.com/2016/05/\">May 2016</a>,\n",
       " <a href=\"http://carsalesbase.com/2016/04/\">April 2016</a>,\n",
       " <a href=\"http://carsalesbase.com/2016/03/\">March 2016</a>,\n",
       " <a href=\"http://carsalesbase.com/2016/02/\">February 2016</a>,\n",
       " <a href=\"http://carsalesbase.com/2016/01/\">January 2016</a>,\n",
       " <a href=\"http://carsalesbase.com/2015/12/\">December 2015</a>,\n",
       " <a href=\"http://carsalesbase.com/2015/11/\">November 2015</a>,\n",
       " <a href=\"http://carsalesbase.com/2015/10/\">October 2015</a>,\n",
       " <a href=\"http://carsalesbase.com/2015/09/\">September 2015</a>,\n",
       " <a href=\"http://carsalesbase.com/2015/08/\">August 2015</a>,\n",
       " <a href=\"http://carsalesbase.com/2015/07/\">July 2015</a>,\n",
       " <a href=\"http://carsalesbase.com/2015/06/\">June 2015</a>,\n",
       " <a href=\"http://carsalesbase.com/2015/05/\">May 2015</a>,\n",
       " <a href=\"http://carsalesbase.com/2015/04/\">April 2015</a>,\n",
       " <a href=\"http://carsalesbase.com/2015/03/\">March 2015</a>,\n",
       " <a href=\"http://carsalesbase.com/2015/02/\">February 2015</a>,\n",
       " <a href=\"http://carsalesbase.com/2015/01/\">January 2015</a>,\n",
       " <a href=\"http://carsalesbase.com/2014/12/\">December 2014</a>,\n",
       " <a href=\"http://carsalesbase.com/2014/11/\">November 2014</a>,\n",
       " <a href=\"http://carsalesbase.com/2014/10/\">October 2014</a>,\n",
       " <a href=\"http://carsalesbase.com/2014/09/\">September 2014</a>,\n",
       " <a href=\"http://carsalesbase.com/2014/08/\">August 2014</a>,\n",
       " <a href=\"http://carsalesbase.com/2014/07/\">July 2014</a>,\n",
       " <a href=\"http://carsalesbase.com/2014/06/\">June 2014</a>,\n",
       " <a href=\"http://carsalesbase.com/2014/05/\">May 2014</a>,\n",
       " <a href=\"http://carsalesbase.com/2014/04/\">April 2014</a>,\n",
       " <a href=\"http://carsalesbase.com/2014/03/\">March 2014</a>,\n",
       " <a href=\"http://carsalesbase.com/2014/02/\">February 2014</a>,\n",
       " <a href=\"http://carsalesbase.com/2014/01/\">January 2014</a>,\n",
       " <a href=\"http://carsalesbase.com/2013/12/\">December 2013</a>,\n",
       " <a href=\"http://carsalesbase.com/2013/11/\">November 2013</a>,\n",
       " <a href=\"http://carsalesbase.com/category/auto-shows/\">Auto Shows</a>,\n",
       " <a href=\"http://carsalesbase.com/category/car-sales-china/\">Car sales China</a>,\n",
       " <a href=\"http://carsalesbase.com/category/car-sales-europe/\">Car sales Europe</a>,\n",
       " <a href=\"http://carsalesbase.com/category/car-sales-us/\">Car sales US</a>,\n",
       " <a href=\"http://carsalesbase.com/category/car-sales-europe/car-sales-segments/compact-segment/\" title=\"Car sales statistics for the compact car segment in Europe, updated every quarter.\">Compact car segment</a>,\n",
       " <a href=\"http://carsalesbase.com/category/car-sales-europe/car-sales-segments/coupe-convertible-segment/\" title=\"Car sales statistics for the coupe and convertible segments in Europe, updated every half year.\">Coupe and convertible segment</a>,\n",
       " <a href=\"http://carsalesbase.com/category/car-sales-europe/car-sales-segments/ev-segment/\" title=\"Car sales statistics for Electric Vehicles in Europe, updated every half.\">EV segment</a>,\n",
       " <a href=\"http://carsalesbase.com/category/car-sales-europe/car-sales-segments/exotic-car-segment/\" title=\"Car sales statistics for the exotic car segment in Europe, updated every quarter.\">Exotic car segment</a>,\n",
       " <a href=\"http://carsalesbase.com/category/fun-stuff/\">Fun stuff</a>,\n",
       " <a href=\"http://carsalesbase.com/category/industry/\">Industry</a>,\n",
       " <a href=\"http://carsalesbase.com/category/street-scenes/\">International Street Scenes</a>,\n",
       " <a href=\"http://carsalesbase.com/category/car-sales-europe/car-sales-segments/large-mpv-segment/\" title=\"Car sales statistics for the large MPV segment segment in Europe, updated every quarter.\">Large MPV segment</a>,\n",
       " <a href=\"http://carsalesbase.com/category/car-sales-europe/car-sales-segments/large-suv-segment/\" title=\"Car sales statistics for the large SUV / crossover segment in Europe, updated every quarter.\">Large SUV segment</a>,\n",
       " <a href=\"http://carsalesbase.com/category/car-sales-europe/car-sales-segments/lcv-sales/\" title=\"Car sales statistics for light commercial vehicles in Europe, updated every year.\">LCV sales</a>,\n",
       " <a href=\"http://carsalesbase.com/category/car-sales-europe/car-sales-segments/limousine-segment/\" title=\"Car sales statistics for the limousine segment in Europe, updated every quarter.\">Limousine segment</a>,\n",
       " <a href=\"http://carsalesbase.com/category/fun-stuff/lookalike/\">Look-a-like</a>,\n",
       " <a href=\"http://carsalesbase.com/category/car-sales-europe/car-sales-segments/midsize-segment/\" title=\"Car sales statistics for the midsized car segment in Europe, updated every quarter.\">Midsized car segment</a>,\n",
       " <a href=\"http://carsalesbase.com/category/car-sales-europe/car-sales-segments/midsized-mpv-segment/\" title=\"Car sales statistics for the midsized MPV segment segment in Europe, updated every quarter.\">Midsized MPV segment</a>,\n",
       " <a href=\"http://carsalesbase.com/category/car-sales-europe/car-sales-segments/midsized-suv-segment/\" title=\"Car sales statistics for the midsized SUV / crossover segment segment in Europe, updated every quarter.\">Midsized SUV segment</a>,\n",
       " <a href=\"http://carsalesbase.com/category/car-sales-europe/car-sales-segments/minicar-segment/\" title=\"Car sales statistics for the minicar segment in Europe, updated every quarter.\">Minicar segment</a>,\n",
       " <a href=\"http://carsalesbase.com/category/news/\">News</a>,\n",
       " <a href=\"http://carsalesbase.com/category/opinion/\">Opinion</a>,\n",
       " <a href=\"http://carsalesbase.com/category/car-sales-europe/car-sales-segments/passenger-van-segment/\" title=\"Car sales statistics for the passenger van segment segment in Europe, updated every quarter.\">Passenger van segment</a>,\n",
       " <a href=\"http://carsalesbase.com/category/fun-stuff/polls/\">Polls</a>,\n",
       " <a href=\"http://carsalesbase.com/category/car-sales-europe/car-sales-segments/premium-compact-segment/\" title=\"Car sales statistics for the premium compact car segment in Europe, updated every quarter.\">Premium compact car segment</a>,\n",
       " <a href=\"http://carsalesbase.com/category/car-sales-europe/car-sales-segments/premium-large-car-segment/\" title=\"Car sales statistics for the premium large car segment in Europe, updated every quarter.\">Premium large car segment</a>,\n",
       " <a href=\"http://carsalesbase.com/category/car-sales-europe/car-sales-segments/premium-large-suv-segment/\" title=\"Car sales statistics for the premium large SUV / crossover segment in Europe, updated every quarter.\">Premium large SUV segment</a>,\n",
       " <a href=\"http://carsalesbase.com/category/car-sales-europe/car-sales-segments/premium-compact-suv-segment/\" title=\"Car sales statistics for the premium midsized and compact SUV / crossover segment in Europe, updated every quarter.\">Premium midsized and compact SUV segment</a>,\n",
       " <a href=\"http://carsalesbase.com/category/car-sales-europe/car-sales-segments/premium-midsize-segment/\" title=\"Car sales statistics for the premium midsized car segment in Europe, updated every quarter.\">Premium midsized car segment</a>,\n",
       " <a href=\"http://carsalesbase.com/category/reviews/\">Reviews</a>,\n",
       " <a href=\"http://carsalesbase.com/category/car-sales-europe/car-sales-segments/small-mpv-segment/\" title=\"Car sales statistics for the small MPV segment in Europe, updated every quarter.\">Small MPV segment</a>,\n",
       " <a href=\"http://carsalesbase.com/category/car-sales-europe/car-sales-segments/small-suv-segment/\" title=\"Car sales statistics for the small SUV / crossover segment segment in Europe, updated every quarter.\">Small SUV segment</a>,\n",
       " <a href=\"http://carsalesbase.com/category/car-sales-europe/car-sales-segments/subcompact-segment/\" title=\"Car sales statistics for the subcompact car segment in Europe, updated every quarter.\">Subcompact car segment</a>,\n",
       " <a href=\"http://carsalesbase.com/category/uncategorized/\">Uncategorized</a>,\n",
       " <a href=\"http://carsalesbase.com/category/car-sales-us/car-sales-segments-us/ev-segment-us/\" title=\"Car sales statistics for the EV and alternative power car segment in the US, updated every quarter.\">US Alternative power segment</a>,\n",
       " <a href=\"http://carsalesbase.com/category/car-sales-us/car-sales-segments-us/commercial-van-segment-us/\" title=\"Car sales statistics for the commercial van segment in the US, updated every quarter.\">US Commercial van segment</a>,\n",
       " <a href=\"http://carsalesbase.com/category/car-sales-us/car-sales-segments-us/compact-segment-us/\" title=\"Car sales statistics for the compact car segment in the US, updated every quarter.\">US Compact car segment</a>,\n",
       " <a href=\"http://carsalesbase.com/category/car-sales-us/car-sales-segments-us/compact-sportscar-segment-us/\" title=\"Car sales statistics for the compact sports car segment in the US, updated every quarter.\">US Compact sports car segment</a>,\n",
       " <a href=\"http://carsalesbase.com/category/car-sales-us/car-sales-segments-us/compact-suv-segment-us/\" title=\"Car sales statistics for the compact SUV / crossover segment in the US, updated every quarter.\">US Compact SUV segment</a>,\n",
       " <a href=\"http://carsalesbase.com/category/car-sales-us/car-sales-segments-us/exotic-car-segment-us/\" title=\"Car sales statistics for the exotic car segment in the US, updated every quarter.\">US Exotic car segment</a>,\n",
       " <a href=\"http://carsalesbase.com/category/car-sales-us/car-sales-segments-us/large-segment-us/\" title=\"Car sales statistics for the large car segment in the US, updated every quarter.\">US Large car segment</a>,\n",
       " <a href=\"http://carsalesbase.com/category/car-sales-us/car-sales-segments-us/large-sportscar-segment-us/\" title=\"Car sales statistics for the large sports car segment in the US, updated every quarter.\">US Large sports car segment</a>,\n",
       " <a href=\"http://carsalesbase.com/category/car-sales-us/car-sales-segments-us/large-suv-segment-us/\" title=\"Car sales statistics for the large SUV segment in the US, updated every quarter.\">US Large SUV segment</a>,\n",
       " <a href=\"http://carsalesbase.com/category/car-sales-us/car-sales-segments-us/limousine-segment-us/\" title=\"Car sales statistics for the limousine segment in the US, updated every quarter.\">US Limousine segment</a>,\n",
       " <a href=\"http://carsalesbase.com/category/car-sales-us/car-sales-segments-us/midsized-segment-us/\" title=\"Car sales statistics for the mid-sized car segment in the US, updated every quarter.\">US Mid-sized car segment</a>,\n",
       " <a href=\"http://carsalesbase.com/category/car-sales-us/car-sales-segments-us/midsized-suv-segment-us/\" title=\"Car sales statistics for the mid-sized SUV / crossover segment in the US, updated every quarter.\">US Mid-sized SUV segment</a>,\n",
       " <a href=\"http://carsalesbase.com/category/car-sales-us/car-sales-segments-us/minicar-segment-us/\" title=\"Car sales statistics for the minicar segment in the US, updated every quarter.\">US Minicar segment</a>,\n",
       " <a href=\"http://carsalesbase.com/category/car-sales-us/car-sales-segments-us/minivan-segment-us/\" title=\"Car sales statistics for the minivan segment in the US, updated every quarter.\">US Minivan segment</a>,\n",
       " <a href=\"http://carsalesbase.com/category/car-sales-us/car-sales-segments-us/pickup-segment-us/\" title=\"Car sales statistics for the full-sized pickup truck segment in the US, updated every quarter.\">US Pickup segment</a>,\n",
       " <a href=\"http://carsalesbase.com/category/car-sales-us/car-sales-segments-us/premium-compact-segment-us/\" title=\"Car sales statistics for the premium compact car segment in the US, updated every quarter.\">US Premium compact car segment</a>,\n",
       " <a href=\"http://carsalesbase.com/category/car-sales-us/car-sales-segments-us/premium-compact-suv-segment-us/\" title=\"Car sales statistics for the premium compact SUV / crossover segment in the US, updated every quarter.\">US Premium compact SUV segment</a>,\n",
       " <a href=\"http://carsalesbase.com/category/car-sales-us/car-sales-segments-us/premium-large-segment-us/\" title=\"Car sales statistics for the premium large car segment in the US, updated every quarter.\">US Premium large car segment</a>,\n",
       " <a href=\"http://carsalesbase.com/category/car-sales-us/car-sales-segments-us/premium-large-suv-segment-us/\" title=\"Car sales statistics for the premium large SUV segment in the US, updated every quarter.\">US Premium large SUV segment</a>,\n",
       " <a href=\"http://carsalesbase.com/category/car-sales-us/car-sales-segments-us/premium-midsized-segment-us/\" title=\"Car sales statistics for the premium mid-sized car segment in the US, updated every quarter.\">US Premium mid-sized car segment</a>,\n",
       " <a href=\"http://carsalesbase.com/category/car-sales-us/car-sales-segments-us/premium-midsized-suv-segment-us/\" title=\"Car sales statistics for the premium mid-sized SUV / crossover segment in the US, updated every quarter.\">US Premium mid-sized SUV segment</a>,\n",
       " <a href=\"http://carsalesbase.com/category/car-sales-us/car-sales-segments-us/small-pickup-segment-us/\" title=\"Car sales statistics for the small pickup truck segment in the US, updated every quarter.\">US Small pickup segment</a>,\n",
       " <a href=\"http://carsalesbase.com/category/car-sales-us/car-sales-segments-us/subcompact-segment-us/\" title=\"Car sales statistics for the subcompact car segment in the US, updated every quarter.\">US Subcompact car segment</a>,\n",
       " <a href=\"http://carsalesbase.com/category/car-sales-us/car-sales-segments-us/subcompact-suv-segment-us/\" title=\"Car sales statistics for the subcompact SUV / crossover segment in the US, updated every quarter.\">US Subcompact SUV segment</a>,\n",
       " <a href=\"http://carsalesbase.com/author/leftlane/\" title=\"Posts by Bart Demandt\">Bart Demandt</a>,\n",
       " <a href=\"http://carsalesbase.com/author/colman-murphy/\" title=\"Posts by Colman Murphy\">Colman Murphy</a>,\n",
       " <a href=\"http://carsalesbase.com/author/jean-philippe-launberg/\" title=\"Posts by Jean-Philippe Launberg\">Jean-Philippe Launberg</a>,\n",
       " <a href=\"http://carsalesbase.com/author/john-mcharris/\" title=\"Posts by John McHarris\">John McHarris</a>,\n",
       " <a href=\"http://carsalesbase.com/author/john-v-ryan-pe/\" title=\"Posts by John V. Ryan, PE\">John V. Ryan, PE</a>,\n",
       " <a href=\"http://carsalesbase.com/author/krzysztof-wozniak/\" title=\"Posts by Krzysztof Wozniak\">Krzysztof Wozniak</a>,\n",
       " <a href=\"http://carsalesbase.com/author/rutger/\" title=\"Posts by Rutger Van der Maar\">Rutger Van der Maar</a>,\n",
       " <a href=\"http://my.studiopress.com/themes/agency/\">CSB Theme</a>,\n",
       " <a href=\"https://www.studiopress.com/\">Genesis Framework</a>,\n",
       " <a href=\"https://wordpress.org/\">WordPress</a>,\n",
       " <a href=\"http://carsalesbase.com/wp-login.php\" rel=\"nofollow\">Log in</a>]"
      ]
     },
     "execution_count": 38,
     "metadata": {},
     "output_type": "execute_result"
    }
   ],
   "source": [
    "soup.find_all('a')"
   ]
  },
  {
   "cell_type": "code",
   "execution_count": null,
   "metadata": {},
   "outputs": [],
   "source": []
  },
  {
   "cell_type": "markdown",
   "metadata": {},
   "source": [
    "To analyze our to-do list, we probably just want the text from each tagged element.  How can we do that?\n",
    "\n",
    "One approach is to loop through the list and apply `.text` to each element:"
   ]
  },
  {
   "cell_type": "code",
   "execution_count": 24,
   "metadata": {
    "ExecuteTime": {
     "end_time": "2019-11-27T22:14:00.070490Z",
     "start_time": "2019-11-27T22:13:59.850Z"
    }
   },
   "outputs": [
    {
     "name": "stdout",
     "output_type": "stream",
     "text": [
      "['Home', 'Europe sales\\n\\n\\tMinicar segment\\n\\tSubcompact car segment\\n\\tCompact car segment\\n\\tMidsized car segment\\n\\tSmall MPV segment\\n\\tMidsized MPV segment\\n\\tLarge MPV segment\\n\\tSmall SUV segment\\n\\tMidsized SUV segment\\n\\tLarge SUV segment\\n\\tEV segment\\n\\tPremium compact car segment\\n\\tPremium midsized car segment\\n\\tPremium large car segment\\n\\tLimousine segment\\n\\tPremium midsized and compact SUV segment\\n\\tPremium large SUV segment\\n\\tCoupe and Convertible segments\\n\\tExotic car segment\\n\\tPassenger van segment\\n\\tLCV sales\\n\\n', 'Minicar segment', 'Subcompact car segment', 'Compact car segment', 'Midsized car segment', 'Small MPV segment', 'Midsized MPV segment', 'Large MPV segment', 'Small SUV segment', 'Midsized SUV segment', 'Large SUV segment', 'EV segment', 'Premium compact car segment', 'Premium midsized car segment', 'Premium large car segment', 'Limousine segment', 'Premium midsized and compact SUV segment', 'Premium large SUV segment', 'Coupe and Convertible segments', 'Exotic car segment', 'Passenger van segment', 'LCV sales', 'US sales\\n\\n\\tUS Minicar segment\\n\\tUS Subcompact car segment\\n\\tUS Compact car segment\\n\\tUS Mid-sized car segment\\n\\tUS Large car segment\\n\\tUS Minivan segment\\n\\tUS Compact SUV segment\\n\\tUS Subcompact SUV segment\\n\\tUS Mid-sized SUV segment\\n\\tUS Large SUV segment\\n\\tUS Small pickup segment\\n\\tUS Pickup segment\\n\\tUS Premium compact car segment\\n\\tUS Premium mid-sized car segment\\n\\tUS Premium large car segment\\n\\tUS Limousine segment\\n\\tUS Premium compact SUV segment\\n\\tUS Premium mid-sized SUV segment\\n\\tUS Premium large SUV segment\\n\\tUS Commercial van segment\\n\\tEV & PHEV segment\\n\\tSports Car Compact segment\\n\\tSports Car Large segment\\n\\tUS Exotic car segment\\n\\n', 'US Minicar segment', 'US Subcompact car segment', 'US Compact car segment', 'US Mid-sized car segment', 'US Large car segment', 'US Minivan segment', 'US Compact SUV segment', 'US Subcompact SUV segment', 'US Mid-sized SUV segment', 'US Large SUV segment', 'US Small pickup segment', 'US Pickup segment', 'US Premium compact car segment', 'US Premium mid-sized car segment', 'US Premium large car segment', 'US Limousine segment', 'US Premium compact SUV segment', 'US Premium mid-sized SUV segment', 'US Premium large SUV segment', 'US Commercial van segment', 'EV & PHEV segment', 'Sports Car Compact segment', 'Sports Car Large segment', 'US Exotic car segment', 'China sales\\n\\n\\tChina monthly reports\\n\\n', 'China monthly reports', 'Countries', 'Comparison tool', 'Fun stuff\\n\\n\\tPolls\\n\\tLook-a-like\\n\\n', 'Polls', 'Look-a-like', 'Opinion', 'Industry', 'News', 'About', '', 'Tweet', '', '', '', '\\n\\t\\t\\t\\t\\tUS sales analysis 2019 – Compact cars\\n\\t\\t\\t\\t\\t\\t\\t\\t\\t', '\\n\\t\\t\\t\\t\\tUS car sales analysis 2019 – Subcompact cars\\n\\t\\t\\t\\t\\t\\t\\t\\t\\t', '\\n\\t\\t\\t\\t\\tUS car sales analysis 2019 – Minicars\\n\\t\\t\\t\\t\\t\\t\\t\\t\\t', '\\n\\t\\t\\t\\t\\tChina car sales analysis 2019 – models\\n\\t\\t\\t\\t\\t\\t\\t\\t\\t', '\\n\\t\\t\\t\\t\\tChina car sales analysis 2019 – brands\\n\\t\\t\\t\\t\\t\\t\\t\\t\\t', '\\n\\t\\t\\t\\t\\tUS car sales analysis 2019 – brands\\n\\t\\t\\t\\t\\t\\t\\t\\t\\t', '\\n\\t\\t\\t\\t\\tEuropean car sales analysis November 2019\\n\\t\\t\\t\\t\\t\\t\\t\\t\\t', '\\n\\t\\t\\t\\t\\tEuropean car sales analysis October 2019\\n\\t\\t\\t\\t\\t\\t\\t\\t\\t', '\\n\\t\\t\\t\\t\\tEuropean sales 2019-Q3 EV and PHEV segments\\n\\t\\t\\t\\t\\t\\t\\t\\t\\t', '\\n\\t\\t\\t\\t\\tEuropean sales 2019-Q3 Premium Large SUV segment\\n\\t\\t\\t\\t\\t\\t\\t\\t\\t', '\\n\\t\\t\\t\\t\\tEuropean sales 2019-Q3 Premium Midsized and Compact SUV segments\\n\\t\\t\\t\\t\\t\\t\\t\\t\\t', '\\n\\t\\t\\t\\t\\tEuropean sales 2019-Q3 Limousine segment\\n\\t\\t\\t\\t\\t\\t\\t\\t\\t', '\\n\\t\\t\\t\\t\\tEuropean sales 2019-Q3 Premium Large segment\\n\\t\\t\\t\\t\\t\\t\\t\\t\\t', '\\n\\t\\t\\t\\t\\tEuropean sales 2019-Q3 Premium Midsized segment\\n\\t\\t\\t\\t\\t\\t\\t\\t\\t', '\\n\\t\\t\\t\\t\\tEuropean sales 2019-Q3 Premium Compact segment\\n\\t\\t\\t\\t\\t\\t\\t\\t\\t', '\\n\\t\\t\\t\\t\\tEuropean sales 2019-Q3 large SUV segment\\n\\t\\t\\t\\t\\t\\t\\t\\t\\t', '\\n\\t\\t\\t\\t\\tEuropean sales 2019-Q3 compact & midsized crossover segments\\n\\t\\t\\t\\t\\t\\t\\t\\t\\t', '\\n\\t\\t\\t\\t\\tEuropean sales 2019-Q3 small crossover segment\\n\\t\\t\\t\\t\\t\\t\\t\\t\\t', '\\n\\t\\t\\t\\t\\tEuropean sales 2019-Q3 large MPV segment\\n\\t\\t\\t\\t\\t\\t\\t\\t\\t', '\\n\\t\\t\\t\\t\\tEuropean sales 2019-Q3 midsized MPV segment\\n\\t\\t\\t\\t\\t\\t\\t\\t\\t', 'January 2020', 'December 2019', 'November 2019', 'October 2019', 'September 2019', 'August 2019', 'July 2019', 'June 2019', 'May 2019', 'April 2019', 'March 2019', 'February 2019', 'January 2019', 'December 2018', 'November 2018', 'October 2018', 'September 2018', 'August 2018', 'July 2018', 'June 2018', 'May 2018', 'April 2018', 'March 2018', 'February 2018', 'January 2018', 'December 2017', 'November 2017', 'October 2017', 'September 2017', 'August 2017', 'July 2017', 'June 2017', 'May 2017', 'April 2017', 'March 2017', 'February 2017', 'January 2017', 'December 2016', 'November 2016', 'October 2016', 'September 2016', 'August 2016', 'July 2016', 'June 2016', 'May 2016', 'April 2016', 'March 2016', 'February 2016', 'January 2016', 'December 2015', 'November 2015', 'October 2015', 'September 2015', 'August 2015', 'July 2015', 'June 2015', 'May 2015', 'April 2015', 'March 2015', 'February 2015', 'January 2015', 'December 2014', 'November 2014', 'October 2014', 'September 2014', 'August 2014', 'July 2014', 'June 2014', 'May 2014', 'April 2014', 'March 2014', 'February 2014', 'January 2014', 'December 2013', 'November 2013', 'Auto Shows\\n', 'Car sales China\\n', 'Car sales Europe\\n', 'Car sales US\\n', 'Compact car segment\\n', 'Coupe and convertible segment\\n', 'EV segment\\n', 'Exotic car segment\\n', 'Fun stuff\\n', 'Industry\\n', 'International Street Scenes\\n', 'Large MPV segment\\n', 'Large SUV segment\\n', 'LCV sales\\n', 'Limousine segment\\n', 'Look-a-like\\n', 'Midsized car segment\\n', 'Midsized MPV segment\\n', 'Midsized SUV segment\\n', 'Minicar segment\\n', 'News\\n', 'Opinion\\n', 'Passenger van segment\\n', 'Polls\\n', 'Premium compact car segment\\n', 'Premium large car segment\\n', 'Premium large SUV segment\\n', 'Premium midsized and compact SUV segment\\n', 'Premium midsized car segment\\n', 'Reviews\\n', 'Small MPV segment\\n', 'Small SUV segment\\n', 'Subcompact car segment\\n', 'Uncategorized\\n', 'US Alternative power segment\\n', 'US Commercial van segment\\n', 'US Compact car segment\\n', 'US Compact sports car segment\\n', 'US Compact SUV segment\\n', 'US Exotic car segment\\n', 'US Large car segment\\n', 'US Large sports car segment\\n', 'US Large SUV segment\\n', 'US Limousine segment\\n', 'US Mid-sized car segment\\n', 'US Mid-sized SUV segment\\n', 'US Minicar segment\\n', 'US Minivan segment\\n', 'US Pickup segment\\n', 'US Premium compact car segment\\n', 'US Premium compact SUV segment\\n', 'US Premium large car segment\\n', 'US Premium large SUV segment\\n', 'US Premium mid-sized car segment\\n', 'US Premium mid-sized SUV segment\\n', 'US Small pickup segment\\n', 'US Subcompact car segment\\n', 'US Subcompact SUV segment\\n', 'Bart Demandt ', 'Colman Murphy ', 'Jean-Philippe Launberg ', 'John McHarris ', 'John V. Ryan, PE ', 'Krzysztof Wozniak ', 'Rutger Van der Maar ']\n"
     ]
    }
   ],
   "source": [
    "todos=[]\n",
    "\n",
    "for element in soup.find_all('li'):\n",
    "    todos.append(element.text)\n",
    "    \n",
    "print(todos)"
   ]
  },
  {
   "cell_type": "markdown",
   "metadata": {},
   "source": [
    "Or we could use a list comprehension:"
   ]
  },
  {
   "cell_type": "code",
   "execution_count": 25,
   "metadata": {
    "ExecuteTime": {
     "end_time": "2019-11-27T22:14:00.074419Z",
     "start_time": "2019-11-27T22:13:59.860Z"
    }
   },
   "outputs": [
    {
     "data": {
      "text/plain": [
       "['Home',\n",
       " 'Europe sales\\n\\n\\tMinicar segment\\n\\tSubcompact car segment\\n\\tCompact car segment\\n\\tMidsized car segment\\n\\tSmall MPV segment\\n\\tMidsized MPV segment\\n\\tLarge MPV segment\\n\\tSmall SUV segment\\n\\tMidsized SUV segment\\n\\tLarge SUV segment\\n\\tEV segment\\n\\tPremium compact car segment\\n\\tPremium midsized car segment\\n\\tPremium large car segment\\n\\tLimousine segment\\n\\tPremium midsized and compact SUV segment\\n\\tPremium large SUV segment\\n\\tCoupe and Convertible segments\\n\\tExotic car segment\\n\\tPassenger van segment\\n\\tLCV sales\\n\\n',\n",
       " 'Minicar segment',\n",
       " 'Subcompact car segment',\n",
       " 'Compact car segment',\n",
       " 'Midsized car segment',\n",
       " 'Small MPV segment',\n",
       " 'Midsized MPV segment',\n",
       " 'Large MPV segment',\n",
       " 'Small SUV segment',\n",
       " 'Midsized SUV segment',\n",
       " 'Large SUV segment',\n",
       " 'EV segment',\n",
       " 'Premium compact car segment',\n",
       " 'Premium midsized car segment',\n",
       " 'Premium large car segment',\n",
       " 'Limousine segment',\n",
       " 'Premium midsized and compact SUV segment',\n",
       " 'Premium large SUV segment',\n",
       " 'Coupe and Convertible segments',\n",
       " 'Exotic car segment',\n",
       " 'Passenger van segment',\n",
       " 'LCV sales',\n",
       " 'US sales\\n\\n\\tUS Minicar segment\\n\\tUS Subcompact car segment\\n\\tUS Compact car segment\\n\\tUS Mid-sized car segment\\n\\tUS Large car segment\\n\\tUS Minivan segment\\n\\tUS Compact SUV segment\\n\\tUS Subcompact SUV segment\\n\\tUS Mid-sized SUV segment\\n\\tUS Large SUV segment\\n\\tUS Small pickup segment\\n\\tUS Pickup segment\\n\\tUS Premium compact car segment\\n\\tUS Premium mid-sized car segment\\n\\tUS Premium large car segment\\n\\tUS Limousine segment\\n\\tUS Premium compact SUV segment\\n\\tUS Premium mid-sized SUV segment\\n\\tUS Premium large SUV segment\\n\\tUS Commercial van segment\\n\\tEV & PHEV segment\\n\\tSports Car Compact segment\\n\\tSports Car Large segment\\n\\tUS Exotic car segment\\n\\n',\n",
       " 'US Minicar segment',\n",
       " 'US Subcompact car segment',\n",
       " 'US Compact car segment',\n",
       " 'US Mid-sized car segment',\n",
       " 'US Large car segment',\n",
       " 'US Minivan segment',\n",
       " 'US Compact SUV segment',\n",
       " 'US Subcompact SUV segment',\n",
       " 'US Mid-sized SUV segment',\n",
       " 'US Large SUV segment',\n",
       " 'US Small pickup segment',\n",
       " 'US Pickup segment',\n",
       " 'US Premium compact car segment',\n",
       " 'US Premium mid-sized car segment',\n",
       " 'US Premium large car segment',\n",
       " 'US Limousine segment',\n",
       " 'US Premium compact SUV segment',\n",
       " 'US Premium mid-sized SUV segment',\n",
       " 'US Premium large SUV segment',\n",
       " 'US Commercial van segment',\n",
       " 'EV & PHEV segment',\n",
       " 'Sports Car Compact segment',\n",
       " 'Sports Car Large segment',\n",
       " 'US Exotic car segment',\n",
       " 'China sales\\n\\n\\tChina monthly reports\\n\\n',\n",
       " 'China monthly reports',\n",
       " 'Countries',\n",
       " 'Comparison tool',\n",
       " 'Fun stuff\\n\\n\\tPolls\\n\\tLook-a-like\\n\\n',\n",
       " 'Polls',\n",
       " 'Look-a-like',\n",
       " 'Opinion',\n",
       " 'Industry',\n",
       " 'News',\n",
       " 'About',\n",
       " '',\n",
       " 'Tweet',\n",
       " '',\n",
       " '',\n",
       " '',\n",
       " '\\n\\t\\t\\t\\t\\tUS sales analysis 2019 – Compact cars\\n\\t\\t\\t\\t\\t\\t\\t\\t\\t',\n",
       " '\\n\\t\\t\\t\\t\\tUS car sales analysis 2019 – Subcompact cars\\n\\t\\t\\t\\t\\t\\t\\t\\t\\t',\n",
       " '\\n\\t\\t\\t\\t\\tUS car sales analysis 2019 – Minicars\\n\\t\\t\\t\\t\\t\\t\\t\\t\\t',\n",
       " '\\n\\t\\t\\t\\t\\tChina car sales analysis 2019 – models\\n\\t\\t\\t\\t\\t\\t\\t\\t\\t',\n",
       " '\\n\\t\\t\\t\\t\\tChina car sales analysis 2019 – brands\\n\\t\\t\\t\\t\\t\\t\\t\\t\\t',\n",
       " '\\n\\t\\t\\t\\t\\tUS car sales analysis 2019 – brands\\n\\t\\t\\t\\t\\t\\t\\t\\t\\t',\n",
       " '\\n\\t\\t\\t\\t\\tEuropean car sales analysis November 2019\\n\\t\\t\\t\\t\\t\\t\\t\\t\\t',\n",
       " '\\n\\t\\t\\t\\t\\tEuropean car sales analysis October 2019\\n\\t\\t\\t\\t\\t\\t\\t\\t\\t',\n",
       " '\\n\\t\\t\\t\\t\\tEuropean sales 2019-Q3 EV and PHEV segments\\n\\t\\t\\t\\t\\t\\t\\t\\t\\t',\n",
       " '\\n\\t\\t\\t\\t\\tEuropean sales 2019-Q3 Premium Large SUV segment\\n\\t\\t\\t\\t\\t\\t\\t\\t\\t',\n",
       " '\\n\\t\\t\\t\\t\\tEuropean sales 2019-Q3 Premium Midsized and Compact SUV segments\\n\\t\\t\\t\\t\\t\\t\\t\\t\\t',\n",
       " '\\n\\t\\t\\t\\t\\tEuropean sales 2019-Q3 Limousine segment\\n\\t\\t\\t\\t\\t\\t\\t\\t\\t',\n",
       " '\\n\\t\\t\\t\\t\\tEuropean sales 2019-Q3 Premium Large segment\\n\\t\\t\\t\\t\\t\\t\\t\\t\\t',\n",
       " '\\n\\t\\t\\t\\t\\tEuropean sales 2019-Q3 Premium Midsized segment\\n\\t\\t\\t\\t\\t\\t\\t\\t\\t',\n",
       " '\\n\\t\\t\\t\\t\\tEuropean sales 2019-Q3 Premium Compact segment\\n\\t\\t\\t\\t\\t\\t\\t\\t\\t',\n",
       " '\\n\\t\\t\\t\\t\\tEuropean sales 2019-Q3 large SUV segment\\n\\t\\t\\t\\t\\t\\t\\t\\t\\t',\n",
       " '\\n\\t\\t\\t\\t\\tEuropean sales 2019-Q3 compact & midsized crossover segments\\n\\t\\t\\t\\t\\t\\t\\t\\t\\t',\n",
       " '\\n\\t\\t\\t\\t\\tEuropean sales 2019-Q3 small crossover segment\\n\\t\\t\\t\\t\\t\\t\\t\\t\\t',\n",
       " '\\n\\t\\t\\t\\t\\tEuropean sales 2019-Q3 large MPV segment\\n\\t\\t\\t\\t\\t\\t\\t\\t\\t',\n",
       " '\\n\\t\\t\\t\\t\\tEuropean sales 2019-Q3 midsized MPV segment\\n\\t\\t\\t\\t\\t\\t\\t\\t\\t',\n",
       " 'January 2020',\n",
       " 'December 2019',\n",
       " 'November 2019',\n",
       " 'October 2019',\n",
       " 'September 2019',\n",
       " 'August 2019',\n",
       " 'July 2019',\n",
       " 'June 2019',\n",
       " 'May 2019',\n",
       " 'April 2019',\n",
       " 'March 2019',\n",
       " 'February 2019',\n",
       " 'January 2019',\n",
       " 'December 2018',\n",
       " 'November 2018',\n",
       " 'October 2018',\n",
       " 'September 2018',\n",
       " 'August 2018',\n",
       " 'July 2018',\n",
       " 'June 2018',\n",
       " 'May 2018',\n",
       " 'April 2018',\n",
       " 'March 2018',\n",
       " 'February 2018',\n",
       " 'January 2018',\n",
       " 'December 2017',\n",
       " 'November 2017',\n",
       " 'October 2017',\n",
       " 'September 2017',\n",
       " 'August 2017',\n",
       " 'July 2017',\n",
       " 'June 2017',\n",
       " 'May 2017',\n",
       " 'April 2017',\n",
       " 'March 2017',\n",
       " 'February 2017',\n",
       " 'January 2017',\n",
       " 'December 2016',\n",
       " 'November 2016',\n",
       " 'October 2016',\n",
       " 'September 2016',\n",
       " 'August 2016',\n",
       " 'July 2016',\n",
       " 'June 2016',\n",
       " 'May 2016',\n",
       " 'April 2016',\n",
       " 'March 2016',\n",
       " 'February 2016',\n",
       " 'January 2016',\n",
       " 'December 2015',\n",
       " 'November 2015',\n",
       " 'October 2015',\n",
       " 'September 2015',\n",
       " 'August 2015',\n",
       " 'July 2015',\n",
       " 'June 2015',\n",
       " 'May 2015',\n",
       " 'April 2015',\n",
       " 'March 2015',\n",
       " 'February 2015',\n",
       " 'January 2015',\n",
       " 'December 2014',\n",
       " 'November 2014',\n",
       " 'October 2014',\n",
       " 'September 2014',\n",
       " 'August 2014',\n",
       " 'July 2014',\n",
       " 'June 2014',\n",
       " 'May 2014',\n",
       " 'April 2014',\n",
       " 'March 2014',\n",
       " 'February 2014',\n",
       " 'January 2014',\n",
       " 'December 2013',\n",
       " 'November 2013',\n",
       " 'Auto Shows\\n',\n",
       " 'Car sales China\\n',\n",
       " 'Car sales Europe\\n',\n",
       " 'Car sales US\\n',\n",
       " 'Compact car segment\\n',\n",
       " 'Coupe and convertible segment\\n',\n",
       " 'EV segment\\n',\n",
       " 'Exotic car segment\\n',\n",
       " 'Fun stuff\\n',\n",
       " 'Industry\\n',\n",
       " 'International Street Scenes\\n',\n",
       " 'Large MPV segment\\n',\n",
       " 'Large SUV segment\\n',\n",
       " 'LCV sales\\n',\n",
       " 'Limousine segment\\n',\n",
       " 'Look-a-like\\n',\n",
       " 'Midsized car segment\\n',\n",
       " 'Midsized MPV segment\\n',\n",
       " 'Midsized SUV segment\\n',\n",
       " 'Minicar segment\\n',\n",
       " 'News\\n',\n",
       " 'Opinion\\n',\n",
       " 'Passenger van segment\\n',\n",
       " 'Polls\\n',\n",
       " 'Premium compact car segment\\n',\n",
       " 'Premium large car segment\\n',\n",
       " 'Premium large SUV segment\\n',\n",
       " 'Premium midsized and compact SUV segment\\n',\n",
       " 'Premium midsized car segment\\n',\n",
       " 'Reviews\\n',\n",
       " 'Small MPV segment\\n',\n",
       " 'Small SUV segment\\n',\n",
       " 'Subcompact car segment\\n',\n",
       " 'Uncategorized\\n',\n",
       " 'US Alternative power segment\\n',\n",
       " 'US Commercial van segment\\n',\n",
       " 'US Compact car segment\\n',\n",
       " 'US Compact sports car segment\\n',\n",
       " 'US Compact SUV segment\\n',\n",
       " 'US Exotic car segment\\n',\n",
       " 'US Large car segment\\n',\n",
       " 'US Large sports car segment\\n',\n",
       " 'US Large SUV segment\\n',\n",
       " 'US Limousine segment\\n',\n",
       " 'US Mid-sized car segment\\n',\n",
       " 'US Mid-sized SUV segment\\n',\n",
       " 'US Minicar segment\\n',\n",
       " 'US Minivan segment\\n',\n",
       " 'US Pickup segment\\n',\n",
       " 'US Premium compact car segment\\n',\n",
       " 'US Premium compact SUV segment\\n',\n",
       " 'US Premium large car segment\\n',\n",
       " 'US Premium large SUV segment\\n',\n",
       " 'US Premium mid-sized car segment\\n',\n",
       " 'US Premium mid-sized SUV segment\\n',\n",
       " 'US Small pickup segment\\n',\n",
       " 'US Subcompact car segment\\n',\n",
       " 'US Subcompact SUV segment\\n',\n",
       " 'Bart Demandt ',\n",
       " 'Colman Murphy ',\n",
       " 'Jean-Philippe Launberg ',\n",
       " 'John McHarris ',\n",
       " 'John V. Ryan, PE ',\n",
       " 'Krzysztof Wozniak ',\n",
       " 'Rutger Van der Maar ']"
      ]
     },
     "execution_count": 25,
     "metadata": {},
     "output_type": "execute_result"
    }
   ],
   "source": [
    "todos=[element.text for element in soup.find_all('li')]\n",
    "\n",
    "todos"
   ]
  },
  {
   "cell_type": "markdown",
   "metadata": {},
   "source": [
    "Now we have a clean list of strings, ready for analysis!"
   ]
  },
  {
   "cell_type": "markdown",
   "metadata": {},
   "source": [
    "## Scrape Select Items on a Test Webpage\n",
    "\n",
    "Now on to a more complicated example.  Take a look at `test_webpage/page.html`.  Let's try to grab all of the article links, like the ones for Starbucks and Bitcoin.\n",
    "\n",
    "First get the HTML and then parse it with BeautifulSoup."
   ]
  },
  {
   "cell_type": "code",
   "execution_count": 39,
   "metadata": {
    "ExecuteTime": {
     "end_time": "2019-11-27T22:14:00.081007Z",
     "start_time": "2019-11-27T22:13:59.876Z"
    }
   },
   "outputs": [],
   "source": [
    "#with open('test_webpage/page.html') as page:\n",
    "#test_html = page.read()\n",
    "soup = BeautifulSoup(page, 'lxml')"
   ]
  },
  {
   "cell_type": "markdown",
   "metadata": {},
   "source": [
    "Links show up as `a` tags.  Let's just try to grab all of them."
   ]
  },
  {
   "cell_type": "code",
   "execution_count": 40,
   "metadata": {
    "ExecuteTime": {
     "end_time": "2019-11-27T22:14:00.087609Z",
     "start_time": "2019-11-27T22:13:59.885Z"
    }
   },
   "outputs": [
    {
     "data": {
      "text/plain": [
       "[<a href=\"http://carsalesbase.com/\">carsalesbase.com</a>,\n",
       " <a href=\"http://carsalesbase.com/\"><span>Home</span></a>,\n",
       " <a href=\"http://carsalesbase.com/category/car-sales-europe/car-sales-segments/\"><span>Europe sales</span></a>,\n",
       " <a href=\"http://carsalesbase.com/category/car-sales-europe/car-sales-segments/minicar-segment/\"><span>Minicar segment</span></a>,\n",
       " <a href=\"http://carsalesbase.com/category/car-sales-europe/car-sales-segments/subcompact-segment/\"><span>Subcompact car segment</span></a>,\n",
       " <a href=\"http://carsalesbase.com/category/car-sales-europe/car-sales-segments/compact-segment/\"><span>Compact car segment</span></a>,\n",
       " <a href=\"http://carsalesbase.com/category/car-sales-europe/car-sales-segments/midsize-segment/\"><span>Midsized car segment</span></a>,\n",
       " <a href=\"http://carsalesbase.com/category/car-sales-europe/car-sales-segments/small-mpv-segment/\"><span>Small MPV segment</span></a>,\n",
       " <a href=\"http://carsalesbase.com/category/car-sales-europe/car-sales-segments/midsized-mpv-segment/\"><span>Midsized MPV segment</span></a>,\n",
       " <a href=\"http://carsalesbase.com/category/car-sales-europe/car-sales-segments/large-mpv-segment/\"><span>Large MPV segment</span></a>,\n",
       " <a href=\"http://carsalesbase.com/category/car-sales-europe/car-sales-segments/small-suv-segment/\"><span>Small SUV segment</span></a>,\n",
       " <a href=\"http://carsalesbase.com/category/car-sales-europe/car-sales-segments/midsized-suv-segment/\"><span>Midsized SUV segment</span></a>,\n",
       " <a href=\"http://carsalesbase.com/category/car-sales-europe/car-sales-segments/large-suv-segment/\"><span>Large SUV segment</span></a>,\n",
       " <a href=\"http://carsalesbase.com/category/car-sales-europe/car-sales-segments/ev-segment/\"><span>EV segment</span></a>,\n",
       " <a href=\"http://carsalesbase.com/category/car-sales-europe/car-sales-segments/premium-compact-segment/\"><span>Premium compact car segment</span></a>,\n",
       " <a href=\"http://carsalesbase.com/category/car-sales-europe/car-sales-segments/premium-midsize-segment/\"><span>Premium midsized car segment</span></a>,\n",
       " <a href=\"http://carsalesbase.com/category/car-sales-europe/car-sales-segments/premium-large-car-segment/\"><span>Premium large car segment</span></a>,\n",
       " <a href=\"http://carsalesbase.com/category/car-sales-europe/car-sales-segments/limousine-segment/\"><span>Limousine segment</span></a>,\n",
       " <a href=\"http://carsalesbase.com/category/car-sales-europe/car-sales-segments/premium-compact-suv-segment/\"><span>Premium midsized and compact SUV segment</span></a>,\n",
       " <a href=\"http://carsalesbase.com/category/car-sales-europe/car-sales-segments/premium-large-suv-segment/\"><span>Premium large SUV segment</span></a>,\n",
       " <a href=\"http://carsalesbase.com/category/car-sales-europe/car-sales-segments/coupe-convertible-segment/\"><span>Coupe and Convertible segments</span></a>,\n",
       " <a href=\"http://carsalesbase.com/category/car-sales-europe/car-sales-segments/exotic-car-segment/\"><span>Exotic car segment</span></a>,\n",
       " <a href=\"http://carsalesbase.com/category/car-sales-europe/car-sales-segments/passenger-van-segment/\"><span>Passenger van segment</span></a>,\n",
       " <a href=\"http://carsalesbase.com/category/car-sales-europe/car-sales-segments/lcv-sales/\"><span>LCV sales</span></a>,\n",
       " <a href=\"http://carsalesbase.com/category/car-sales-us/\"><span>US sales</span></a>,\n",
       " <a href=\"http://carsalesbase.com/category/car-sales-us/car-sales-segments-us/minicar-segment-us/\"><span>US Minicar segment</span></a>,\n",
       " <a href=\"http://carsalesbase.com/category/car-sales-us/car-sales-segments-us/subcompact-segment-us/\"><span>US Subcompact car segment</span></a>,\n",
       " <a href=\"http://carsalesbase.com/category/car-sales-us/car-sales-segments-us/compact-segment-us/\"><span>US Compact car segment</span></a>,\n",
       " <a href=\"http://carsalesbase.com/category/car-sales-us/car-sales-segments-us/midsized-segment-us/\"><span>US Mid-sized car segment</span></a>,\n",
       " <a href=\"http://carsalesbase.com/category/car-sales-us/car-sales-segments-us/large-segment-us/\"><span>US Large car segment</span></a>,\n",
       " <a href=\"http://carsalesbase.com/category/car-sales-us/car-sales-segments-us/minivan-segment-us/\"><span>US Minivan segment</span></a>,\n",
       " <a href=\"http://carsalesbase.com/category/car-sales-us/car-sales-segments-us/compact-suv-segment-us/\"><span>US Compact SUV segment</span></a>,\n",
       " <a href=\"http://carsalesbase.com/category/car-sales-us/car-sales-segments-us/subcompact-suv-segment-us/\"><span>US Subcompact SUV segment</span></a>,\n",
       " <a href=\"http://carsalesbase.com/category/car-sales-us/car-sales-segments-us/midsized-suv-segment-us/\"><span>US Mid-sized SUV segment</span></a>,\n",
       " <a href=\"http://carsalesbase.com/category/car-sales-us/car-sales-segments-us/large-suv-segment-us/\"><span>US Large SUV segment</span></a>,\n",
       " <a href=\"http://carsalesbase.com/category/car-sales-us/car-sales-segments-us/small-pickup-segment-us/\"><span>US Small pickup segment</span></a>,\n",
       " <a href=\"http://carsalesbase.com/category/car-sales-us/car-sales-segments-us/pickup-segment-us/\"><span>US Pickup segment</span></a>,\n",
       " <a href=\"http://carsalesbase.com/category/car-sales-us/car-sales-segments-us/premium-compact-segment-us/\"><span>US Premium compact car segment</span></a>,\n",
       " <a href=\"http://carsalesbase.com/category/car-sales-us/car-sales-segments-us/premium-midsized-segment-us/\"><span>US Premium mid-sized car segment</span></a>,\n",
       " <a href=\"http://carsalesbase.com/category/car-sales-us/car-sales-segments-us/premium-large-segment-us/\"><span>US Premium large car segment</span></a>,\n",
       " <a href=\"http://carsalesbase.com/category/car-sales-us/car-sales-segments-us/limousine-segment-us/\"><span>US Limousine segment</span></a>,\n",
       " <a href=\"http://carsalesbase.com/category/car-sales-us/car-sales-segments-us/premium-compact-suv-segment-us/\"><span>US Premium compact SUV segment</span></a>,\n",
       " <a href=\"http://carsalesbase.com/category/car-sales-us/car-sales-segments-us/premium-midsized-suv-segment-us/\"><span>US Premium mid-sized SUV segment</span></a>,\n",
       " <a href=\"http://carsalesbase.com/category/car-sales-us/car-sales-segments-us/premium-large-suv-segment-us/\"><span>US Premium large SUV segment</span></a>,\n",
       " <a href=\"http://carsalesbase.com/category/car-sales-us/car-sales-segments-us/commercial-van-segment-us/\"><span>US Commercial van segment</span></a>,\n",
       " <a href=\"http://carsalesbase.com/category/car-sales-us/car-sales-segments-us/ev-segment-us/\"><span>EV &amp; PHEV segment</span></a>,\n",
       " <a href=\"http://carsalesbase.com/category/car-sales-us/car-sales-segments-us/compact-sportscar-segment-us/\"><span>Sports Car Compact segment</span></a>,\n",
       " <a href=\"http://carsalesbase.com/category/car-sales-us/car-sales-segments-us/large-sportscar-segment-us/\"><span>Sports Car Large segment</span></a>,\n",
       " <a href=\"http://carsalesbase.com/category/car-sales-us/car-sales-segments-us/exotic-car-segment-us/\"><span>US Exotic car segment</span></a>,\n",
       " <a href=\"http://carsalesbase.com/china-car-sales-data/\"><span>China sales</span></a>,\n",
       " <a href=\"http://carsalesbase.com/category/car-sales-china/\"><span>China monthly reports</span></a>,\n",
       " <a href=\"http://carsalesbase.com/total-market-sales-country/\"><span>Countries</span></a>,\n",
       " <a href=\"http://carsalesbase.com/car-sales-comparison/\"><span>Comparison tool</span></a>,\n",
       " <a href=\"http://carsalesbase.com/category/fun-stuff/\"><span>Fun stuff</span></a>,\n",
       " <a href=\"http://carsalesbase.com/category/fun-stuff/polls/\"><span>Polls</span></a>,\n",
       " <a href=\"http://carsalesbase.com/category/fun-stuff/lookalike/\"><span>Look-a-like</span></a>,\n",
       " <a href=\"http://carsalesbase.com/category/opinion/\"><span>Opinion</span></a>,\n",
       " <a href=\"http://carsalesbase.com/category/industry/\"><span>Industry</span></a>,\n",
       " <a href=\"http://carsalesbase.com/category/news/\"><span>News</span></a>,\n",
       " <a href=\"http://carsalesbase.com/about/\"><span>About</span></a>,\n",
       " <a href=\"http://carsalesbase.com/\">Home</a>,\n",
       " <a class=\"entry-author-link\" href=\"http://carsalesbase.com/author/leftlane/\" rel=\"author\"><span class=\"entry-author-name\">Bart Demandt</span></a>,\n",
       " <a href=\"http://carsalesbase.com/us-sales-2019-compact-cars/#respond\">Leave a Comment</a>,\n",
       " <a class=\"sr-twitter-button twitter-share-button\" data-count=\"horizontal\" data-text=\"US sales analysis 2019 – Compact cars\" data-url=\"http://carsalesbase.com/us-sales-2019-compact-cars/\" href=\"http://twitter.com/share\" lang=\"en\" rel=\"nofollow\"></a>,\n",
       " <a href=\"https://www.facebook.com/sharer/sharer.php?s=100&amp;p[url]=http://carsalesbase.com/us-sales-2019-compact-cars/\" onclick=\"window.open('https://www.facebook.com/sharer/sharer.php?s=100&amp;p[url]=http://carsalesbase.com/us-sales-2019-compact-cars/', 'newwindow', 'width=600, height=450'); return false;\" target=\"_blank\">\n",
       " <img alt=\"Share\" src=\"http://carsalesbase.com/wp-content/plugins/wordpress-social-ring/includes/../admin/images/sr-fb-share.png\" style=\"display:block; background: none; padding: 0px; border:0px;\"/>\n",
       " </a>,\n",
       " <a class=\"pin-it-button\" count-layout=\"horizontal\" href=\"http://pinterest.com/pin/create/button/?url=http%3A%2F%2Fcarsalesbase.com%2Fus-sales-2019-compact-cars%2F&amp;media=http%3A%2F%2Fcarsalesbase.com%2Fwp-content%2Fuploads%2F2020%2F01%2FUS-car_sales-compact_car-segment-Honda_Civic-Toyota_Corolla-Nissan_Sentra.jpg&amp;description=US+sales+analysis+2019+%E2%80%93+Compact+cars\" rel=\"nofollow\"></a>,\n",
       " <a href=\"http://carsalesbase.com/european-car-sales-data/Honda/Honda-Civic/\" title=\"Honda Civic\">Honda Civic</a>,\n",
       " <a href=\"http://carsalesbase.com/european-car-sales-data/Toyota/Toyota-Corolla/\" title=\"Toyota Corolla\">Toyota Corolla</a>,\n",
       " <a href=\"http://carsalesbase.com/european-car-sales-data/Hyundai/Hyundai-elantra/\" title=\"Hyundai Elantra\">Hyundai Elantra</a>,\n",
       " <a href=\"http://carsalesbase.com/european-car-sales-data/Ford/Ford-Focus/\" title=\"Ford Focus\">Ford Focus</a>,\n",
       " <a href=\"http://carsalesbase.com/european-car-sales-data/Chevrolet/Chevrolet-Cruze/\" title=\"Chevrolet Cruze\">Chevrolet Cruze</a>,\n",
       " <a href=\"http://carsalesbase.com/european-car-sales-data/Toyota/Toyota-Prius/\" title=\"Toyota Prius\">Toyota Prius</a>,\n",
       " <a href=\"http://carsalesbase.com/european-car-sales-data/Mazda/Mazda3/\" title=\"Mazda3\">Mazda3</a>,\n",
       " <a href=\"http://carsalesbase.com/european-car-sales-data/Volkswagen/Volkswagen-Golf/\" title=\"Volkswagen Golf\">Volkswagen Golf</a>,\n",
       " <a href=\"http://carsalesbase.com/european-car-sales-data/Nissan/Nissan-Leaf/\" title=\"Nissan Leaf\">Nissan Leaf</a>,\n",
       " <a href=\"http://carsalesbase.com/european-car-sales-data/Honda/Honda-Insight/\" title=\"Honda Insight\">Honda Insight</a>,\n",
       " <a href=\"http://carsalesbase.com/european-car-sales-data/Hyundai/Hyundai-ioniq/\" title=\"Hyundai Ioniq\">Hyundai Ioniq</a>,\n",
       " <a href=\"http://carsalesbase.com/european-car-sales-data/Nissan/Nissan-Leaf/\" title=\"Nissan Leaf\">Nissan Leaf</a>,\n",
       " <a href=\"http://carsalesbase.com/european-car-sales-data/BMW/BMW-i3/\" title=\"BMW i3\">BMW i3</a>,\n",
       " <a href=\"http://carsalesbase.com/european-car-sales-data/Mercedes-Benz/Mercedes-Benz-A-Class/\" title=\"Mercedes-Benz A-Class\">Mercedes-Benz A-Class</a>,\n",
       " <a href=\"http://carsalesbase.com/european-car-sales-data/Audi/Audi-A3/\" title=\"Audi A3\">Audi A3</a>,\n",
       " <a href=\"http://carsalesbase.com/car-sales-europe/car-sales-segments/compact-segment/\" title=\"Compact segment\">Compact segment</a>,\n",
       " <a href=\"http://carsalesbase.com/european-car-sales-data/Honda/Honda-Civic/\" title=\"Honda Civic\">Honda Civic</a>,\n",
       " <a href=\"http://carsalesbase.com/european-car-sales-data/Toyota/Toyota-Corolla/\" title=\"Toyota Corolla\">Toyota Corolla</a>,\n",
       " <a href=\"http://carsalesbase.com/european-car-sales-data/Hyundai/Hyundai-elantra/\" title=\"Hyundai Elantra\">Hyundai Elantra</a>,\n",
       " <a href=\"http://carsalesbase.com/european-car-sales-data/Volkswagen/Volkswagen-Jetta/\" title=\"Volkswagen Jetta\">Volkswagen Jetta</a>,\n",
       " <a href=\"http://carsalesbase.com/european-car-sales-data/Toyota/Toyota-Prius/\" title=\"Toyota Prius\">Toyota Prius</a>,\n",
       " <a href=\"http://carsalesbase.com/european-car-sales-data/Subaru/Subaru-Impreza/\" title=\"Subaru Impreza\">Subaru Impreza</a>,\n",
       " <a href=\"http://carsalesbase.com/european-car-sales-data/Mazda/Mazda3/\" title=\"Mazda3\">Mazda3</a>,\n",
       " <a href=\"http://carsalesbase.com/european-car-sales-data/Chevrolet/Chevrolet-Cruze/\" title=\"Chevrolet Cruze\">Chevrolet Cruze</a>,\n",
       " <a href=\"http://carsalesbase.com/european-car-sales-data/Volkswagen/Volkswagen-Golf/\" title=\"Volkswagen Golf\">Volkswagen Golf</a>,\n",
       " <a href=\"http://carsalesbase.com/european-car-sales-data/Honda/Honda-Insight/\" title=\"Honda Insight\">Honda Insight</a>,\n",
       " <a href=\"http://carsalesbase.com/european-car-sales-data/Hyundai/Hyundai-ioniq/\" title=\"Hyundai Ioniq\">Hyundai Ioniq</a>,\n",
       " <a href=\"http://carsalesbase.com/european-car-sales-data/Mercedes-Benz/Mercedes-Benz-A-Class/\" title=\"Mercedes-Benz A-Class\">Mercedes-Benz A-Class</a>,\n",
       " <a href=\"http://carsalesbase.com/european-car-sales-data/Volkswagen/Volkswagen-Beetle/\" title=\"Volkswagen Beetle\">Volkswagen Beetle</a>,\n",
       " <a href=\"http://carsalesbase.com/european-car-sales-data/Ford/Ford-Focus/\" title=\"Ford Focus\">Ford Focus</a>,\n",
       " <a href=\"http://carsalesbase.com/european-car-sales-data/Mercedes-Benz/Mercedes-Benz-CLA/\" title=\"Mercedes-Benz CLA\">Mercedes-Benz CLA</a>,\n",
       " <a href=\"http://carsalesbase.com/european-car-sales-data/Audi/Audi-A3/\" title=\"Audi A3\">Audi A3</a>,\n",
       " <a href=\"http://carsalesbase.com/european-car-sales-data/Chevrolet/Chevrolet-Volt/\" title=\"Chevrolet Volt\">Chevrolet Volt</a>,\n",
       " <a href=\"http://carsalesbase.com/european-car-sales-data/BMW/BMW-i3/\" title=\"BMW i3\">BMW i3</a>,\n",
       " <a href=\"http://carsalesbase.com/european-car-sales-data/Mini/Mini-Clubman/\" title=\"Mini Clubman\">Mini Clubman</a>,\n",
       " <a href=\"http://carsalesbase.com/european-car-sales-data/Fiat/Fiat-500L/\" title=\"Fiat 500L\">Fiat 500L</a>,\n",
       " <a href=\"http://carsalesbase.com/european-car-sales-data/Ford/Ford-CMax/\" title=\"Ford C-Max\">Ford C-Max</a>,\n",
       " <a href=\"http://carsalesbase.com/european-car-sales-data/Mercedes-Benz/Mercedes-Benz-B-Class/\" title=\"Mercedes-Benz B-class\">Mercedes-Benz B-class</a>,\n",
       " <a class=\"twitter-share-button\" data-text=\"US sales analysis 2019 – Compact cars\" data-url=\"http://carsalesbase.com/us-sales-2019-compact-cars/\" data-via=\"carsalesbase\" href=\"https://twitter.com/share\">Tweet</a>,\n",
       " <a data-pin-config=\"beside\" data-pin-do=\"buttonPin\" href=\"https://www.pinterest.com/pin/create/button/?url=http%3A%2F%2Fcarsalesbase.com%2Fus-sales-2019-compact-cars%2F&amp;media=http%3A%2F%2Fcarsalesbase.com%2Fwp-content%2Fuploads%2F2020%2F01%2FUS-car_sales-compact_car-segment-Honda_Civic-Toyota_Corolla-Nissan_Sentra.jpg&amp;description=US%20sales%20analysis%202019%20%E2%80%93%20Compact%20cars\"><img alt=\"\" src=\"//assets.pinterest.com/images/pidgets/pinit_fg_en_rect_gray_20.png\" title=\"\"/></a>,\n",
       " <a href=\"http://carsalesbase.com/category/car-sales-us/car-sales-segments-us/compact-segment-us/\" rel=\"category tag\">US Compact car segment</a>,\n",
       " <a href=\"http://carsalesbase.com/category/car-sales-us/car-sales-segments-us/premium-compact-segment-us/\" rel=\"category tag\">US Premium compact car segment</a>,\n",
       " <a href=\"http://carsalesbase.com/tag/2019/\" rel=\"tag\">2019</a>,\n",
       " <a href=\"http://carsalesbase.com/tag/acura-ilx/\" rel=\"tag\">Acura ILX</a>,\n",
       " <a href=\"http://carsalesbase.com/tag/audi-a3/\" rel=\"tag\">Audi A3</a>,\n",
       " <a href=\"http://carsalesbase.com/tag/bmw-2-series/\" rel=\"tag\">BMW 2-series</a>,\n",
       " <a href=\"http://carsalesbase.com/tag/bmw-i3/\" rel=\"tag\">bmw i3</a>,\n",
       " <a href=\"http://carsalesbase.com/tag/chevrolet-bolt-ev/\" rel=\"tag\">Chevrolet Bolt EV</a>,\n",
       " <a href=\"http://carsalesbase.com/tag/chevrolet-cruze/\" rel=\"tag\">Chevrolet Cruze</a>,\n",
       " <a href=\"http://carsalesbase.com/tag/chevrolet-volt/\" rel=\"tag\">chevrolet volt</a>,\n",
       " <a href=\"http://carsalesbase.com/tag/compact/\" rel=\"tag\">compact</a>,\n",
       " <a href=\"http://carsalesbase.com/tag/fiat-500l/\" rel=\"tag\">Fiat 500L</a>,\n",
       " <a href=\"http://carsalesbase.com/tag/ford-focus/\" rel=\"tag\">Ford Focus</a>,\n",
       " <a href=\"http://carsalesbase.com/tag/honda-civic/\" rel=\"tag\">Honda Civic</a>,\n",
       " <a href=\"http://carsalesbase.com/tag/hyundai-elantra/\" rel=\"tag\">Hyundai Elantra</a>,\n",
       " <a href=\"http://carsalesbase.com/tag/hyundai-ioniq/\" rel=\"tag\">Hyundai Ioniq</a>,\n",
       " <a href=\"http://carsalesbase.com/tag/kia-forte/\" rel=\"tag\">kia forte</a>,\n",
       " <a href=\"http://carsalesbase.com/tag/lexus-ct/\" rel=\"tag\">Lexus CT</a>,\n",
       " <a href=\"http://carsalesbase.com/tag/mazda3/\" rel=\"tag\">mazda3</a>,\n",
       " <a href=\"http://carsalesbase.com/tag/mercedes-benz-a-class/\" rel=\"tag\">Mercedes-Benz A-Class</a>,\n",
       " <a href=\"http://carsalesbase.com/tag/mercedes-benz-cla/\" rel=\"tag\">Mercedes-Benz CLA</a>,\n",
       " <a href=\"http://carsalesbase.com/tag/mini-clubman/\" rel=\"tag\">Mini Clubman</a>,\n",
       " <a href=\"http://carsalesbase.com/tag/mitsubishi-lancer/\" rel=\"tag\">Mitsubishi Lancer</a>,\n",
       " <a href=\"http://carsalesbase.com/tag/nissan-leaf/\" rel=\"tag\">nissan leaf</a>,\n",
       " <a href=\"http://carsalesbase.com/tag/nissan-sentra/\" rel=\"tag\">nissan sentra</a>,\n",
       " <a href=\"http://carsalesbase.com/tag/sales/\" rel=\"tag\">sales</a>,\n",
       " <a href=\"http://carsalesbase.com/tag/subaru-impreza/\" rel=\"tag\">Subaru Impreza</a>,\n",
       " <a href=\"http://carsalesbase.com/tag/toyota-corolla/\" rel=\"tag\">Toyota Corolla</a>,\n",
       " <a href=\"http://carsalesbase.com/tag/toyota-corolla-hatchback/\" rel=\"tag\">Toyota Corolla hatchback</a>,\n",
       " <a href=\"http://carsalesbase.com/tag/toyota-mirai/\" rel=\"tag\">toyota mirai</a>,\n",
       " <a href=\"http://carsalesbase.com/tag/toyota-prius/\" rel=\"tag\">Toyota Prius</a>,\n",
       " <a href=\"http://carsalesbase.com/tag/us/\" rel=\"tag\">US</a>,\n",
       " <a href=\"http://carsalesbase.com/tag/vw-beetle/\" rel=\"tag\">vw beetle</a>,\n",
       " <a href=\"http://carsalesbase.com/tag/vw-golf/\" rel=\"tag\">vw golf</a>,\n",
       " <a href=\"http://carsalesbase.com/tag/vw-jetta/\" rel=\"tag\">vw jetta</a>,\n",
       " <a href=\"http://left-lane.com/author/leftlane/\">Here</a>,\n",
       " <a href=\"/us-sales-2019-compact-cars/#respond\" id=\"cancel-comment-reply-link\" rel=\"nofollow\" style=\"display:none;\">Cancel reply</a>,\n",
       " <a href=\"http://carsalesbase.com/car-sales-comparison\"><img alt=\"\" class=\"aligncenter size-medium wp-image-48070\" src=\"http://carsalesbase.com/wp-content/uploads/2017/12/Screen-Shot-2017-12-30-at-11.47.36-PM-1-400x205.png\" width=\"290\"/></a>,\n",
       " <a aria-current=\"page\" href=\"http://carsalesbase.com/us-sales-2019-compact-cars/\">US sales analysis 2019 – Compact cars</a>,\n",
       " <a href=\"http://carsalesbase.com/us-car-sales-analysis-2019-subcompact-cars/\">US car sales analysis 2019 – Subcompact cars</a>,\n",
       " <a href=\"http://carsalesbase.com/us-car-sales-analysis-2019-minicars/\">US car sales analysis 2019 – Minicars</a>,\n",
       " <a href=\"http://carsalesbase.com/china-car-sales-analysis-2019-models/\">China car sales analysis 2019 – models</a>,\n",
       " <a href=\"http://carsalesbase.com/china-car-sales-analysis-2019-brands/\">China car sales analysis 2019 – brands</a>,\n",
       " <a href=\"http://carsalesbase.com/us-car-sales-analysis-2019-brands/\">US car sales analysis 2019 – brands</a>,\n",
       " <a href=\"http://carsalesbase.com/european-car-sales-analysis-november-2019/\">European car sales analysis November 2019</a>,\n",
       " <a href=\"http://carsalesbase.com/european-car-sales-analysis-october-2019/\">European car sales analysis October 2019</a>,\n",
       " <a href=\"http://carsalesbase.com/european-sales-2019-q3-ev-phev-segments/\">European sales 2019-Q3 EV and PHEV segments</a>,\n",
       " <a href=\"http://carsalesbase.com/european-sales-2019-q3-premium-large-suv-segment/\">European sales 2019-Q3 Premium Large SUV segment</a>,\n",
       " <a href=\"http://carsalesbase.com/european-sales-2019-q3-premium-midsized-compact-suv-segments/\">European sales 2019-Q3 Premium Midsized and Compact SUV segments</a>,\n",
       " <a href=\"http://carsalesbase.com/european-sales-2019-q3-limousine-segment/\">European sales 2019-Q3 Limousine segment</a>,\n",
       " <a href=\"http://carsalesbase.com/european-sales-2019-q3-premium-large-segment/\">European sales 2019-Q3 Premium Large segment</a>,\n",
       " <a href=\"http://carsalesbase.com/european-sales-2019-q3-premium-midsized-segment/\">European sales 2019-Q3 Premium Midsized segment</a>,\n",
       " <a href=\"http://carsalesbase.com/european-sales-2019-q3-premium-compact-segment/\">European sales 2019-Q3 Premium Compact segment</a>,\n",
       " <a href=\"http://carsalesbase.com/european-sales-2019-q3-large-suv-segment/\">European sales 2019-Q3 large SUV segment</a>,\n",
       " <a href=\"http://carsalesbase.com/european-sales-2019-q3-compact-midsized-crossover-segments/\">European sales 2019-Q3 compact &amp; midsized crossover segments</a>,\n",
       " <a href=\"http://carsalesbase.com/european-sales-2019-q3-small-crossover-segment/\">European sales 2019-Q3 small crossover segment</a>,\n",
       " <a href=\"http://carsalesbase.com/european-sales-2019-q3-large-mpv-segment/\">European sales 2019-Q3 large MPV segment</a>,\n",
       " <a href=\"http://carsalesbase.com/european-sales-2019-q3-midsized-mpv-segment/\">European sales 2019-Q3 midsized MPV segment</a>,\n",
       " <a href=\"https://www.facebook.com/carsalesbase\">Follow Carsalesbase.com</a>,\n",
       " <a href=\"https://www.facebook.com/carsalesbase\">Follow Carsalesbase.com</a>,\n",
       " <a href=\"http://carsalesbase.com/2020/01/\">January 2020</a>,\n",
       " <a href=\"http://carsalesbase.com/2019/12/\">December 2019</a>,\n",
       " <a href=\"http://carsalesbase.com/2019/11/\">November 2019</a>,\n",
       " <a href=\"http://carsalesbase.com/2019/10/\">October 2019</a>,\n",
       " <a href=\"http://carsalesbase.com/2019/09/\">September 2019</a>,\n",
       " <a href=\"http://carsalesbase.com/2019/08/\">August 2019</a>,\n",
       " <a href=\"http://carsalesbase.com/2019/07/\">July 2019</a>,\n",
       " <a href=\"http://carsalesbase.com/2019/06/\">June 2019</a>,\n",
       " <a href=\"http://carsalesbase.com/2019/05/\">May 2019</a>,\n",
       " <a href=\"http://carsalesbase.com/2019/04/\">April 2019</a>,\n",
       " <a href=\"http://carsalesbase.com/2019/03/\">March 2019</a>,\n",
       " <a href=\"http://carsalesbase.com/2019/02/\">February 2019</a>,\n",
       " <a href=\"http://carsalesbase.com/2019/01/\">January 2019</a>,\n",
       " <a href=\"http://carsalesbase.com/2018/12/\">December 2018</a>,\n",
       " <a href=\"http://carsalesbase.com/2018/11/\">November 2018</a>,\n",
       " <a href=\"http://carsalesbase.com/2018/10/\">October 2018</a>,\n",
       " <a href=\"http://carsalesbase.com/2018/09/\">September 2018</a>,\n",
       " <a href=\"http://carsalesbase.com/2018/08/\">August 2018</a>,\n",
       " <a href=\"http://carsalesbase.com/2018/07/\">July 2018</a>,\n",
       " <a href=\"http://carsalesbase.com/2018/06/\">June 2018</a>,\n",
       " <a href=\"http://carsalesbase.com/2018/05/\">May 2018</a>,\n",
       " <a href=\"http://carsalesbase.com/2018/04/\">April 2018</a>,\n",
       " <a href=\"http://carsalesbase.com/2018/03/\">March 2018</a>,\n",
       " <a href=\"http://carsalesbase.com/2018/02/\">February 2018</a>,\n",
       " <a href=\"http://carsalesbase.com/2018/01/\">January 2018</a>,\n",
       " <a href=\"http://carsalesbase.com/2017/12/\">December 2017</a>,\n",
       " <a href=\"http://carsalesbase.com/2017/11/\">November 2017</a>,\n",
       " <a href=\"http://carsalesbase.com/2017/10/\">October 2017</a>,\n",
       " <a href=\"http://carsalesbase.com/2017/09/\">September 2017</a>,\n",
       " <a href=\"http://carsalesbase.com/2017/08/\">August 2017</a>,\n",
       " <a href=\"http://carsalesbase.com/2017/07/\">July 2017</a>,\n",
       " <a href=\"http://carsalesbase.com/2017/06/\">June 2017</a>,\n",
       " <a href=\"http://carsalesbase.com/2017/05/\">May 2017</a>,\n",
       " <a href=\"http://carsalesbase.com/2017/04/\">April 2017</a>,\n",
       " <a href=\"http://carsalesbase.com/2017/03/\">March 2017</a>,\n",
       " <a href=\"http://carsalesbase.com/2017/02/\">February 2017</a>,\n",
       " <a href=\"http://carsalesbase.com/2017/01/\">January 2017</a>,\n",
       " <a href=\"http://carsalesbase.com/2016/12/\">December 2016</a>,\n",
       " <a href=\"http://carsalesbase.com/2016/11/\">November 2016</a>,\n",
       " <a href=\"http://carsalesbase.com/2016/10/\">October 2016</a>,\n",
       " <a href=\"http://carsalesbase.com/2016/09/\">September 2016</a>,\n",
       " <a href=\"http://carsalesbase.com/2016/08/\">August 2016</a>,\n",
       " <a href=\"http://carsalesbase.com/2016/07/\">July 2016</a>,\n",
       " <a href=\"http://carsalesbase.com/2016/06/\">June 2016</a>,\n",
       " <a href=\"http://carsalesbase.com/2016/05/\">May 2016</a>,\n",
       " <a href=\"http://carsalesbase.com/2016/04/\">April 2016</a>,\n",
       " <a href=\"http://carsalesbase.com/2016/03/\">March 2016</a>,\n",
       " <a href=\"http://carsalesbase.com/2016/02/\">February 2016</a>,\n",
       " <a href=\"http://carsalesbase.com/2016/01/\">January 2016</a>,\n",
       " <a href=\"http://carsalesbase.com/2015/12/\">December 2015</a>,\n",
       " <a href=\"http://carsalesbase.com/2015/11/\">November 2015</a>,\n",
       " <a href=\"http://carsalesbase.com/2015/10/\">October 2015</a>,\n",
       " <a href=\"http://carsalesbase.com/2015/09/\">September 2015</a>,\n",
       " <a href=\"http://carsalesbase.com/2015/08/\">August 2015</a>,\n",
       " <a href=\"http://carsalesbase.com/2015/07/\">July 2015</a>,\n",
       " <a href=\"http://carsalesbase.com/2015/06/\">June 2015</a>,\n",
       " <a href=\"http://carsalesbase.com/2015/05/\">May 2015</a>,\n",
       " <a href=\"http://carsalesbase.com/2015/04/\">April 2015</a>,\n",
       " <a href=\"http://carsalesbase.com/2015/03/\">March 2015</a>,\n",
       " <a href=\"http://carsalesbase.com/2015/02/\">February 2015</a>,\n",
       " <a href=\"http://carsalesbase.com/2015/01/\">January 2015</a>,\n",
       " <a href=\"http://carsalesbase.com/2014/12/\">December 2014</a>,\n",
       " <a href=\"http://carsalesbase.com/2014/11/\">November 2014</a>,\n",
       " <a href=\"http://carsalesbase.com/2014/10/\">October 2014</a>,\n",
       " <a href=\"http://carsalesbase.com/2014/09/\">September 2014</a>,\n",
       " <a href=\"http://carsalesbase.com/2014/08/\">August 2014</a>,\n",
       " <a href=\"http://carsalesbase.com/2014/07/\">July 2014</a>,\n",
       " <a href=\"http://carsalesbase.com/2014/06/\">June 2014</a>,\n",
       " <a href=\"http://carsalesbase.com/2014/05/\">May 2014</a>,\n",
       " <a href=\"http://carsalesbase.com/2014/04/\">April 2014</a>,\n",
       " <a href=\"http://carsalesbase.com/2014/03/\">March 2014</a>,\n",
       " <a href=\"http://carsalesbase.com/2014/02/\">February 2014</a>,\n",
       " <a href=\"http://carsalesbase.com/2014/01/\">January 2014</a>,\n",
       " <a href=\"http://carsalesbase.com/2013/12/\">December 2013</a>,\n",
       " <a href=\"http://carsalesbase.com/2013/11/\">November 2013</a>,\n",
       " <a href=\"http://carsalesbase.com/category/auto-shows/\">Auto Shows</a>,\n",
       " <a href=\"http://carsalesbase.com/category/car-sales-china/\">Car sales China</a>,\n",
       " <a href=\"http://carsalesbase.com/category/car-sales-europe/\">Car sales Europe</a>,\n",
       " <a href=\"http://carsalesbase.com/category/car-sales-us/\">Car sales US</a>,\n",
       " <a href=\"http://carsalesbase.com/category/car-sales-europe/car-sales-segments/compact-segment/\" title=\"Car sales statistics for the compact car segment in Europe, updated every quarter.\">Compact car segment</a>,\n",
       " <a href=\"http://carsalesbase.com/category/car-sales-europe/car-sales-segments/coupe-convertible-segment/\" title=\"Car sales statistics for the coupe and convertible segments in Europe, updated every half year.\">Coupe and convertible segment</a>,\n",
       " <a href=\"http://carsalesbase.com/category/car-sales-europe/car-sales-segments/ev-segment/\" title=\"Car sales statistics for Electric Vehicles in Europe, updated every half.\">EV segment</a>,\n",
       " <a href=\"http://carsalesbase.com/category/car-sales-europe/car-sales-segments/exotic-car-segment/\" title=\"Car sales statistics for the exotic car segment in Europe, updated every quarter.\">Exotic car segment</a>,\n",
       " <a href=\"http://carsalesbase.com/category/fun-stuff/\">Fun stuff</a>,\n",
       " <a href=\"http://carsalesbase.com/category/industry/\">Industry</a>,\n",
       " <a href=\"http://carsalesbase.com/category/street-scenes/\">International Street Scenes</a>,\n",
       " <a href=\"http://carsalesbase.com/category/car-sales-europe/car-sales-segments/large-mpv-segment/\" title=\"Car sales statistics for the large MPV segment segment in Europe, updated every quarter.\">Large MPV segment</a>,\n",
       " <a href=\"http://carsalesbase.com/category/car-sales-europe/car-sales-segments/large-suv-segment/\" title=\"Car sales statistics for the large SUV / crossover segment in Europe, updated every quarter.\">Large SUV segment</a>,\n",
       " <a href=\"http://carsalesbase.com/category/car-sales-europe/car-sales-segments/lcv-sales/\" title=\"Car sales statistics for light commercial vehicles in Europe, updated every year.\">LCV sales</a>,\n",
       " <a href=\"http://carsalesbase.com/category/car-sales-europe/car-sales-segments/limousine-segment/\" title=\"Car sales statistics for the limousine segment in Europe, updated every quarter.\">Limousine segment</a>,\n",
       " <a href=\"http://carsalesbase.com/category/fun-stuff/lookalike/\">Look-a-like</a>,\n",
       " <a href=\"http://carsalesbase.com/category/car-sales-europe/car-sales-segments/midsize-segment/\" title=\"Car sales statistics for the midsized car segment in Europe, updated every quarter.\">Midsized car segment</a>,\n",
       " <a href=\"http://carsalesbase.com/category/car-sales-europe/car-sales-segments/midsized-mpv-segment/\" title=\"Car sales statistics for the midsized MPV segment segment in Europe, updated every quarter.\">Midsized MPV segment</a>,\n",
       " <a href=\"http://carsalesbase.com/category/car-sales-europe/car-sales-segments/midsized-suv-segment/\" title=\"Car sales statistics for the midsized SUV / crossover segment segment in Europe, updated every quarter.\">Midsized SUV segment</a>,\n",
       " <a href=\"http://carsalesbase.com/category/car-sales-europe/car-sales-segments/minicar-segment/\" title=\"Car sales statistics for the minicar segment in Europe, updated every quarter.\">Minicar segment</a>,\n",
       " <a href=\"http://carsalesbase.com/category/news/\">News</a>,\n",
       " <a href=\"http://carsalesbase.com/category/opinion/\">Opinion</a>,\n",
       " <a href=\"http://carsalesbase.com/category/car-sales-europe/car-sales-segments/passenger-van-segment/\" title=\"Car sales statistics for the passenger van segment segment in Europe, updated every quarter.\">Passenger van segment</a>,\n",
       " <a href=\"http://carsalesbase.com/category/fun-stuff/polls/\">Polls</a>,\n",
       " <a href=\"http://carsalesbase.com/category/car-sales-europe/car-sales-segments/premium-compact-segment/\" title=\"Car sales statistics for the premium compact car segment in Europe, updated every quarter.\">Premium compact car segment</a>,\n",
       " <a href=\"http://carsalesbase.com/category/car-sales-europe/car-sales-segments/premium-large-car-segment/\" title=\"Car sales statistics for the premium large car segment in Europe, updated every quarter.\">Premium large car segment</a>,\n",
       " <a href=\"http://carsalesbase.com/category/car-sales-europe/car-sales-segments/premium-large-suv-segment/\" title=\"Car sales statistics for the premium large SUV / crossover segment in Europe, updated every quarter.\">Premium large SUV segment</a>,\n",
       " <a href=\"http://carsalesbase.com/category/car-sales-europe/car-sales-segments/premium-compact-suv-segment/\" title=\"Car sales statistics for the premium midsized and compact SUV / crossover segment in Europe, updated every quarter.\">Premium midsized and compact SUV segment</a>,\n",
       " <a href=\"http://carsalesbase.com/category/car-sales-europe/car-sales-segments/premium-midsize-segment/\" title=\"Car sales statistics for the premium midsized car segment in Europe, updated every quarter.\">Premium midsized car segment</a>,\n",
       " <a href=\"http://carsalesbase.com/category/reviews/\">Reviews</a>,\n",
       " <a href=\"http://carsalesbase.com/category/car-sales-europe/car-sales-segments/small-mpv-segment/\" title=\"Car sales statistics for the small MPV segment in Europe, updated every quarter.\">Small MPV segment</a>,\n",
       " <a href=\"http://carsalesbase.com/category/car-sales-europe/car-sales-segments/small-suv-segment/\" title=\"Car sales statistics for the small SUV / crossover segment segment in Europe, updated every quarter.\">Small SUV segment</a>,\n",
       " <a href=\"http://carsalesbase.com/category/car-sales-europe/car-sales-segments/subcompact-segment/\" title=\"Car sales statistics for the subcompact car segment in Europe, updated every quarter.\">Subcompact car segment</a>,\n",
       " <a href=\"http://carsalesbase.com/category/uncategorized/\">Uncategorized</a>,\n",
       " <a href=\"http://carsalesbase.com/category/car-sales-us/car-sales-segments-us/ev-segment-us/\" title=\"Car sales statistics for the EV and alternative power car segment in the US, updated every quarter.\">US Alternative power segment</a>,\n",
       " <a href=\"http://carsalesbase.com/category/car-sales-us/car-sales-segments-us/commercial-van-segment-us/\" title=\"Car sales statistics for the commercial van segment in the US, updated every quarter.\">US Commercial van segment</a>,\n",
       " <a href=\"http://carsalesbase.com/category/car-sales-us/car-sales-segments-us/compact-segment-us/\" title=\"Car sales statistics for the compact car segment in the US, updated every quarter.\">US Compact car segment</a>,\n",
       " <a href=\"http://carsalesbase.com/category/car-sales-us/car-sales-segments-us/compact-sportscar-segment-us/\" title=\"Car sales statistics for the compact sports car segment in the US, updated every quarter.\">US Compact sports car segment</a>,\n",
       " <a href=\"http://carsalesbase.com/category/car-sales-us/car-sales-segments-us/compact-suv-segment-us/\" title=\"Car sales statistics for the compact SUV / crossover segment in the US, updated every quarter.\">US Compact SUV segment</a>,\n",
       " <a href=\"http://carsalesbase.com/category/car-sales-us/car-sales-segments-us/exotic-car-segment-us/\" title=\"Car sales statistics for the exotic car segment in the US, updated every quarter.\">US Exotic car segment</a>,\n",
       " <a href=\"http://carsalesbase.com/category/car-sales-us/car-sales-segments-us/large-segment-us/\" title=\"Car sales statistics for the large car segment in the US, updated every quarter.\">US Large car segment</a>,\n",
       " <a href=\"http://carsalesbase.com/category/car-sales-us/car-sales-segments-us/large-sportscar-segment-us/\" title=\"Car sales statistics for the large sports car segment in the US, updated every quarter.\">US Large sports car segment</a>,\n",
       " <a href=\"http://carsalesbase.com/category/car-sales-us/car-sales-segments-us/large-suv-segment-us/\" title=\"Car sales statistics for the large SUV segment in the US, updated every quarter.\">US Large SUV segment</a>,\n",
       " <a href=\"http://carsalesbase.com/category/car-sales-us/car-sales-segments-us/limousine-segment-us/\" title=\"Car sales statistics for the limousine segment in the US, updated every quarter.\">US Limousine segment</a>,\n",
       " <a href=\"http://carsalesbase.com/category/car-sales-us/car-sales-segments-us/midsized-segment-us/\" title=\"Car sales statistics for the mid-sized car segment in the US, updated every quarter.\">US Mid-sized car segment</a>,\n",
       " <a href=\"http://carsalesbase.com/category/car-sales-us/car-sales-segments-us/midsized-suv-segment-us/\" title=\"Car sales statistics for the mid-sized SUV / crossover segment in the US, updated every quarter.\">US Mid-sized SUV segment</a>,\n",
       " <a href=\"http://carsalesbase.com/category/car-sales-us/car-sales-segments-us/minicar-segment-us/\" title=\"Car sales statistics for the minicar segment in the US, updated every quarter.\">US Minicar segment</a>,\n",
       " <a href=\"http://carsalesbase.com/category/car-sales-us/car-sales-segments-us/minivan-segment-us/\" title=\"Car sales statistics for the minivan segment in the US, updated every quarter.\">US Minivan segment</a>,\n",
       " <a href=\"http://carsalesbase.com/category/car-sales-us/car-sales-segments-us/pickup-segment-us/\" title=\"Car sales statistics for the full-sized pickup truck segment in the US, updated every quarter.\">US Pickup segment</a>,\n",
       " <a href=\"http://carsalesbase.com/category/car-sales-us/car-sales-segments-us/premium-compact-segment-us/\" title=\"Car sales statistics for the premium compact car segment in the US, updated every quarter.\">US Premium compact car segment</a>,\n",
       " <a href=\"http://carsalesbase.com/category/car-sales-us/car-sales-segments-us/premium-compact-suv-segment-us/\" title=\"Car sales statistics for the premium compact SUV / crossover segment in the US, updated every quarter.\">US Premium compact SUV segment</a>,\n",
       " <a href=\"http://carsalesbase.com/category/car-sales-us/car-sales-segments-us/premium-large-segment-us/\" title=\"Car sales statistics for the premium large car segment in the US, updated every quarter.\">US Premium large car segment</a>,\n",
       " <a href=\"http://carsalesbase.com/category/car-sales-us/car-sales-segments-us/premium-large-suv-segment-us/\" title=\"Car sales statistics for the premium large SUV segment in the US, updated every quarter.\">US Premium large SUV segment</a>,\n",
       " <a href=\"http://carsalesbase.com/category/car-sales-us/car-sales-segments-us/premium-midsized-segment-us/\" title=\"Car sales statistics for the premium mid-sized car segment in the US, updated every quarter.\">US Premium mid-sized car segment</a>,\n",
       " <a href=\"http://carsalesbase.com/category/car-sales-us/car-sales-segments-us/premium-midsized-suv-segment-us/\" title=\"Car sales statistics for the premium mid-sized SUV / crossover segment in the US, updated every quarter.\">US Premium mid-sized SUV segment</a>,\n",
       " <a href=\"http://carsalesbase.com/category/car-sales-us/car-sales-segments-us/small-pickup-segment-us/\" title=\"Car sales statistics for the small pickup truck segment in the US, updated every quarter.\">US Small pickup segment</a>,\n",
       " <a href=\"http://carsalesbase.com/category/car-sales-us/car-sales-segments-us/subcompact-segment-us/\" title=\"Car sales statistics for the subcompact car segment in the US, updated every quarter.\">US Subcompact car segment</a>,\n",
       " <a href=\"http://carsalesbase.com/category/car-sales-us/car-sales-segments-us/subcompact-suv-segment-us/\" title=\"Car sales statistics for the subcompact SUV / crossover segment in the US, updated every quarter.\">US Subcompact SUV segment</a>,\n",
       " <a href=\"http://carsalesbase.com/author/leftlane/\" title=\"Posts by Bart Demandt\">Bart Demandt</a>,\n",
       " <a href=\"http://carsalesbase.com/author/colman-murphy/\" title=\"Posts by Colman Murphy\">Colman Murphy</a>,\n",
       " <a href=\"http://carsalesbase.com/author/jean-philippe-launberg/\" title=\"Posts by Jean-Philippe Launberg\">Jean-Philippe Launberg</a>,\n",
       " <a href=\"http://carsalesbase.com/author/john-mcharris/\" title=\"Posts by John McHarris\">John McHarris</a>,\n",
       " <a href=\"http://carsalesbase.com/author/john-v-ryan-pe/\" title=\"Posts by John V. Ryan, PE\">John V. Ryan, PE</a>,\n",
       " <a href=\"http://carsalesbase.com/author/krzysztof-wozniak/\" title=\"Posts by Krzysztof Wozniak\">Krzysztof Wozniak</a>,\n",
       " <a href=\"http://carsalesbase.com/author/rutger/\" title=\"Posts by Rutger Van der Maar\">Rutger Van der Maar</a>,\n",
       " <a href=\"http://my.studiopress.com/themes/agency/\">CSB Theme</a>,\n",
       " <a href=\"https://www.studiopress.com/\">Genesis Framework</a>,\n",
       " <a href=\"https://wordpress.org/\">WordPress</a>,\n",
       " <a href=\"http://carsalesbase.com/wp-login.php\" rel=\"nofollow\">Log in</a>]"
      ]
     },
     "execution_count": 40,
     "metadata": {},
     "output_type": "execute_result"
    }
   ],
   "source": [
    "soup.find_all('a')"
   ]
  },
  {
   "cell_type": "markdown",
   "metadata": {},
   "source": [
    "Uh oh!  Looks like there are some links on the sidebar and in the footer, too.  We want only the ones in the articles so we'll need a better strategy.\n",
    "\n",
    "Digging into the source code, it turns out that each of the articles live within a `div` labeled with the class `article`.  Let's try to get those.\n",
    "\n",
    "### `class_` and `id_` \n",
    "The `find` and `find_all` methods take optional attribute arguments so you can filter down to elements with specific attributes like classes and ids."
   ]
  },
  {
   "cell_type": "code",
   "execution_count": 41,
   "metadata": {
    "ExecuteTime": {
     "end_time": "2019-11-27T22:14:00.096632Z",
     "start_time": "2019-11-27T22:13:59.895Z"
    }
   },
   "outputs": [
    {
     "data": {
      "text/plain": [
       "[]"
      ]
     },
     "execution_count": 41,
     "metadata": {},
     "output_type": "execute_result"
    }
   ],
   "source": [
    "soup.find_all('div', class_='article')"
   ]
  },
  {
   "cell_type": "markdown",
   "metadata": {},
   "source": [
    "There are our articles!  \n",
    "\n",
    "Each of these `div` elements are also soup objects, so we can now query these `div`s to drill down further to just the links."
   ]
  },
  {
   "cell_type": "code",
   "execution_count": null,
   "metadata": {
    "ExecuteTime": {
     "end_time": "2019-11-27T22:14:00.102526Z",
     "start_time": "2019-11-27T22:13:59.902Z"
    }
   },
   "outputs": [],
   "source": [
    "for div in soup.find_all('div', class_='article'):\n",
    "    for link in div.find_all('a'):\n",
    "        print(link)"
   ]
  },
  {
   "cell_type": "markdown",
   "metadata": {},
   "source": [
    "Excellent!  What if we want to print out the link text and the url it points to?\n",
    "\n",
    "\n",
    "### `.get()`\n",
    "The `get` method allows you access to any attribute of the element."
   ]
  },
  {
   "cell_type": "code",
   "execution_count": null,
   "metadata": {
    "ExecuteTime": {
     "end_time": "2019-11-27T22:14:00.107695Z",
     "start_time": "2019-11-27T22:13:59.912Z"
    }
   },
   "outputs": [],
   "source": [
    "for div in soup.find_all('div', class_='article'):\n",
    "    for link in div.find_all('a'):\n",
    "        print(f'{link.text:20s} ---> {link.get(\"href\")}')"
   ]
  },
  {
   "cell_type": "markdown",
   "metadata": {},
   "source": [
    "## Scrape the Web\n",
    "\n",
    "So far we've used BeautifulSoup to parse our own HTML strings and files.  Now let's scrape Box Office Mojo.\n",
    "\n",
    "First let's take a look at some source code for _The Big Lebowski_.\n",
    "\n",
    "- Navigate to https://www.boxofficemojo.com/title/tt0118715/ in your browser, preferably Chrome\n",
    "- Right click and select \"Inspect\"\n",
    "- Alternatively, you can \"View Page Source\"\n",
    "\n",
    "To retrieve the HTML for this webpage, we will use `requests`.\n",
    "\n",
    "### `requests`\n",
    "\n",
    "The `requests` library allows us to grab information from the web.  There are two common types of requests:\n",
    "- `get` -- simply requests information, akin to putting a url in your browser\n",
    "- `post` -- sends information to the website, for example, writing an email\n",
    "\n",
    "We will be using `get` to retrieve a page's HTML."
   ]
  },
  {
   "cell_type": "code",
   "execution_count": null,
   "metadata": {
    "ExecuteTime": {
     "end_time": "2019-11-27T22:14:00.114605Z",
     "start_time": "2019-11-27T22:13:59.922Z"
    }
   },
   "outputs": [],
   "source": [
    "url = 'https://en.wikipedia.org/wiki/Car_dealership'\n",
    "\n",
    "response = requests.get(url)"
   ]
  },
  {
   "cell_type": "markdown",
   "metadata": {},
   "source": [
    "The response we got back is an object that gives us access to:\n",
    "- `response.text` -- the returned HTML (if any)\n",
    "- `response.json` -- the returned JSON (if any), typical for APIs\n",
    "- `response.status_code` -- a [code](https://en.wikipedia.org/wiki/List_of_HTTP_status_codes) to tell you if your request was successful or if an error occurred, 2XX indicates success while 404 means not found"
   ]
  },
  {
   "cell_type": "code",
   "execution_count": null,
   "metadata": {
    "ExecuteTime": {
     "end_time": "2019-11-27T22:14:00.118688Z",
     "start_time": "2019-11-27T22:13:59.930Z"
    }
   },
   "outputs": [],
   "source": [
    "response.status_code  #200 = success!"
   ]
  },
  {
   "cell_type": "code",
   "execution_count": null,
   "metadata": {
    "ExecuteTime": {
     "end_time": "2019-11-27T22:14:00.122124Z",
     "start_time": "2019-11-27T22:13:59.933Z"
    }
   },
   "outputs": [],
   "source": [
    "response.text[:1000]  #First 1000 characters of the HTML"
   ]
  },
  {
   "cell_type": "code",
   "execution_count": null,
   "metadata": {
    "ExecuteTime": {
     "end_time": "2019-11-27T22:14:00.125966Z",
     "start_time": "2019-11-27T22:13:59.935Z"
    }
   },
   "outputs": [],
   "source": [
    "page = response.text"
   ]
  },
  {
   "cell_type": "markdown",
   "metadata": {},
   "source": [
    "### `BeautifulSoup` Basics\n",
    "\n",
    "Now that we have the HTML, let's learn its structure by parsing with BeautifulSoup."
   ]
  },
  {
   "cell_type": "code",
   "execution_count": null,
   "metadata": {
    "ExecuteTime": {
     "end_time": "2019-11-27T22:14:00.133008Z",
     "start_time": "2019-11-27T22:13:59.945Z"
    }
   },
   "outputs": [],
   "source": [
    "soup = BeautifulSoup(page, \"lxml\")"
   ]
  },
  {
   "cell_type": "code",
   "execution_count": null,
   "metadata": {
    "ExecuteTime": {
     "end_time": "2019-11-27T22:14:00.137230Z",
     "start_time": "2019-11-27T22:13:59.947Z"
    }
   },
   "outputs": [],
   "source": [
    "print(soup)"
   ]
  },
  {
   "cell_type": "markdown",
   "metadata": {},
   "source": [
    "The `prettify` method turns the soup into a nicely formatted Unicode string with one tag on each line for readability."
   ]
  },
  {
   "cell_type": "code",
   "execution_count": null,
   "metadata": {
    "ExecuteTime": {
     "end_time": "2019-11-27T22:14:00.143509Z",
     "start_time": "2019-11-27T22:13:59.955Z"
    }
   },
   "outputs": [],
   "source": [
    "print(soup.prettify())"
   ]
  },
  {
   "cell_type": "markdown",
   "metadata": {},
   "source": [
    "**QUESTIONS**\n",
    "\n",
    "> Select the first link on the page."
   ]
  },
  {
   "cell_type": "code",
   "execution_count": null,
   "metadata": {},
   "outputs": [],
   "source": [
    "x=[]\n",
    "x=soup.find_all('a')"
   ]
  },
  {
   "cell_type": "markdown",
   "metadata": {},
   "source": [
    "> Now select the LAST link on the page.  Can you get the text and the URL associated with this link?"
   ]
  },
  {
   "cell_type": "code",
   "execution_count": null,
   "metadata": {},
   "outputs": [],
   "source": [
    "x[-1]"
   ]
  },
  {
   "cell_type": "code",
   "execution_count": null,
   "metadata": {},
   "outputs": [],
   "source": []
  },
  {
   "cell_type": "code",
   "execution_count": null,
   "metadata": {},
   "outputs": [],
   "source": []
  },
  {
   "cell_type": "markdown",
   "metadata": {},
   "source": [
    "Remember `find` gets only one match, but `find_all` retrieves all matches in a list."
   ]
  },
  {
   "cell_type": "code",
   "execution_count": null,
   "metadata": {
    "ExecuteTime": {
     "end_time": "2019-11-27T22:14:00.147863Z",
     "start_time": "2019-11-27T22:13:59.986Z"
    }
   },
   "outputs": [],
   "source": [
    "for link in soup.find_all('a')[:5]:\n",
    "    print(link, '\\n')"
   ]
  },
  {
   "cell_type": "markdown",
   "metadata": {},
   "source": [
    "And you can match only those with a specific `id` or `class` if you'd like.  Here are all the elements labeled with the \"mojo-navigtaion-tab\" class."
   ]
  },
  {
   "cell_type": "code",
   "execution_count": null,
   "metadata": {
    "ExecuteTime": {
     "end_time": "2019-11-27T22:14:00.151470Z",
     "start_time": "2019-11-27T22:13:59.997Z"
    }
   },
   "outputs": [],
   "source": [
    "for element in soup.find_all(class_='mojo-navigation-tab'):\n",
    "    print(element.prettify())"
   ]
  },
  {
   "cell_type": "markdown",
   "metadata": {},
   "source": [
    "It's important to remember `find` and `find_all` return BeautifulSoup elements. You can continue searching these elements, thus chaining commands together.\n",
    "\n",
    "Basic earnings information can be found in the `div` with the \"mojo-performance-summary-table\" class.  Let's extract the domestic gross from this element.\n",
    "\n",
    "<br>\n",
    "<img src=\"images/biglebow_table.png\" alt=\"Big Lebowski Table\" style=\"width: 500px;\"/>"
   ]
  },
  {
   "cell_type": "code",
   "execution_count": null,
   "metadata": {
    "ExecuteTime": {
     "end_time": "2019-11-27T22:14:00.154547Z",
     "start_time": "2019-11-27T22:14:00.007Z"
    }
   },
   "outputs": [],
   "source": [
    "print(soup.find(class_='mojo-performance-summary-table').prettify())"
   ]
  },
  {
   "cell_type": "code",
   "execution_count": null,
   "metadata": {
    "ExecuteTime": {
     "end_time": "2019-11-27T22:14:00.158500Z",
     "start_time": "2019-11-27T22:14:00.010Z"
    }
   },
   "outputs": [],
   "source": [
    "soup.find(class_='mojo-performance-summary-table').find_all('span', class_='money')"
   ]
  },
  {
   "cell_type": "markdown",
   "metadata": {},
   "source": [
    "Text needs to be extracted from one element at a time.  To get the domestic gross:"
   ]
  },
  {
   "cell_type": "code",
   "execution_count": null,
   "metadata": {
    "ExecuteTime": {
     "end_time": "2019-11-27T22:14:00.283698Z",
     "start_time": "2019-11-27T22:14:00.266844Z"
    }
   },
   "outputs": [],
   "source": [
    "soup.find(class_='mojo-performance-summary-table').find_all('span', class_='money')[0].text"
   ]
  },
  {
   "cell_type": "markdown",
   "metadata": {},
   "source": [
    "You can also find using an `id`; remember id should be unique to just one element."
   ]
  },
  {
   "cell_type": "code",
   "execution_count": null,
   "metadata": {
    "ExecuteTime": {
     "end_time": "2019-11-27T22:14:00.293048Z",
     "start_time": "2019-11-27T22:14:00.039Z"
    },
    "scrolled": true
   },
   "outputs": [],
   "source": [
    "print(soup.find(id='tabs').prettify())"
   ]
  },
  {
   "cell_type": "markdown",
   "metadata": {},
   "source": [
    "### Web Scraping Pipeline\n",
    "\n",
    "Now that we have the basics, let's practice web scraping.  **The main goal of web scraping is to extract data by taking advantage of a site's consistent format.**  That is, the code you write for one page on a website can hopefully be used on multiple pages to gather more information automatically.\n",
    "\n",
    "Let's create code to get the following information for the movies on Box Office Mojo:\n",
    "- Movie title\n",
    "- Domestic gross\n",
    "- Runtime\n",
    "- MPAA rating\n",
    "- Release date"
   ]
  },
  {
   "cell_type": "markdown",
   "metadata": {},
   "source": [
    "#### Movie Title"
   ]
  },
  {
   "cell_type": "code",
   "execution_count": null,
   "metadata": {
    "ExecuteTime": {
     "end_time": "2019-11-27T22:14:00.299455Z",
     "start_time": "2019-11-27T22:14:00.065Z"
    }
   },
   "outputs": [],
   "source": [
    "soup.find('title')"
   ]
  },
  {
   "cell_type": "code",
   "execution_count": null,
   "metadata": {
    "ExecuteTime": {
     "end_time": "2019-11-27T22:14:00.303669Z",
     "start_time": "2019-11-27T22:14:00.069Z"
    }
   },
   "outputs": [],
   "source": [
    "title_string = soup.find('title').text\n",
    "\n",
    "title_string"
   ]
  },
  {
   "cell_type": "code",
   "execution_count": null,
   "metadata": {
    "ExecuteTime": {
     "end_time": "2019-11-27T22:14:00.306661Z",
     "start_time": "2019-11-27T22:14:00.073Z"
    }
   },
   "outputs": [],
   "source": [
    "title_string.split('-')"
   ]
  },
  {
   "cell_type": "code",
   "execution_count": null,
   "metadata": {
    "ExecuteTime": {
     "end_time": "2019-11-27T22:14:00.308637Z",
     "start_time": "2019-11-27T22:14:00.078Z"
    }
   },
   "outputs": [],
   "source": [
    "title = title_string.split('-')[0].strip()\n",
    "\n",
    "title"
   ]
  },
  {
   "cell_type": "markdown",
   "metadata": {},
   "source": [
    "#### Domestic Gross: \n",
    "\n",
    "As we saw previously, the domestic gross can be found in a `span` within the \"mojo-performance-summary-table\" `div`."
   ]
  },
  {
   "cell_type": "code",
   "execution_count": null,
   "metadata": {
    "ExecuteTime": {
     "end_time": "2019-11-27T22:14:00.311354Z",
     "start_time": "2019-11-27T22:14:00.093Z"
    }
   },
   "outputs": [],
   "source": [
    "dtg = soup.find(class_='mojo-performance-summary-table').find_all('span', class_='money')[0].text\n",
    "dtg"
   ]
  },
  {
   "cell_type": "markdown",
   "metadata": {},
   "source": [
    "The remainder of the information lives in this neighboring `div`."
   ]
  },
  {
   "cell_type": "markdown",
   "metadata": {},
   "source": [
    "<img src=\"images/biglebow_info.png\" alt=\"Big Lebowski Information\" style=\"width: 500px;\"/>"
   ]
  },
  {
   "cell_type": "markdown",
   "metadata": {},
   "source": [
    "#### Runtime: `.findNext()`\n",
    "\n",
    "Sometimes you can find the information you are looking for by using text matching.  But note this must be an exact match!"
   ]
  },
  {
   "cell_type": "code",
   "execution_count": null,
   "metadata": {
    "ExecuteTime": {
     "end_time": "2019-11-27T22:14:00.316173Z",
     "start_time": "2019-11-27T22:14:00.145Z"
    }
   },
   "outputs": [],
   "source": [
    "soup.find(text='Run')  #does not match"
   ]
  },
  {
   "cell_type": "code",
   "execution_count": null,
   "metadata": {
    "ExecuteTime": {
     "end_time": "2019-11-27T22:14:00.320001Z",
     "start_time": "2019-11-27T22:14:00.162Z"
    }
   },
   "outputs": [],
   "source": [
    "soup.find(text='Running Time')  "
   ]
  },
  {
   "cell_type": "markdown",
   "metadata": {},
   "source": [
    "Alternatively, we could use [regular expressions](https://docs.python.org/3/library/re.html)."
   ]
  },
  {
   "cell_type": "code",
   "execution_count": null,
   "metadata": {
    "ExecuteTime": {
     "end_time": "2019-11-27T22:14:00.324016Z",
     "start_time": "2019-11-27T22:14:00.179Z"
    }
   },
   "outputs": [],
   "source": [
    "import re\n",
    "runtime_regex = re.compile('Run')\n",
    "soup.find(text=runtime_regex)"
   ]
  },
  {
   "cell_type": "code",
   "execution_count": null,
   "metadata": {
    "ExecuteTime": {
     "end_time": "2019-11-27T22:14:00.327979Z",
     "start_time": "2019-11-27T22:14:00.182Z"
    }
   },
   "outputs": [],
   "source": [
    "rt_string = soup.find(text=re.compile('Run'))\n",
    "print(rt_string)"
   ]
  },
  {
   "cell_type": "code",
   "execution_count": null,
   "metadata": {
    "ExecuteTime": {
     "end_time": "2019-11-27T22:14:00.332583Z",
     "start_time": "2019-11-27T22:14:00.188Z"
    }
   },
   "outputs": [],
   "source": [
    "type(rt_string)"
   ]
  },
  {
   "cell_type": "markdown",
   "metadata": {},
   "source": [
    "The string we found is still a Beautiful Soup element. This means we can use it to navigate to the next element in the HTML, which is a `span` containing the actual runtime."
   ]
  },
  {
   "cell_type": "code",
   "execution_count": null,
   "metadata": {
    "ExecuteTime": {
     "end_time": "2019-11-27T22:14:00.338179Z",
     "start_time": "2019-11-27T22:14:00.206Z"
    }
   },
   "outputs": [],
   "source": [
    "rt_string.findNext()"
   ]
  },
  {
   "cell_type": "markdown",
   "metadata": {},
   "source": [
    "The `.findNext()` method can be incredibly useful when the information you want to find doesn't have a obvious tag, class, id, etc.\n",
    "\n",
    "Let's clean this value up into usable data."
   ]
  },
  {
   "cell_type": "code",
   "execution_count": null,
   "metadata": {
    "ExecuteTime": {
     "end_time": "2019-11-27T22:14:00.341525Z",
     "start_time": "2019-11-27T22:14:00.218Z"
    }
   },
   "outputs": [],
   "source": [
    "rt = rt_string.findNext().text\n",
    "rt = rt.split()\n",
    "minutes = int(rt[0])*60 + int(rt[2])\n",
    "print(minutes)"
   ]
  },
  {
   "cell_type": "markdown",
   "metadata": {},
   "source": [
    "#### MPAA Rating, Release Date\n",
    "\n",
    "_**STEP 1:** Create function to grab values_ \n",
    "\n",
    "The text matching method can also help us get runtime, rating, and release date, so let's make a reuable function."
   ]
  },
  {
   "cell_type": "code",
   "execution_count": null,
   "metadata": {
    "ExecuteTime": {
     "end_time": "2019-11-27T22:14:00.345291Z",
     "start_time": "2019-11-27T22:14:00.232Z"
    }
   },
   "outputs": [],
   "source": [
    "def get_movie_value(soup, field_name):\n",
    "    \n",
    "    '''Grab a value from Box Office Mojo HTML\n",
    "    \n",
    "    Takes a string attribute of a movie on the page and returns the string in\n",
    "    the next sibling object (the value for that attribute) or None if nothing is found.\n",
    "    '''\n",
    "    \n",
    "    obj = soup.find(text=re.compile(field_name))\n",
    "    \n",
    "    if not obj: \n",
    "        return None\n",
    "    \n",
    "    # this works for most of the values\n",
    "    next_element = obj.findNext()\n",
    "    \n",
    "    if next_element:\n",
    "        return next_element.text \n",
    "    else:\n",
    "        return None"
   ]
  },
  {
   "cell_type": "code",
   "execution_count": null,
   "metadata": {
    "ExecuteTime": {
     "end_time": "2019-11-27T22:14:00.350096Z",
     "start_time": "2019-11-27T22:14:00.238Z"
    }
   },
   "outputs": [],
   "source": [
    "# runtime\n",
    "runtime = get_movie_value(soup,'Run')\n",
    "print(runtime)"
   ]
  },
  {
   "cell_type": "code",
   "execution_count": null,
   "metadata": {
    "ExecuteTime": {
     "end_time": "2019-11-27T22:14:00.354712Z",
     "start_time": "2019-11-27T22:14:00.241Z"
    }
   },
   "outputs": [],
   "source": [
    "# rating\n",
    "rating = get_movie_value(soup,'MPAA')\n",
    "print(rating)"
   ]
  },
  {
   "cell_type": "code",
   "execution_count": null,
   "metadata": {
    "ExecuteTime": {
     "end_time": "2019-11-27T22:14:00.359269Z",
     "start_time": "2019-11-27T22:14:00.247Z"
    }
   },
   "outputs": [],
   "source": [
    "release_date = get_movie_value(soup,'Release Date')\n",
    "print(release_date)"
   ]
  },
  {
   "cell_type": "code",
   "execution_count": null,
   "metadata": {
    "ExecuteTime": {
     "end_time": "2019-11-27T22:14:00.364377Z",
     "start_time": "2019-11-27T22:14:00.252Z"
    }
   },
   "outputs": [],
   "source": [
    "release_date = release_date.split('\\n')[0]  #Select the only the date\n",
    "print(release_date)"
   ]
  },
  {
   "cell_type": "markdown",
   "metadata": {},
   "source": [
    "_**STEP 2:** Create helper functions to parse strings into appropriate data types_\n",
    "\n",
    "The returned values all need a bit of formatting before we can work with this data.  Here are a few helper functions."
   ]
  },
  {
   "cell_type": "code",
   "execution_count": null,
   "metadata": {
    "ExecuteTime": {
     "end_time": "2019-11-27T22:14:00.368832Z",
     "start_time": "2019-11-27T22:14:00.265Z"
    }
   },
   "outputs": [],
   "source": [
    "import dateutil.parser\n",
    "\n",
    "def money_to_int(moneystring):\n",
    "    moneystring = moneystring.replace('$', '').replace(',', '')\n",
    "    return int(moneystring)\n",
    "\n",
    "def runtime_to_minutes(runtimestring):\n",
    "    runtime = runtimestring.split()\n",
    "    try:\n",
    "        minutes = int(runtime[0])*60 + int(runtime[2])\n",
    "        return minutes\n",
    "    except:\n",
    "        return None\n",
    "\n",
    "def to_date(datestring):\n",
    "    date = dateutil.parser.parse(datestring)\n",
    "    return date"
   ]
  },
  {
   "cell_type": "markdown",
   "metadata": {},
   "source": [
    "_**STEP 3:** Apply these conversions_\n",
    "\n",
    "Let's get these values again and format them all in one swoop. (Note: Rating is already correct as a string.)"
   ]
  },
  {
   "cell_type": "code",
   "execution_count": null,
   "metadata": {
    "ExecuteTime": {
     "end_time": "2019-11-27T22:14:00.494218Z",
     "start_time": "2019-11-27T22:14:00.479650Z"
    }
   },
   "outputs": [],
   "source": [
    "raw_domestic_total_gross = dtg\n",
    "domestic_total_gross = money_to_int(raw_domestic_total_gross)\n",
    "\n",
    "raw_runtime = get_movie_value(soup,'Running')\n",
    "runtime = runtime_to_minutes(raw_runtime)\n",
    "\n",
    "raw_release_date = get_movie_value(soup,'Release Date').split('\\n')[0]\n",
    "release_date = to_date(raw_release_date)"
   ]
  },
  {
   "cell_type": "markdown",
   "metadata": {},
   "source": [
    "#### Put Results in Dictionary\n",
    "\n",
    "Now that we have results for all five quantities, we can store them in a dictionary."
   ]
  },
  {
   "cell_type": "code",
   "execution_count": null,
   "metadata": {
    "ExecuteTime": {
     "end_time": "2019-11-27T22:14:00.497551Z",
     "start_time": "2019-11-27T22:14:00.305Z"
    }
   },
   "outputs": [],
   "source": [
    "headers = ['movie title', 'domestic total gross',\n",
    "           'runtime (mins)', 'rating', 'release date']\n",
    "\n",
    "movie_data = []\n",
    "movie_dict = dict(zip(headers, [title,\n",
    "                                domestic_total_gross,\n",
    "                                runtime,\n",
    "                                rating, \n",
    "                                release_date]))\n",
    "\n",
    "movie_data.append(movie_dict)\n",
    "movie_data"
   ]
  },
  {
   "cell_type": "markdown",
   "metadata": {},
   "source": [
    "**QUESTION**\n",
    "\n",
    "> Why might we want to store these data in a dictionary?  Why did we put the dictionary in a list?"
   ]
  },
  {
   "cell_type": "markdown",
   "metadata": {},
   "source": [
    "### Scraping Tables\n",
    "\n",
    "Let's take a look at the [top G-rated movies](https://www.boxofficemojo.com/chart/mpaa_title_lifetime_gross/?by_mpaa=G) of Box Office Mojo.  How could we pull all the data from this main page?\n",
    "\n",
    "First request the HTML and parse it with Beautiful Soup."
   ]
  },
  {
   "cell_type": "code",
   "execution_count": null,
   "metadata": {
    "ExecuteTime": {
     "end_time": "2019-11-27T22:14:00.500634Z",
     "start_time": "2019-11-27T22:14:00.326Z"
    }
   },
   "outputs": [],
   "source": [
    "url = 'https://www.boxofficemojo.com/chart/mpaa_title_lifetime_gross/?by_mpaa=G'\n",
    "\n",
    "response = requests.get(url)\n",
    "page = response.text\n",
    "\n",
    "soup = BeautifulSoup(page,\"lxml\")"
   ]
  },
  {
   "cell_type": "markdown",
   "metadata": {},
   "source": [
    "Now find the main table; its the only `table` on the page."
   ]
  },
  {
   "cell_type": "code",
   "execution_count": null,
   "metadata": {
    "ExecuteTime": {
     "end_time": "2019-11-27T22:14:00.504625Z",
     "start_time": "2019-11-27T22:14:00.339Z"
    }
   },
   "outputs": [],
   "source": [
    "table = soup.find('table')\n",
    "table"
   ]
  },
  {
   "cell_type": "code",
   "execution_count": null,
   "metadata": {
    "ExecuteTime": {
     "end_time": "2019-11-27T22:14:00.507480Z",
     "start_time": "2019-11-27T22:14:00.343Z"
    }
   },
   "outputs": [],
   "source": [
    "rows = [row for row in table.find_all('tr')]  # tr tag is for rows"
   ]
  },
  {
   "cell_type": "markdown",
   "metadata": {},
   "source": [
    "Each row contains the information we want but requires more parsing."
   ]
  },
  {
   "cell_type": "code",
   "execution_count": null,
   "metadata": {
    "ExecuteTime": {
     "end_time": "2019-11-27T22:14:00.511185Z",
     "start_time": "2019-11-27T22:14:00.353Z"
    }
   },
   "outputs": [],
   "source": [
    "rows[1]"
   ]
  },
  {
   "cell_type": "markdown",
   "metadata": {},
   "source": [
    "Remember: you can chain methods together to look for information!"
   ]
  },
  {
   "cell_type": "code",
   "execution_count": null,
   "metadata": {
    "ExecuteTime": {
     "end_time": "2019-11-27T22:14:00.513681Z",
     "start_time": "2019-11-27T22:14:00.363Z"
    }
   },
   "outputs": [],
   "source": [
    "rows[1].find_all('td')[0].find('a')['href']"
   ]
  },
  {
   "cell_type": "markdown",
   "metadata": {},
   "source": [
    "Now grab data for the first 5 movies with a loop."
   ]
  },
  {
   "cell_type": "code",
   "execution_count": null,
   "metadata": {
    "ExecuteTime": {
     "end_time": "2019-11-27T22:14:00.515464Z",
     "start_time": "2019-11-27T22:14:00.373Z"
    }
   },
   "outputs": [],
   "source": [
    "movies = {}\n",
    "\n",
    "for row in rows[1:6]:\n",
    "    items = row.find_all('td')\n",
    "    link = items[0].find('a')\n",
    "    title, url = link.text, link['href']\n",
    "    movies[title] = [url] + [i.text for i in items]\n",
    "    \n",
    "movies"
   ]
  },
  {
   "cell_type": "markdown",
   "metadata": {},
   "source": [
    "## Recap\n",
    "\n",
    "- Beautiful Soup is a powerful HTML parser\n",
    "- You can locate one element with `.find()` or all matching elements with `.find_all()`\n",
    "- To select specific elements, you can filter by tags like `class` or `id` \n",
    "- You can also find items using text matching and `.findNext()`, `.findNextSibling()`, `.findChild()`, etc.\n",
    "\n",
    "### Limitations\n",
    "Beautiful Soup has its limitations though.  For example, we can't use Beautiful Soup if a page:\n",
    "- Requires us to input a password\n",
    "- Reveals information we want only when we interact with it\n",
    "- Generates dynamically (with JavaScript) rather than statically serving HTML\n",
    "\n",
    "For these situations we need a different tool, like **Selenium** -- coming soon!"
   ]
  },
  {
   "cell_type": "code",
   "execution_count": null,
   "metadata": {},
   "outputs": [],
   "source": []
  }
 ],
 "metadata": {
  "kernelspec": {
   "display_name": "Python [conda env:metis] *",
   "language": "python",
   "name": "conda-env-metis-py"
  },
  "language_info": {
   "codemirror_mode": {
    "name": "ipython",
    "version": 3
   },
   "file_extension": ".py",
   "mimetype": "text/x-python",
   "name": "python",
   "nbconvert_exporter": "python",
   "pygments_lexer": "ipython3",
   "version": "3.7.4"
  }
 },
 "nbformat": 4,
 "nbformat_minor": 2
}
